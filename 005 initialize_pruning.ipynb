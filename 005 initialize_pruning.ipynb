{
 "cells": [
  {
   "cell_type": "code",
   "execution_count": 1,
   "metadata": {},
   "outputs": [],
   "source": [
    "import my_utils.loadModel as lm\n",
    "import torch"
   ]
  },
  {
   "cell_type": "code",
   "execution_count": 2,
   "metadata": {},
   "outputs": [],
   "source": [
    "def getBlockList(modelname):\n",
    "    blocks = []\n",
    "    if modelname == 'vgg11':\n",
    "        blocks    = [1, 1, 2, 2, 2]\n",
    "\n",
    "    if modelname == 'vgg11bn':\n",
    "        blocks    = [1, 1, 2, 2, 2]        #prunelist = [0, 3, 6,8, 11,13, 16,18]\n",
    "\n",
    "    if modelname == 'vgg13':\n",
    "        blocks    = [2, 2, 2, 2, 2]\n",
    "\n",
    "    if modelname == 'vgg13bn':\n",
    "        blocks    = [2, 2, 2, 2, 2]\n",
    "\n",
    "    if modelname == 'vgg16':\n",
    "        blocks    = [2, 2, 3, 3, 3]\n",
    "\n",
    "    if modelname == 'vgg16bn':\n",
    "        blocks    = [2, 2, 3, 3, 3]\n",
    "    return blocks\n"
   ]
  },
  {
   "cell_type": "code",
   "execution_count": 3,
   "metadata": {},
   "outputs": [],
   "source": [
    "def getFeatureList(modelname):\n",
    "    feature_list = []\n",
    "    \n",
    "    if modelname == 'vgg11':\n",
    "        #blocks    = [1, 1, 2, 2, 2]\n",
    "        feature_list = [0, 3, 6,8, 11,13, 16,18]\n",
    "\n",
    "    if modelname == 'vgg11bn':\n",
    "        #blocks    = [1, 1, 2, 2, 2]\n",
    "        feature_list = [0, 3, 6,8, 11,13, 16,18]\n",
    "\n",
    "    if modelname == 'vgg13':\n",
    "        #blocks    = [2, 2, 2, 2, 2]\n",
    "        feature_list = [0,2, 5,7, 10,12, 15,17, 20,22]\n",
    "\n",
    "    if modelname == 'vgg13bn':\n",
    "        #blocks    = [2, 2, 2, 2, 2]\n",
    "        feature_list = [0,2, 5,7, 10,12, 15,17, 20,22]\n",
    "\n",
    "    if modelname == 'vgg16':\n",
    "        #blocks    = [2, 2, 3, 3, 3]\n",
    "        feature_list = [0,2, 5,7, 10,12,14, 17,19,21, 24,26,28]\n",
    "\n",
    "    if modelname == 'vgg16bn':\n",
    "        #blocks    = [2, 2, 3, 3, 3]\n",
    "        feature_list = [0,2, 5,7, 10,12,14, 17,19,21, 24,26,28]\n",
    "    return feature_list"
   ]
  },
  {
   "cell_type": "code",
   "execution_count": 4,
   "metadata": {},
   "outputs": [],
   "source": [
    "def getPruneModule(newModel,prunelist):\n",
    "    module = []\n",
    "    for i in prunelist:\n",
    "        module.append(newModel.features[i])\n",
    "    return module        "
   ]
  },
  {
   "cell_type": "code",
   "execution_count": 5,
   "metadata": {},
   "outputs": [],
   "source": [
    "def getPruneCount(module,blocks,maxpr):\n",
    "    j=0\n",
    "    count = 0\n",
    "    prune_prob = []\n",
    "    prune_count = []\n",
    "    for i in range(len(module)):\n",
    "        if(count<blocks[j]):\n",
    "            frac = 5-j\n",
    "        else:\n",
    "            count=0\n",
    "            j+=1\n",
    "            frac = 5-j\n",
    "        prune_prob.append(maxpr/frac)    \n",
    "        count+=1\n",
    "    for i in range(len(Module)):\n",
    "        size = Module[i]._parameters['weight'].shape\n",
    "        c = int(round(size[0]*prune_prob[i]))\n",
    "        prune_count.append(c)\n",
    "    return prune_count"
   ]
  },
  {
   "cell_type": "code",
   "execution_count": 6,
   "metadata": {},
   "outputs": [
    {
     "name": "stdout",
     "output_type": "stream",
     "text": [
      "VGG16 Loaded\n",
      "Linear(in_features=4096, out_features=1000, bias=True)\n",
      "prune list = [0, 2, 5, 7, 10, 12, 14, 17, 19, 21, 24, 26, 28] \n",
      "vgg net block = [2, 2, 3, 3, 3] \n",
      "Prune Count = [1, 1, 2, 2, 4, 4, 4, 13, 13, 13, 26, 26, 26]\n"
     ]
    }
   ],
   "source": [
    "model = lm.load_model(model_name='vgg16',number_of_class=6)\n",
    "\n",
    "prunelist = getFeatureList('vgg16')\n",
    "blocks = getBlockList('vgg16')\n",
    "\n",
    "Module = getPruneModule(model,prunelist)\n",
    "prune_count = getPruneCount(module=Module,blocks=blocks, maxpr=.05)\n",
    "\n",
    "print(f\"prune list = {prunelist} \\nvgg net block = {blocks} \\nPrune Count = {prune_count}\")"
   ]
  }
 ],
 "metadata": {
  "kernelspec": {
   "display_name": "Python 3",
   "language": "python",
   "name": "python3"
  },
  "language_info": {
   "codemirror_mode": {
    "name": "ipython",
    "version": 3
   },
   "file_extension": ".py",
   "mimetype": "text/x-python",
   "name": "python",
   "nbconvert_exporter": "python",
   "pygments_lexer": "ipython3",
   "version": "3.8.5"
  }
 },
 "nbformat": 4,
 "nbformat_minor": 5
}
