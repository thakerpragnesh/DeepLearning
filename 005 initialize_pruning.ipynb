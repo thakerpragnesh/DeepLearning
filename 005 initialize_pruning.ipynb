{
 "cells": [
  {
   "cell_type": "code",
   "execution_count": 1,
   "id": "51c9420c",
   "metadata": {},
   "outputs": [],
   "source": [
    "import my_utils.loadModel as lm\n",
    "import torch"
   ]
  },
  {
   "cell_type": "markdown",
   "id": "2bb97db5",
   "metadata": {},
   "source": [
    "### block list will give you number of convolution layer layer in each layer"
   ]
  },
  {
   "cell_type": "code",
   "execution_count": 2,
   "id": "0aed3eb8",
   "metadata": {},
   "outputs": [],
   "source": [
    "vgg11 = [64, \"M\", 128, \"M\", 256, 256, \"M\", 512, 512, \"M\", 512, 512, \"M\"],\n",
    "vgg13 = [64, 64, \"M\", 128, 128, \"M\", 256, 256, \"M\", 512, 512, \"M\", 512, 512, \"M\"],\n",
    "vgg16 = [64, 64, \"M\", 128, 128, \"M\", 256, 256, 256, \"M\", 512, 512, 512, \"M\", 512, 512, 512, \"M\"],\n",
    "vgg19 = [64, 64, \"M\", 128, 128, \"M\", 256, 256, 256, 256, \"M\", 512, 512, 512, 512, \"M\", 512, 512, 512, 512, \"M\"],"
   ]
  },
  {
   "cell_type": "code",
   "execution_count": 3,
   "id": "a1b60c42",
   "metadata": {},
   "outputs": [],
   "source": [
    "def getBlockList(modelname):\n",
    "    blocks = []\n",
    "    if modelname == 'vgg11':\n",
    "        blocks    = [1, 1, 2, 2, 2]\n",
    "\n",
    "    if modelname == 'vgg11bn':\n",
    "        blocks    = [1, 1, 2, 2, 2]        #prunelist = [0, 3, 6,8, 11,13, 16,18]\n",
    "\n",
    "    if modelname == 'vgg13':\n",
    "        blocks    = [2, 2, 2, 2, 2]\n",
    "\n",
    "    if modelname == 'vgg13bn':\n",
    "        blocks    = [2, 2, 2, 2, 2]\n",
    "\n",
    "    if modelname == 'vgg16':\n",
    "        blocks    = [2, 2, 3, 3, 3]\n",
    "\n",
    "    if modelname == 'vgg16bn':\n",
    "        blocks    = [2, 2, 3, 3, 3]\n",
    "    return blocks\n"
   ]
  },
  {
   "cell_type": "code",
   "execution_count": 4,
   "id": "dd47a1d1",
   "metadata": {},
   "outputs": [],
   "source": [
    "def createBlockList(newModel):\n",
    "    blockList = []\n",
    "    count = 0\n",
    "    for i in range(len(newModel.features)):\n",
    "        if str(newModel.features[i]).find('Conv') != -1:\n",
    "            count+=1\n",
    "        elif str(newModel.features[i]).find('Pool') != -1:\n",
    "            blockList.append(count)\n",
    "            count = 0\n",
    "    return blockList"
   ]
  },
  {
   "cell_type": "markdown",
   "id": "b8781d2f",
   "metadata": {},
   "source": [
    "### Indices of conv layer in vgg11/13/16 are store in this list"
   ]
  },
  {
   "cell_type": "code",
   "execution_count": 5,
   "id": "a4cbf1fb",
   "metadata": {},
   "outputs": [],
   "source": [
    "def getConvIndex(modelname):\n",
    "    feature_list = []\n",
    "    \n",
    "    if modelname == 'vgg11':\n",
    "        feature_list = [0, 3, 6,8, 11,13, 16,18]\n",
    "\n",
    "    if modelname == 'vgg11bn':\n",
    "        feature_list = [0, 4, 8,11, 15,18, 22,25]\n",
    "\n",
    "    if modelname == 'vgg13':\n",
    "        feature_list = [0,2, 5,7, 10,12, 15,17, 20,22]\n",
    "\n",
    "    if modelname == 'vgg13bn':\n",
    "        feature_list = [0,3, 7,10, 14,17, 21,24, 28,31]\n",
    "\n",
    "    if modelname == 'vgg16':\n",
    "        feature_list = [0,2, 5,7, 10,12,14, 17,19,21, 24,26,28]\n",
    "\n",
    "    if modelname == 'vgg16bn':\n",
    "        feature_list = [0,3, 7,10, 14,17,20, 24,27,30, 34,37,40]\n",
    "    return feature_list"
   ]
  },
  {
   "cell_type": "code",
   "execution_count": 6,
   "id": "f305b8b5",
   "metadata": {},
   "outputs": [],
   "source": [
    "def findConvIndex(newModel):\n",
    "    convListIdx = []\n",
    "    for i in range(len(newModel.features)):\n",
    "        if str(newModel.features[i]).find('Conv') != -1:\n",
    "            convListIdx.append(i)\n",
    "    return convListIdx"
   ]
  },
  {
   "cell_type": "code",
   "execution_count": 7,
   "id": "aa4c2907",
   "metadata": {},
   "outputs": [],
   "source": [
    "def getFeatureList(modelname):\n",
    "    if modelname == 'vgg11':\n",
    "        return vgg11\n",
    "\n",
    "    if modelname == 'vgg13':\n",
    "        return vgg13\n",
    "\n",
    "    if modelname == 'vgg16':\n",
    "        return vgg16\n",
    "    "
   ]
  },
  {
   "cell_type": "code",
   "execution_count": 8,
   "id": "c07e9e01",
   "metadata": {},
   "outputs": [],
   "source": [
    "def createFeatureList(newModel):\n",
    "    featureList = []\n",
    "    for i in range(len(model.features)):\n",
    "        if str(model.features[i]).find('Conv') != -1:\n",
    "            size = model.features[i]._parameters['weight'].shape\n",
    "            n = size[0]\n",
    "            featureList.append(n)\n",
    "        if str(model.features[i]).find('Pool') != -1:\n",
    "            featureList.append('M')\n",
    "    #featureList.pop(-1)\n",
    "    return featureList"
   ]
  },
  {
   "cell_type": "markdown",
   "id": "db7acc29",
   "metadata": {},
   "source": [
    "### Create a list that contain all the conv layer"
   ]
  },
  {
   "cell_type": "code",
   "execution_count": 9,
   "id": "90d4687d",
   "metadata": {},
   "outputs": [],
   "source": [
    "def getPruneModule(newModel):\n",
    "    convList = []\n",
    "    for i in range(len(newModel.features)):\n",
    "        if str(newModel.features[i]).find('Conv') != -1:\n",
    "            convList.append(newModel.features[i])\n",
    "    return convList"
   ]
  },
  {
   "cell_type": "markdown",
   "id": "b0e20366",
   "metadata": {},
   "source": [
    "#### create a pruncount list which prepare a list of number of channel to be prune from each list from max_pruning_ratio"
   ]
  },
  {
   "cell_type": "code",
   "execution_count": 10,
   "id": "d41dd2d0",
   "metadata": {},
   "outputs": [],
   "source": [
    "def getPruneCount(module,blocks,maxpr):\n",
    "    j=0\n",
    "    count = 0\n",
    "    prune_prob = []\n",
    "    prune_count = []\n",
    "    for i in range(len(module)):\n",
    "        if(count<blocks[j]):\n",
    "            frac = 5-j\n",
    "        else:\n",
    "            count=0\n",
    "            j+=1\n",
    "            frac = 5-j\n",
    "        prune_prob.append(maxpr/frac)    \n",
    "        count+=1\n",
    "    for i in range(len(Module)):\n",
    "        size = Module[i]._parameters['weight'].shape\n",
    "        c = int(round(size[0]*prune_prob[i]))\n",
    "        prune_count.append(c)\n",
    "    return prune_count"
   ]
  },
  {
   "cell_type": "code",
   "execution_count": 11,
   "id": "1c54ec67",
   "metadata": {},
   "outputs": [
    {
     "name": "stdout",
     "output_type": "stream",
     "text": [
      "Linear(in_features=4096, out_features=1000, bias=True)\n",
      "Feature List  = [64, 64, 'M', 128, 128, 'M', 256, 256, 'M', 512, 512, 'M', 512, 512, 'M']\n",
      "prune list    = [0, 2, 5, 7, 10, 12, 14, 17, 19, 21, 24, 26, 28] \n",
      "vgg net block = [2, 2, 3, 3, 3] \n",
      "Prune Count   = [1, 1, 2, 2, 4, 4, 9, 13, 13, 13]\n"
     ]
    }
   ],
   "source": [
    "model = lm.load_model(model_name='vgg13',number_of_class=6)\n",
    "featureList = createFeatureList(model)\n",
    "convIndex = getConvIndex('vgg16')\n",
    "blocks = getBlockList('vgg16')\n",
    "\n",
    "Module = getPruneModule(model)\n",
    "\n",
    "prune_count = getPruneCount(module=Module,blocks=blocks, maxpr=.05)\n",
    "\n",
    "print(f\"Feature List  = {featureList}\\n\"\n",
    "      f\"prune list    = {convIndex} \\n\"\n",
    "      f\"vgg net block = {blocks} \\n\"\n",
    "      f\"Prune Count   = {prune_count}\")"
   ]
  },
  {
   "cell_type": "code",
   "execution_count": null,
   "id": "88692105",
   "metadata": {},
   "outputs": [],
   "source": []
  },
  {
   "cell_type": "code",
   "execution_count": null,
   "id": "ba047f65",
   "metadata": {},
   "outputs": [],
   "source": []
  }
 ],
 "metadata": {
  "kernelspec": {
   "display_name": "Python 3 (ipykernel)",
   "language": "python",
   "name": "python3"
  },
  "language_info": {
   "codemirror_mode": {
    "name": "ipython",
    "version": 3
   },
   "file_extension": ".py",
   "mimetype": "text/x-python",
   "name": "python",
   "nbconvert_exporter": "python",
   "pygments_lexer": "ipython3",
   "version": "3.9.7"
  }
 },
 "nbformat": 4,
 "nbformat_minor": 5
}
