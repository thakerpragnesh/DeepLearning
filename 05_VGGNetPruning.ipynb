{
  "cells": [
    {
      "cell_type": "markdown",
      "metadata": {
        "id": "view-in-github",
        "colab_type": "text"
      },
      "source": [
        "<a href=\"https://colab.research.google.com/github/thakerpragnesh/DeepLearning/blob/master/05_VGGNetPruning.ipynb\" target=\"_parent\"><img src=\"https://colab.research.google.com/assets/colab-badge.svg\" alt=\"Open In Colab\"/></a>"
      ]
    },
    {
      "cell_type": "markdown",
      "metadata": {
        "id": "IVjg8mhW6uHs"
      },
      "source": [
        "This code will help you to load google dive in the jupiter notebook and help to access the dataset stored in the drive\n"
      ]
    },
    {
      "cell_type": "code",
      "execution_count": null,
      "metadata": {
        "colab": {
          "base_uri": "https://localhost:8080/"
        },
        "id": "8O0-fDoUdAFr",
        "outputId": "a8534761-348c-4cf1-f96c-a669ef047af5"
      },
      "outputs": [
        {
          "name": "stdout",
          "output_type": "stream",
          "text": [
            "Drive already mounted at /content/gdrive; to attempt to forcibly remount, call drive.mount(\"/content/gdrive\", force_remount=True).\n"
          ]
        }
      ],
      "source": [
        "from google.colab import drive\n",
        "drive.mount('/content/gdrive')"
      ]
    },
    {
      "cell_type": "markdown",
      "metadata": {
        "id": "oWFVgnHPGoZC"
      },
      "source": [
        "Following cell will import basic numeric and ploting librrary"
      ]
    },
    {
      "cell_type": "code",
      "execution_count": null,
      "metadata": {
        "id": "R4moYb7-weO9"
      },
      "outputs": [],
      "source": [
        "#import basic library for some basic function\n",
        "import numpy as np\n",
        "import matplotlib.pyplot as plt\n",
        "%matplotlib inline\n",
        "\n",
        "from tqdm import tqdm\n",
        "import cv2"
      ]
    },
    {
      "cell_type": "markdown",
      "metadata": {
        "id": "SFPcW4iNG1N3"
      },
      "source": [
        "Following Cell facilitate to read files from drive and and help to read dataset"
      ]
    },
    {
      "cell_type": "code",
      "execution_count": null,
      "metadata": {
        "id": "-7aISk4Kc23P"
      },
      "outputs": [],
      "source": [
        "# import library to perform file operation\n",
        "import os #use to access the files \n",
        "import tarfile # use to extract dataset from zip files\n",
        "import sys\n",
        "import zipfile"
      ]
    },
    {
      "cell_type": "markdown",
      "metadata": {
        "id": "4wrUgOg_HJCm"
      },
      "source": [
        "Torch Library provides facilities to create networl architechture and write farword and backwor phase od neural network"
      ]
    },
    {
      "cell_type": "code",
      "execution_count": null,
      "metadata": {
        "id": "qhl9_5SWwWuG"
      },
      "outputs": [],
      "source": [
        "#import torch library to build neural network\n",
        "import torch  # Elementory function of tensor is define in torch package\n",
        "import torch.nn as nn # Several layer architectur is define here\n",
        "import torch.nn.functional as F # loss function and activation function\n"
      ]
    },
    {
      "cell_type": "markdown",
      "metadata": {
        "id": "8JQILI1UHfA1"
      },
      "source": [
        "Computer vision is one of the most important application and thus lots od deplopment in the and torch.vision provides many facilities that can be use to imporve model such as data augmentation, reading data batchwise, suffling data before each epoch and many more\n"
      ]
    },
    {
      "cell_type": "code",
      "execution_count": null,
      "metadata": {
        "id": "lNwx_5HQwZnL"
      },
      "outputs": [],
      "source": [
        "# import torch library related to data processing\n",
        "import torchvision # provides facilities to access image dataset\n",
        "from torchvision.datasets.utils import download_url \n",
        "from torchvision.datasets import ImageFolder\n",
        "from torch.utils.data import DataLoader\n",
        "import torchvision.transforms as transforms\n",
        "from torch.utils.data import random_split\n",
        "from torchvision.utils import make_grid\n",
        "from torchvision import datasets, models, transforms"
      ]
    },
    {
      "cell_type": "markdown",
      "metadata": {
        "id": "CeyFtxdf6h8o"
      },
      "source": [
        "#Data Prepration 1\n",
        "\n",
        "Based on the image size of the dataset choose apropriate values of the color channel and Image Size"
      ]
    },
    {
      "cell_type": "markdown",
      "metadata": {
        "id": "gV-iqFhvIHeq"
      },
      "source": [
        "Here we can define path to a folder where we can keep all the dataset. In the following we are using the zip files. Originally dataset should be in the following format DataSetName is parent folder and it should contain train and test folder. train and test folder should contain folder for each category and images of respective category should be in the respective category folder"
      ]
    },
    {
      "cell_type": "code",
      "execution_count": null,
      "metadata": {
        "id": "2UyAyhEzcpn9"
      },
      "outputs": [],
      "source": [
        "datafile = 'cifar10'\n",
        "path = '/content/gdrive/My Drive/Dataset/'\n",
        "fullpath = path+datafile+'.zip'\n",
        "zip_ref = zipfile.ZipFile(fullpath, 'r') #Opens the zip file in read mode\n",
        "zip_ref.extractall('/tmp') #Extracts the files into the /tmp folder\n",
        "zip_ref.close()"
      ]
    },
    {
      "cell_type": "markdown",
      "metadata": {
        "id": "pRAwsy-W7HCq"
      },
      "source": [
        "Choose an apropriate batch size that can be loaded in the current enviroment without crashing and also do not choose too big batch even if dataset is small because it leads to very few updates per epoch"
      ]
    },
    {
      "cell_type": "code",
      "execution_count": null,
      "metadata": {
        "id": "3UkTeSRNc5WF"
      },
      "outputs": [],
      "source": [
        "bs = 128\n",
        "ImageSize = 224"
      ]
    },
    {
      "cell_type": "markdown",
      "metadata": {
        "id": "vbIUqcuyK5DK"
      },
      "source": [
        "Data Augmentaion generally help in reducing overfitting error during trainng process and thus we are performing randon horizontal flip and random crop during training but during validation as no training happens we dont perform data augmentation\n"
      ]
    },
    {
      "cell_type": "code",
      "execution_count": null,
      "metadata": {
        "id": "v9pEtuitrfrO"
      },
      "outputs": [],
      "source": [
        "# Data augmentation and normalization for training\n",
        "# Just normalization for validation\n",
        "data_transforms = {\n",
        "    'train': transforms.Compose([\n",
        "        transforms.RandomResizedCrop(ImageSize),\n",
        "        transforms.RandomHorizontalFlip(),\n",
        "        transforms.ToTensor(),\n",
        "        transforms.Normalize([0.485, 0.456, 0.406], [0.229, 0.224, 0.225])\n",
        "    ]),\n",
        "    'test': transforms.Compose([\n",
        "        transforms.Resize(256),\n",
        "        transforms.CenterCrop(224),\n",
        "        transforms.ToTensor(),\n",
        "        transforms.Normalize([0.485, 0.456, 0.406], [0.229, 0.224, 0.225])\n",
        "    ]),\n",
        "}\n",
        "\n",
        "data_dir = '/tmp/cifar10'\n",
        "image_datasets = {x: datasets.ImageFolder(os.path.join(data_dir, x),\n",
        "                                          data_transforms[x])\n",
        "                  for x in ['train', 'test']}\n",
        "dataloaders = {x: torch.utils.data.DataLoader(image_datasets[x], batch_size=bs,\n",
        "                                             shuffle=True, num_workers=2)\n",
        "              for x in ['train', 'test']}\n",
        "dataset_sizes = {x: len(image_datasets[x]) for x in ['train', 'test']}\n",
        "class_names = image_datasets['train'].classes\n",
        "\n",
        "device = torch.device(\"cuda:0\" if torch.cuda.is_available() else \"cpu\")"
      ]
    },
    {
      "cell_type": "markdown",
      "metadata": {
        "id": "4Bf_Ug-O2eie"
      },
      "source": [
        "Look inside the single batch of dataset images we are going to train"
      ]
    },
    {
      "cell_type": "code",
      "execution_count": null,
      "metadata": {
        "colab": {
          "base_uri": "https://localhost:8080/",
          "height": 100
        },
        "id": "D-hMYKSIsDNg",
        "outputId": "b5d87f16-8a10-4032-db60-f75a647bb9d5"
      },
      "outputs": [
        {
          "name": "stderr",
          "output_type": "stream",
          "text": [
            "Clipping input data to the valid range for imshow with RGB data ([0..1] for floats or [0..255] for integers).\n"
          ]
        },
        {
          "data": {
            "image/png": "[encoded data removed]",
            "text/plain": [
              "<Figure size 432x288 with 1 Axes>"
            ]
          },
          "metadata": {
            "needs_background": "light",
            "tags": []
          },
          "output_type": "display_data"
        }
      ],
      "source": [
        "def imshow(inp, title=None):\n",
        "    \"\"\"Imshow for Tensor.\"\"\"\n",
        "    inp = inp.numpy().transpose((1, 2, 0))\n",
        "    mean = np.array([0.485, 0.456, 0.406])\n",
        "    std = np.array([0.229, 0.224, 0.225])\n",
        "    inp = std * inp + mean\n",
        "    #inp = np.clip(inp, 0, 1)\n",
        "    plt.imshow(inp)\n",
        "    if title is not None:\n",
        "        plt.title(title)\n",
        "    plt.pause(0.001)  # pause a bit so that plots are updated\n",
        "\n",
        "\n",
        "# Get a batch of training data\n",
        "inputs, classes = next(iter(dataloaders['train']))\n",
        "\n",
        "# Make a grid from batch\n",
        "out = torchvision.utils.make_grid(inputs)\n",
        "\n",
        "imshow(out, title=[class_names[x] for x in classes])"
      ]
    },
    {
      "cell_type": "markdown",
      "metadata": {
        "id": "hDO9wMLhLs8_"
      },
      "source": [
        "Check if Cuda GPU is available"
      ]
    },
    {
      "cell_type": "code",
      "execution_count": null,
      "metadata": {
        "colab": {
          "base_uri": "https://localhost:8080/"
        },
        "id": "G3keAOLbeHBN",
        "outputId": "7c7c32c3-7ffc-4ee6-8cd9-2e6604edff64"
      },
      "outputs": [
        {
          "name": "stdout",
          "output_type": "stream",
          "text": [
            "cpu\n"
          ]
        }
      ],
      "source": [
        "#check for CUDA enabled GPU card\n",
        "def getDeviceType():\n",
        "  if torch.cuda.is_available():\n",
        "    return torch.device('cuda')\n",
        "  else:\n",
        "    return torch.device('cpu')\n",
        "\n",
        "\n",
        "device = getDeviceType()\n",
        "print(device)"
      ]
    },
    {
      "cell_type": "markdown",
      "metadata": {
        "id": "W0iq-SdG8R1b"
      },
      "source": [
        "#Training Process\n",
        "Below code will work as a base function and provide all the important function like compute loss, accuracy and print result in a perticular formate afte each epoch. Funvtion are as follow\n",
        "1. Accuracy : Computer accuracy in evalutaion mode of pytorch on given dataset for given model\n",
        "2. compute_batch_loss : Compute batch loss and append the loss in the list of batch loss.\n",
        "3. compute_batch_loss_acc : Compute batch loss, batch accuracy and append the loss in the list of batch loss.\n",
        "4. accumulate_batch_loss_acc: Accumulate loss from the list of batch and acccuraly loss.\n",
        "5. Epoch end to print the output after every epoch in proper format\n"
      ]
    },
    {
      "cell_type": "code",
      "execution_count": null,
      "metadata": {
        "id": "4_YnrEWpJgnu"
      },
      "outputs": [],
      "source": [
        "def accuracy(outputs, labels):\n",
        "# compute accuracy = total correct prediction / total number f ele\n",
        "\n",
        "    # torch.max(output, dim) will return max value and corresponding index, \n",
        "    # Here we are intersted only on index value as it indicate class\n",
        "    _, preds = torch.max(outputs, dim=1) # get the prediction vector\n",
        "    return torch.tensor(torch.sum(preds == labels).item() / len(preds))\n",
        "\n",
        "# Compute loss of the given batch and return it\n",
        "def compute_batch_loss(newmodel, batch_X,batch_y):\n",
        "  images = batch_X.to(device)\n",
        "  labels = batch_y.to(device)\n",
        "  out = newmodel(images)                  # Generate predictions\n",
        "  loss = F.cross_entropy(out, labels) # Calculate loss\n",
        "  return loss\n",
        "\n",
        "# Computes loss and accuracy of the given batch(Used in validation)\n",
        "def compute_batch_loss_acc(newmodel, batch_X,batch_y):\n",
        "    images = batch_X.to(device)\n",
        "    labels = batch_y.to(device)\n",
        "    out = newmodel(images)                    # Generate predictionsin_features=4096\n",
        "    loss = F.cross_entropy(out, labels)   # Calculate loss\n",
        "    acc = accuracy(out, labels)           # Calculate accuracy\n",
        "    return {'val_loss': loss, 'val_acc': acc}\n",
        "\n",
        "# At the end of epoch accumulate all batch loss and batch accueacy    \n",
        "def accumulate_batch_loss_acc(outputs):\n",
        "    batch_losses = [x['val_loss'] for x in outputs]\n",
        "    epoch_loss = torch.stack(batch_losses).mean()   # Combine losses\n",
        "    batch_accs = [x['val_acc'] for x in outputs]\n",
        "    epoch_acc = torch.stack(batch_accs).mean()      # Combine accuracies\n",
        "    return {'val_loss': epoch_loss.item(), 'val_acc': epoch_acc.item()}\n",
        "\n",
        "def epoch_end(epoch, result):\n",
        "  # Print in given format \n",
        "  # Epoch [0], last_lr: 0.00278, train_loss: 1.2862, val_loss: 1.2110, val_acc: 0.6135\n",
        "  strResult = \"Epoch [{}], last_lr: {:.5f}, train_loss: {:.4f}, val_loss: {:.4f}, val_acc: {:.4f}\".format(\n",
        "      epoch, result['lrs'][-1], result['train_loss'], result['val_loss'], result['val_acc'])\n",
        "  print(strResult)\n",
        "  #print(\"Epoch [{}], last_lr: {:.5f}, train_loss: {:.4f}, val_loss: {:.4f}, val_acc: {:.4f}\".format(\n",
        "  #   epoch, result['lrs'][-1], result['train_loss'], result['val_loss'], result['val_acc']))"
      ]
    },
    {
      "cell_type": "markdown",
      "metadata": {
        "id": "gFJ0Ar5wWF7m"
      },
      "source": [
        "#Define Archietecture"
      ]
    },
    {
      "cell_type": "code",
      "execution_count": null,
      "metadata": {
        "id": "DatCabc9WlU0"
      },
      "outputs": [],
      "source": [
        ""
      ]
    },
    {
      "cell_type": "code",
      "execution_count": null,
      "metadata": {
        "id": "0QAaDqFuWKV6"
      },
      "outputs": [],
      "source": [
        "def conv_block(in_channels, out_channels, pool=False, kernalSize =3, padd = 1 ):\n",
        "    layers = [nn.Conv2d(in_channels, out_channels, kernel_size=kernalSize, padding=padd), \n",
        "              nn.BatchNorm2d(out_channels), # Layerwise Noramlizarion\n",
        "              nn.ReLU(inplace=True)]\n",
        "    if pool: layers.append(nn.MaxPool2d(2)) \n",
        "    return nn.Sequential(*layers)\n",
        "\n",
        "def vgg_fc_layer(size_in, size_out):\n",
        "    layer = nn.Sequential(\n",
        "        nn.Dropout(p=0.6),\n",
        "        nn.Linear(size_in, size_out),\n",
        "        nn.BatchNorm1d(size_out),\n",
        "        nn.ReLU()\n",
        "    )\n",
        "    return layer"
      ]
    },
    {
      "cell_type": "code",
      "execution_count": null,
      "metadata": {
        "id": "NhD05j-EWTbZ"
      },
      "outputs": [],
      "source": [
        "class VGG_Net_16(nn.Module):\n",
        "    \n",
        "    def __init__(self, in_channels, num_classes):\n",
        "        \n",
        "        super().__init__()\n",
        "        \n",
        "        # VGG_BLOCK_1(03,64)    -> Input(3,64x64) -> Output(64,32x32)\n",
        "        self.conv11 = conv_block(in_channels, 64,pool=False)\n",
        "        self.conv12 = conv_block(64, 64,pool=True) #112x112\n",
        "\n",
        "        # VGG_BLOCK_2(64,128)   -> Input(64,32x32) -> Output(128,16x16)\n",
        "        self.conv21 = conv_block(64,128,pool=False)\n",
        "        self.conv22 = conv_block(128, 128, pool=True) #56x56                             \n",
        "        \n",
        "        # VGG_BLOCK_3(128,128) -> Input(128,16x16) -> Output(128,16x16)\n",
        "        self.conv31 = conv_block(128,256,pool=False)\n",
        "        self.conv32 = conv_block(256, 256, pool=False)  #28x28\n",
        "        self.conv33 = conv_block(256, 256, pool=True)\n",
        "        \n",
        "        # VGG_BLOCK_4(256,512)  -> Input(256,8x8) -> Output(512x4x4)\n",
        "        self.conv41 = conv_block(256, 512, pool=False)                              \n",
        "        self.conv42 = conv_block(512, 512, pool=False)\n",
        "        self.conv43 = conv_block(512, 512, pool=True)  #14x14\n",
        "\n",
        "        # VGG_BLOCK_5(512,512) -> Input(512x4x4) -> Output(512x4x4)\n",
        "        self.conv51 = conv_block(512, 512, pool=False)                              \n",
        "        self.conv52 = conv_block(512, 512, pool=False)\n",
        "        self.conv53 = conv_block(512, 512, pool=True)  #7x7\n",
        "\n",
        "          \n",
        "        # Classifier Part Of VGG_Net\n",
        "        self.FC1 = vgg_fc_layer(7*7*512, 4096)\n",
        "        self.FC2 = vgg_fc_layer(4096, 4096)\n",
        "        self.output = vgg_fc_layer(7*7*512, 4096)\n",
        "    \n",
        "    def forward(self, xb):\n",
        "        out = self.conv11(xb)\n",
        "        out = self.conv12(out)\n",
        "        \n",
        "        out = self.conv21(out)\n",
        "        out = self.conv22(out)\n",
        "\n",
        "        out = self.conv31(out)\n",
        "        out = self.conv32(out)\n",
        "        out = self.conv33(out)\n",
        "\n",
        "        out = self.conv41(out)\n",
        "        out = self.conv42(out)\n",
        "        out = self.conv43(out)\n",
        "\n",
        "        out = self.conv51(out)\n",
        "        out = self.conv52(out)\n",
        "        features = self.conv53(out)\n",
        "\n",
        "        out = features.view(out.size(0), -1)  # Flatten the layer\n",
        "        return out"
      ]
    },
    {
      "cell_type": "code",
      "execution_count": null,
      "metadata": {
        "colab": {
          "base_uri": "https://localhost:8080/"
        },
        "id": "IvkFO3m9WVTn",
        "outputId": "1b707ad3-679c-4bf1-af7a-ec39c861e55f"
      },
      "outputs": [
        {
          "name": "stdout",
          "output_type": "stream",
          "text": [
            "<__main__.VGG_Net_16 object at 0x7fc779cab390>\n"
          ]
        }
      ],
      "source": [
        "MyNewModel = VGG_Net_16(3,10)\n",
        "print(MyNewModel)"
      ]
    },
    {
      "cell_type": "markdown",
      "metadata": {
        "id": "W53797PgUrQM"
      },
      "source": [
        "## Define Training \n",
        "Here we will evalute our model after each epoch on validation dataset using evalute method\n",
        "get_lr method returnd last learning rate used in the training\n",
        "Here we are using one fit cycle method in which we specify the max learning rate and learning rate start from 1/10th value of max_lr and slowly increases the value to max_lr for 40% of updates then decreases to its initial value for 40% updates and then further decreases to 1/100th of max_lr value to perform final fine tuning."
      ]
    },
    {
      "cell_type": "code",
      "execution_count": null,
      "metadata": {
        "id": "SskViaSQjHUR"
      },
      "outputs": [],
      "source": [
        "@torch.no_grad()\n",
        "# evalute model on validation dataset\n",
        "def evaluate(model, data_loader):\n",
        "    model.eval()\n",
        "    with torch.no_grad():\n",
        "      for batch_X, batch_y in data_loader:\n",
        "        outputs = [compute_batch_loss_acc(model,batch_X,batch_y)]\n",
        "      return accumulate_batch_loss_acc(outputs)\n",
        "\n",
        "# Use special scheduler to change the value of learning rate\n",
        "def get_lr(optimizer):\n",
        "    for param_group in optimizer.param_groups:\n",
        "        return param_group['lr']\n",
        "\n",
        "# epoch=8, max_lr=.01, weight_decay(L2-Regu parametr)=.0001,opt_func=Adam\n",
        "\n",
        "\n",
        "def fit_one_cycle(ModelName,epochs, max_lr, model, \n",
        "                  weight_decay=0, L1=0,grad_clip=None, opt_func=torch.optim.SGD):\n",
        "    torch.cuda.empty_cache()\n",
        "    history = []\n",
        "    \n",
        "    # Set up cutom optimizer here we will use one cycle scheduler with max learning\n",
        "    # rate given by max_lr, default optimizer is SGD but we will use ADAM, and \n",
        "    # L2 Regularization using weight decay\n",
        "    optimizer = opt_func(model.parameters(), max_lr, weight_decay=weight_decay)\n",
        "    \n",
        "    # Set up one-cycle learning rate scheduler\n",
        "    sched = torch.optim.lr_scheduler.OneCycleLR(optimizer, max_lr, epochs=epochs, \n",
        "                                                steps_per_epoch=len(dataloaders['train']))\n",
        "    \n",
        "    print(\"Training Starts\")\n",
        "    with open(\"/content/gdrive/My Drive/data/ConvModel.log\",\"a\") as f:\n",
        "      for epoch in range(epochs):\n",
        "          # Training Phase \n",
        "          model.train()  #######################\n",
        "          train_losses = []\n",
        "          lrs = []\n",
        "          #for batch in train_loader:\n",
        "          for batch_X, batch_y in dataloaders['train']:\n",
        "              \n",
        "              # computer the training loss of current batch\n",
        "              loss = compute_batch_loss(model,batch_X,batch_y)\n",
        "              \n",
        "              l1_crit = nn.L1Loss()\n",
        "              reg_loss = 0\n",
        "              for param in model.parameters():\n",
        "                reg_loss += l1_crit(param,target=torch.zeros_like(param))\n",
        "\n",
        "              loss += L1*reg_loss \n",
        "              train_losses.append(loss)\n",
        "              loss.backward() # compute the gradient of all weights\n",
        "              \n",
        "              # Clip the gradient value to maximum allowed grad_clip value\n",
        "              if grad_clip: \n",
        "                  nn.utils.clip_grad_value_(model.parameters(), grad_clip)\n",
        "              \n",
        "              optimizer.step() # Updates weights \n",
        "              # pytorch by default accumulate grade history and if we dont want it\n",
        "              # we should make all previous grade value equals to zero\n",
        "              optimizer.zero_grad() \n",
        "              \n",
        "              # Record & update learning rate\n",
        "              lrs.append(get_lr(optimizer))\n",
        "              sched.step() # Update the learning rate\n",
        "          \n",
        "          # Compute Validation Loss and Valodation Accuracy\n",
        "          result = evaluate(model, dataloaders['test'])\n",
        "\n",
        "          # Compute Train Loss of whole epoch i.e mean of loss of batch \n",
        "          result['train_loss'] = torch.stack(train_losses).mean().item()\n",
        "\n",
        "          # Observe how learning rate is change by schedular\n",
        "          result['lrs'] = lrs\n",
        "\n",
        "          # print the observation of each epoch in a proper format\n",
        "          epoch_end(epoch, result) \n",
        "          strResult = \"Epoch [{}], last_lr: {:.5f}, train_loss: {:.4f}, val_loss: {:.4f}, val_acc: {:.4f}\".format(epoch, result['lrs'][-1], result['train_loss'], result['val_loss'], result['val_acc'])\n",
        "          #f.write(f\"{ModelName}-{strResult}\\n\")\n",
        "          history.append(result) # append tupple result with val_acc, vall_loss, and trin_loss\n",
        "        \n",
        "    return history"
      ]
    },
    {
      "cell_type": "markdown",
      "metadata": {
        "id": "hxRbOmgH-EBY"
      },
      "source": [
        "Define the function that help is evaluating the model such as \n",
        "1. acuracy vs eopch to see that whether performance is improving or not during training, \n",
        "2. model loss vs epoch to see the loos value improvment during each epoch and \n",
        "3. learning rate plot to see how learning rate changes during each updates"
      ]
    },
    {
      "cell_type": "code",
      "execution_count": null,
      "metadata": {
        "id": "ThCTWdQfusP0"
      },
      "outputs": [],
      "source": [
        "# Plot Validation accuracy Over Epoch\n",
        "def plot_accuracies(history):\n",
        "    accuracies = [x['val_acc'] for x in history]\n",
        "    plt.plot(accuracies, '-x')\n",
        "    plt.xlabel('epoch')\n",
        "    plt.ylabel('accuracy')\n",
        "    plt.title('Accuracy vs. No. of epochs');\n",
        "\n",
        "# Plot training and validation loss to check for overfitting and underfitting\n",
        "def plot_losses(history):\n",
        "    train_losses = [x.get('train_loss') for x in history]\n",
        "    val_losses = [x['val_loss'] for x in history]\n",
        "    plt.plot(train_losses, '-bx')\n",
        "    plt.plot(val_losses, '-rx')\n",
        "    plt.xlabel('epoch')\n",
        "    plt.ylabel('loss')\n",
        "    plt.legend(['Training', 'Validation'])\n",
        "    plt.title('Loss vs. No. of epochs');\n",
        "\n",
        "# plot the learning rate values over each batch\n",
        "def plot_lrs(history):\n",
        "    lrs = np.concatenate([x.get('lrs', []) for x in history])\n",
        "    plt.plot(lrs)\n",
        "    plt.xlabel('Batch no.')\n",
        "    plt.ylabel('Learning rate')\n",
        "    plt.title('Learning Rate vs. Batch no.');"
      ]
    },
    {
      "cell_type": "markdown",
      "metadata": {
        "id": "Bi_p_6OfQMRg"
      },
      "source": [
        "we can download pretrain model and perform fine tuning on the model with fix feature extracter using the following"
      ]
    },
    {
      "cell_type": "code",
      "execution_count": null,
      "metadata": {
        "id": "02kAYnmJl-56"
      },
      "outputs": [],
      "source": [
        "'''\n",
        "newModel = torchvision.models.vgg16(pretrained=True)\n",
        "\n",
        "for param in newModel.parameters():\n",
        "    param.requires_grad = False\n",
        "\n",
        "#print(newModel)\n",
        "\n",
        "#Need to change the below code if we choose different model\n",
        "print(newModel.classifier[6])\n",
        "num_ftrs = newModel.classifier[6].in_features\n",
        "# Here the size of each output sample is set to 10.\n",
        "# Alternatively, it can be generalized to nn.Linear(num_ftrs, len(class_names)).\n",
        "newModel.classifier[6] = nn.Linear(num_ftrs, 10)\n",
        "\n",
        "newModel = newModel.to(device)\n",
        "'''\n",
        "##################### Create ResNet 18 ############################\n",
        "\n",
        "'''\n",
        "newModel = torchvision.models.resnet18(pretrained=True)\n",
        "print(newModel.fc)\n",
        "\n",
        "for param in newModel.parameters():\n",
        "    param.requires_grad = False\n",
        "\n",
        "#print(newModel)\n",
        "\n",
        "#Need to change the below code if we choose different model\n",
        "num_ftrs = newModel.fc.in_features\n",
        "# Here the size of each output sample is set to 10.\n",
        "# Alternatively, it can be generalized to nn.Linear(num_ftrs, len(class_names)).\n",
        "newModel.fc = nn.Linear(num_ftrs, 10)\n",
        "\n",
        "newModel = newModel.to(device)\n",
        "print(newModel.fc)\n",
        "print(newModel)\n",
        "'''\n",
        "\n",
        "PATH ='/content/gdrive/MyDrive/Model/cifar10/VGG16IntelICV1'\n",
        "if device== torch.device('cpu'):\n",
        "  newModel = torch.load(PATH, map_location=torch.device('cpu'))\n",
        "else:\n",
        "  newModel = torch.load(PATH)\n",
        "\n",
        "count=0\n",
        "# Need to change the following loop for dofferent model\n",
        "for param in newModel.parameters():\n",
        "    print(param.shape)\n",
        "    if count in (26,28,30):\n",
        "      param.requires_grad=True\n",
        "      print(param.requires_grad)\n",
        "    else:\n",
        "      param.requires_grad=False\n",
        "      print(param.requires_grad)\n",
        "    count +=1"
      ]
    },
    {
      "cell_type": "code",
      "execution_count": null,
      "metadata": {
        "colab": {
          "base_uri": "https://localhost:8080/",
          "height": 167
        },
        "id": "PoaO2rgwYwWZ",
        "outputId": "bf1e9fd8-8e11-4e48-cd83-262dc41b44ca"
      },
      "outputs": [
        {
          "ename": "TypeError",
          "evalue": "ignored",
          "output_type": "error",
          "traceback": [
            "\u001b[0;31m---------------------------------------------------------------------------\u001b[0m",
            "\u001b[0;31mTypeError\u001b[0m                                 Traceback (most recent call last)",
            "\u001b[0;32m<ipython-input-40-598fc8f6674e>\u001b[0m in \u001b[0;36m<module>\u001b[0;34m()\u001b[0m\n\u001b[0;32m----> 1\u001b[0;31m \u001b[0mMyNewModel\u001b[0m\u001b[0;34m.\u001b[0m\u001b[0mconv11\u001b[0m\u001b[0;34m.\u001b[0m\u001b[0mparameters\u001b[0m \u001b[0;34m=\u001b[0m \u001b[0mnewModel\u001b[0m\u001b[0;34m.\u001b[0m\u001b[0mparameters\u001b[0m\u001b[0;34m[\u001b[0m\u001b[0;36m0\u001b[0m\u001b[0;34m]\u001b[0m\u001b[0;34m\u001b[0m\u001b[0;34m\u001b[0m\u001b[0m\n\u001b[0m",
            "\u001b[0;31mTypeError\u001b[0m: 'method' object is not subscriptable"
          ]
        }
      ],
      "source": [
        "for param in newModel.parameters():\n",
        "  MyNewModel.conv11.state_dict()"
      ]
    },
    {
      "cell_type": "markdown",
      "metadata": {
        "id": "uOCH1xjzQKXI"
      },
      "source": [
        "During the next itteration if we had a better model stored in drive we can load model and continue training by learning parameter of all dense layer"
      ]
    },
    {
      "cell_type": "code",
      "execution_count": null,
      "metadata": {
        "colab": {
          "base_uri": "https://localhost:8080/"
        },
        "id": "fxei7HV7S9Ja",
        "outputId": "d3381b89-2f40-4acc-ae31-582d1a1eb407"
      },
      "outputs": [
        {
          "name": "stdout",
          "output_type": "stream",
          "text": [
            "torch.Size([64, 3, 3, 3])\n",
            "torch.Size([64])\n",
            "torch.Size([64, 64, 3, 3])\n",
            "torch.Size([64])\n",
            "torch.Size([128, 64, 3, 3])\n",
            "torch.Size([128])\n",
            "torch.Size([128, 128, 3, 3])\n",
            "torch.Size([128])\n",
            "torch.Size([256, 128, 3, 3])\n",
            "torch.Size([256])\n",
            "torch.Size([256, 256, 3, 3])\n",
            "torch.Size([256])\n",
            "torch.Size([256, 256, 3, 3])\n",
            "torch.Size([256])\n",
            "torch.Size([512, 256, 3, 3])\n",
            "torch.Size([512])\n",
            "torch.Size([512, 512, 3, 3])\n",
            "torch.Size([512])\n",
            "torch.Size([512, 512, 3, 3])\n",
            "torch.Size([512])\n",
            "torch.Size([512, 512, 3, 3])\n",
            "torch.Size([512])\n",
            "torch.Size([512, 512, 3, 3])\n",
            "torch.Size([512])\n",
            "torch.Size([512, 512, 3, 3])\n",
            "torch.Size([512])\n",
            "torch.Size([4096, 25088])\n",
            "torch.Size([4096])\n",
            "torch.Size([4096, 4096])\n",
            "torch.Size([4096])\n",
            "torch.Size([10, 4096])\n",
            "torch.Size([10])\n"
          ]
        }
      ],
      "source": [
        "PATH ='/content/gdrive/MyDrive/Model/cifar10/VGG16IntelICV1'\n",
        "if device== torch.device('cpu'):\n",
        "  newModel = torch.load(PATH, map_location=torch.device('cpu'))\n",
        "else:\n",
        "  newModel = torch.load(PATH)\n",
        "\n",
        "count=0\n",
        "# Need to change the following loop for dofferent model\n",
        "for param in newModel.parameters():\n",
        "    print(param.shape)\n",
        "    if count in (26,28,30):\n",
        "      param.requires_grad=True\n",
        "      #print(param.requires_grad)\n",
        "    else:\n",
        "      param.requires_grad=False\n",
        "      #print(param.requires_grad)\n",
        "    count +=1"
      ]
    },
    {
      "cell_type": "markdown",
      "metadata": {
        "id": "ZUCW1BYeWfAP"
      },
      "source": [
        "Initialise all the hyper meter required for training such as learning rate that control the step size, gradient clipping value that limits the maximum value of grads, L2 regularization using weight decay value, L1 regularization using L1 value and then choose apropriate optimization funtion for training."
      ]
    },
    {
      "cell_type": "code",
      "execution_count": null,
      "metadata": {
        "id": "Kcc8mZYGXuMg"
      },
      "outputs": [],
      "source": [
        "historyfull = []"
      ]
    },
    {
      "cell_type": "markdown",
      "metadata": {
        "id": "40ofhmStDD3b"
      },
      "source": [
        ""
      ]
    },
    {
      "cell_type": "code",
      "execution_count": null,
      "metadata": {
        "id": "w-PENJzVkeio"
      },
      "outputs": [],
      "source": [
        "historylast = []\n",
        "epochs = 10\n",
        "# We are using one cycle fit function in which learning rate start with 1/10th \n",
        "# of selected maximum learning rate and increase learning rate from min to max\n",
        "# in 1st phase and then decrease from max to min in 2nd phase\n",
        "max_lr = 1e-3\n",
        "grad_clip = 0.1 # Maximum allowed value of grad: grad = min(grad,0.01)\n",
        "# weight decay is a constant multiplier for L2 regularization\n",
        "weight_decay = 1e-4\n",
        "L1 = 1e-4\n",
        "# Choosing Adma optimizer as try to implement SGD+Momentum+Adaptive Learining\n",
        "opt_func = torch.optim.Adam\n",
        "MODEL_NAME = f\"VGG_Net-MLR-{max_lr}-GC{grad_clip}-WD-{weight_decay}-L1-{L1}\""
      ]
    },
    {
      "cell_type": "markdown",
      "metadata": {
        "id": "1fo00eoyBKZS"
      },
      "source": [
        "Start the training using one fit cycle algorithms where learning rate start with one tenth of provided max_lr and then increase it value till that point and then decrease onword and for last few epoch learning rate furthe decrease"
      ]
    },
    {
      "cell_type": "markdown",
      "metadata": {
        "id": "265hesKSXbnA"
      },
      "source": [
        "Pass the hyperparameter for training of the model and start training process for set number of epcoh"
      ]
    },
    {
      "cell_type": "code",
      "execution_count": null,
      "metadata": {
        "colab": {
          "base_uri": "https://localhost:8080/"
        },
        "id": "LwQMNy8Am8ON",
        "outputId": "71fb3351-0126-49e2-d7ac-aac7bc020c1a"
      },
      "outputs": [
        {
          "name": "stdout",
          "output_type": "stream",
          "text": [
            "Training Starts\n",
            "Epoch [0], last_lr: 0.00028, train_loss: 1.0047, val_loss: 0.1845, val_acc: 0.8750\n",
            "Epoch [1], last_lr: 0.00076, train_loss: 1.0766, val_loss: 0.2738, val_acc: 0.8750\n",
            "Epoch [2], last_lr: 0.00100, train_loss: 1.1264, val_loss: 0.6889, val_acc: 0.8125\n",
            "Epoch [3], last_lr: 0.00095, train_loss: 1.1060, val_loss: 0.9867, val_acc: 0.6250\n",
            "Epoch [4], last_lr: 0.00081, train_loss: 1.0431, val_loss: 0.6005, val_acc: 0.8750\n",
            "Epoch [5], last_lr: 0.00061, train_loss: 0.9916, val_loss: 0.3725, val_acc: 0.9375\n",
            "Epoch [6], last_lr: 0.00039, train_loss: 0.9179, val_loss: 0.4965, val_acc: 0.9375\n",
            "Epoch [7], last_lr: 0.00019, train_loss: 0.8635, val_loss: 0.4496, val_acc: 0.8750\n",
            "Epoch [8], last_lr: 0.00005, train_loss: 0.8243, val_loss: 0.1414, val_acc: 0.9375\n",
            "Epoch [9], last_lr: 0.00000, train_loss: 0.8031, val_loss: 0.4485, val_acc: 0.8125\n",
            "CPU times: user 49min 52s, sys: 1min 26s, total: 51min 19s\n",
            "Wall time: 53min 40s\n"
          ]
        }
      ],
      "source": [
        "%%time\n",
        "historylast += fit_one_cycle(MODEL_NAME,epochs, max_lr, newModel,  \n",
        "                             grad_clip=grad_clip, \n",
        "                             weight_decay=weight_decay, L1=L1,\n",
        "                             opt_func=opt_func)"
      ]
    },
    {
      "cell_type": "code",
      "execution_count": null,
      "metadata": {
        "id": "0fQY0wX6coby"
      },
      "outputs": [],
      "source": [
        "for item in historylast:\n",
        "  historyfull.append(item)"
      ]
    },
    {
      "cell_type": "markdown",
      "metadata": {
        "id": "9T4EunVJY-Fm"
      },
      "source": [
        "Evalute model for accuracy for last training run "
      ]
    },
    {
      "cell_type": "code",
      "execution_count": null,
      "metadata": {
        "colab": {
          "base_uri": "https://localhost:8080/",
          "height": 312
        },
        "id": "WuB1YFxJu1LC",
        "outputId": "61577aa1-3e9f-4736-b41f-950d813085c7"
      },
      "outputs": [
        {
          "name": "stdout",
          "output_type": "stream",
          "text": [
            "Accuracy in last run\n"
          ]
        },
        {
          "data": {
            "image/png": "[encoded data removed]",
            "text/plain": [
              "<Figure size 432x288 with 1 Axes>"
            ]
          },
          "metadata": {
            "tags": []
          },
          "output_type": "display_data"
        }
      ],
      "source": [
        "print(\"Accuracy in last run\")\n",
        "plot_accuracies(historylast)"
      ]
    },
    {
      "cell_type": "markdown",
      "metadata": {
        "id": "gZO4CE6VZCF3"
      },
      "source": [
        "Evalute Models for whole training process for accuracy\n"
      ]
    },
    {
      "cell_type": "code",
      "execution_count": null,
      "metadata": {
        "colab": {
          "base_uri": "https://localhost:8080/",
          "height": 312
        },
        "id": "jAlXPExrdJoX",
        "outputId": "de6d88b0-e857-4a87-d7f5-c58dae45b5bf"
      },
      "outputs": [
        {
          "name": "stdout",
          "output_type": "stream",
          "text": [
            "Accuracy is all run\n"
          ]
        },
        {
          "data": {
            "image/png": "[encoded data removed]",
            "text/plain": [
              "<Figure size 432x288 with 1 Axes>"
            ]
          },
          "metadata": {
            "tags": []
          },
          "output_type": "display_data"
        }
      ],
      "source": [
        "print(\"Accuracy is all run\")\n",
        "plot_accuracies(historyfull)"
      ]
    },
    {
      "cell_type": "markdown",
      "metadata": {
        "id": "P2VyfpFTZl-t"
      },
      "source": [
        "Evalute last run for loss"
      ]
    },
    {
      "cell_type": "code",
      "execution_count": null,
      "metadata": {
        "colab": {
          "base_uri": "https://localhost:8080/",
          "height": 312
        },
        "id": "aOWKnBplu6N1",
        "outputId": "2e502925-4944-46cc-dc73-2e6a67d3e65b"
      },
      "outputs": [
        {
          "name": "stdout",
          "output_type": "stream",
          "text": [
            "Loss of last run\n"
          ]
        },
        {
          "data": {
            "image/png": "[encoded data removed]",
            "text/plain": [
              "<Figure size 432x288 with 1 Axes>"
            ]
          },
          "metadata": {
            "tags": []
          },
          "output_type": "display_data"
        }
      ],
      "source": [
        "print(\"Loss of last run\")\n",
        "plot_losses(historylast)"
      ]
    },
    {
      "cell_type": "markdown",
      "metadata": {
        "id": "qqa_JvMEZqQ4"
      },
      "source": [
        "Evalute full training process for loss value"
      ]
    },
    {
      "cell_type": "code",
      "execution_count": null,
      "metadata": {
        "colab": {
          "base_uri": "https://localhost:8080/",
          "height": 312
        },
        "id": "d7iRkJWldZYz",
        "outputId": "a32adef6-2940-4f38-bb1a-97c827568088"
      },
      "outputs": [
        {
          "name": "stdout",
          "output_type": "stream",
          "text": [
            "Loss in All run\n"
          ]
        },
        {
          "data": {
            "image/png": "[encoded data removed]",
            "text/plain": [
              "<Figure size 432x288 with 1 Axes>"
            ]
          },
          "metadata": {
            "tags": []
          },
          "output_type": "display_data"
        }
      ],
      "source": [
        "print(\"Loss in All run\")\n",
        "plot_losses(historyfull)"
      ]
    },
    {
      "cell_type": "markdown",
      "metadata": {
        "id": "M7B1s2QRZyfu"
      },
      "source": [
        "See how the learning rate changedin process"
      ]
    },
    {
      "cell_type": "code",
      "execution_count": null,
      "metadata": {
        "colab": {
          "base_uri": "https://localhost:8080/",
          "height": 312
        },
        "id": "fHRvjqpIdu1g",
        "outputId": "4f8460d0-d852-4f40-dc5e-abec2f5e3a07"
      },
      "outputs": [
        {
          "name": "stdout",
          "output_type": "stream",
          "text": [
            "Learning rate of all run\n"
          ]
        },
        {
          "data": {
            "image/png": "[encoded data removed]",
            "text/plain": [
              "<Figure size 432x288 with 1 Axes>"
            ]
          },
          "metadata": {
            "tags": []
          },
          "output_type": "display_data"
        }
      ],
      "source": [
        "print(\"Learning rate of all run\")\n",
        "plot_lrs(historyfull)"
      ]
    },
    {
      "cell_type": "markdown",
      "metadata": {
        "id": "QjO1EIRmaFTN"
      },
      "source": [
        "Print validation accuracy for all epoch of last run"
      ]
    },
    {
      "cell_type": "code",
      "execution_count": null,
      "metadata": {
        "colab": {
          "base_uri": "https://localhost:8080/"
        },
        "id": "AHX-59zmvAa1",
        "outputId": "1e6cceaf-a0da-4b1a-a111-45f8184c0144"
      },
      "outputs": [
        {
          "name": "stdout",
          "output_type": "stream",
          "text": [
            "['87.50', '81.25', '93.75', '81.25', '81.25', '93.75', '87.50', '100.00', '81.25', '100.00']\n"
          ]
        }
      ],
      "source": [
        "accuracies = [x['val_acc']*100 for x in historylast]\n",
        "accuracies = [\"%.2f\" % v for v in accuracies]\n",
        "print(accuracies)"
      ]
    },
    {
      "cell_type": "markdown",
      "metadata": {
        "id": "WB7netlsaQ-z"
      },
      "source": [
        "Define method to compute accuracy for a given model on given dataset"
      ]
    },
    {
      "cell_type": "code",
      "execution_count": null,
      "metadata": {
        "id": "fmLa4W_XvEc_"
      },
      "outputs": [],
      "source": [
        "def accuraciesTotal(newModel, data_loader):\n",
        "  with torch.no_grad():\n",
        "    acc = []\n",
        "    for batch in data_loader:\n",
        "      images, label = batch\n",
        "      images, labels = batch[0].to(device), batch[1].to(device)\n",
        "      out = newModel(images)\n",
        "      acc.append(accuracy(out, labels))\n",
        "    return torch.mean(torch.stack(acc))"
      ]
    },
    {
      "cell_type": "markdown",
      "metadata": {
        "id": "xzfcV_XFa2aK"
      },
      "source": [
        "evalute final accuracy of test and train dataset"
      ]
    },
    {
      "cell_type": "code",
      "execution_count": null,
      "metadata": {
        "colab": {
          "background_save": true
        },
        "id": "L-C3bwmUvGpF",
        "outputId": "4af69f27-c55a-4fd3-9eaf-0599e7a14c56"
      },
      "outputs": [
        {
          "name": "stdout",
          "output_type": "stream",
          "text": [
            "tensor(0.8257)\n"
          ]
        }
      ],
      "source": [
        "#trainacc = accuraciesTotal(newModel,dataloaders['train'])\n",
        "testacc = accuraciesTotal(newModel,dataloaders['test'])\n",
        "#print(\"Train Acc :\" + str(trainacc) + \"\\nTest  Acc :\" +str(testacc))\n",
        "print(testacc)"
      ]
    },
    {
      "cell_type": "markdown",
      "metadata": {
        "id": "cOA9OrCma-xr"
      },
      "source": [
        "Save the model if we feel we have made some improvement in the model\n"
      ]
    },
    {
      "cell_type": "code",
      "execution_count": null,
      "metadata": {
        "id": "BL8Gi0TVtvHo"
      },
      "outputs": [],
      "source": [
        "PATH = \"/content/gdrive/My Drive/Model/cifar10/ResNet18_Cifar_CV1\"\n",
        "torch.save(newModel, PATH)"
      ]
    },
    {
      "cell_type": "markdown",
      "metadata": {
        "id": "xq3uqoZm87Bb"
      },
      "source": [
        "# Below code shows basic unstructure pruning methods provided by the pytorch. Here if we want to apply custom pruning then we need to write our own compute_mask function "
      ]
    },
    {
      "cell_type": "code",
      "execution_count": null,
      "metadata": {
        "id": "Vy969sMrwhq1"
      },
      "outputs": [],
      "source": [
        "#import library to facilitate pruning\n",
        "import torch.nn.utils.prune as prune\n",
        "import time"
      ]
    },
    {
      "cell_type": "code",
      "execution_count": null,
      "metadata": {
        "id": "f41yy3LgwXkK"
      },
      "outputs": [],
      "source": [
        "modules = newModel.features\n",
        "print(modules)"
      ]
    },
    {
      "cell_type": "code",
      "execution_count": null,
      "metadata": {
        "colab": {
          "base_uri": "https://localhost:8080/"
        },
        "id": "n8bN9ydRM0rn",
        "outputId": "d34c82ed-836a-40b7-8dc9-49a67d8c24bf"
      },
      "outputs": [
        {
          "name": "stdout",
          "output_type": "stream",
          "text": [
            "<bound method Module.parameters of Conv2d(3, 64, kernel_size=(3, 3), stride=(1, 1), padding=(1, 1))>\n",
            "<bound method Module.parameters of Conv2d(64, 64, kernel_size=(3, 3), stride=(1, 1), padding=(1, 1))>\n",
            "<bound method Module.parameters of Conv2d(64, 128, kernel_size=(3, 3), stride=(1, 1), padding=(1, 1))>\n",
            "<bound method Module.parameters of Conv2d(128, 128, kernel_size=(3, 3), stride=(1, 1), padding=(1, 1))>\n",
            "<bound method Module.parameters of Conv2d(128, 256, kernel_size=(3, 3), stride=(1, 1), padding=(1, 1))>\n",
            "<bound method Module.parameters of Conv2d(256, 256, kernel_size=(3, 3), stride=(1, 1), padding=(1, 1))>\n",
            "<bound method Module.parameters of Conv2d(256, 256, kernel_size=(3, 3), stride=(1, 1), padding=(1, 1))>\n",
            "<bound method Module.parameters of Conv2d(256, 512, kernel_size=(3, 3), stride=(1, 1), padding=(1, 1))>\n",
            "<bound method Module.parameters of Conv2d(512, 512, kernel_size=(3, 3), stride=(1, 1), padding=(1, 1))>\n",
            "<bound method Module.parameters of Conv2d(512, 512, kernel_size=(3, 3), stride=(1, 1), padding=(1, 1))>\n",
            "<bound method Module.parameters of Conv2d(512, 512, kernel_size=(3, 3), stride=(1, 1), padding=(1, 1))>\n",
            "<bound method Module.parameters of Conv2d(512, 512, kernel_size=(3, 3), stride=(1, 1), padding=(1, 1))>\n",
            "<bound method Module.parameters of Conv2d(512, 512, kernel_size=(3, 3), stride=(1, 1), padding=(1, 1))>\n"
          ]
        }
      ],
      "source": [
        "Module = []\n",
        "for i in (0,2,5,7,10,12,14,17,19,21,24,26,28):\n",
        "  Module.append(newModel.features[i])\n",
        "\n",
        "for i in range(len(Module)):\n",
        "  print(Module[i].parameters)"
      ]
    },
    {
      "cell_type": "code",
      "execution_count": null,
      "metadata": {
        "colab": {
          "base_uri": "https://localhost:8080/"
        },
        "id": "X9-mPS4MLnF5",
        "outputId": "2d2a43dd-3dc6-4078-c199-f45ed0b89324"
      },
      "outputs": [
        {
          "name": "stdout",
          "output_type": "stream",
          "text": [
            "[Conv2d(3, 64, kernel_size=(3, 3), stride=(1, 1), padding=(1, 1)), Conv2d(64, 64, kernel_size=(3, 3), stride=(1, 1), padding=(1, 1)), Conv2d(64, 128, kernel_size=(3, 3), stride=(1, 1), padding=(1, 1)), Conv2d(128, 128, kernel_size=(3, 3), stride=(1, 1), padding=(1, 1)), Conv2d(128, 256, kernel_size=(3, 3), stride=(1, 1), padding=(1, 1)), Conv2d(256, 256, kernel_size=(3, 3), stride=(1, 1), padding=(1, 1)), Conv2d(256, 256, kernel_size=(3, 3), stride=(1, 1), padding=(1, 1)), Conv2d(256, 512, kernel_size=(3, 3), stride=(1, 1), padding=(1, 1)), Conv2d(512, 512, kernel_size=(3, 3), stride=(1, 1), padding=(1, 1)), Conv2d(512, 512, kernel_size=(3, 3), stride=(1, 1), padding=(1, 1)), Conv2d(512, 512, kernel_size=(3, 3), stride=(1, 1), padding=(1, 1)), Conv2d(512, 512, kernel_size=(3, 3), stride=(1, 1), padding=(1, 1)), Conv2d(512, 512, kernel_size=(3, 3), stride=(1, 1), padding=(1, 1))]\n"
          ]
        }
      ],
      "source": [
        "'''\n",
        "Module = [model.conv11[0], model.conv12[0],\n",
        "          model.conv21[0],model.conv22[0],\n",
        "          model.conv31[0], model.conv32[0], model.conv33[0],\n",
        "          model.conv41[0], model.conv42[0], model.conv43[0],\n",
        "          model.conv51[0], model.conv52[0], model.conv53[0]\n",
        "]\n",
        "print(Module)\n",
        "'''\n",
        "\n",
        "#for i in range(len(Module)):\n",
        "#  print(Module[i])\n",
        "\n",
        "pr = [.1,.1,.1,.1,.2,.2,.2,.25,.25,.25,.25,.25,.25]\n",
        "for i in range(len(Module)):\n",
        "  prune.ln_structured(Module[i], name=\"weight\", amount=pr[i], n=1, dim=0)\n",
        "\n",
        "import torch.nn.utils.prune as prune\n",
        "parameters_to_prune = (Module)\n",
        "'''\n",
        "    (model.conv11[0], 'weight'),\n",
        "    (model.conv12[0], 'weight'),\n",
        "\n",
        "    (model.conv21[0], 'weight'),\n",
        "    (model.conv22[0], 'weight'),\n",
        "\n",
        "    (model.conv31[0], 'weight'),\n",
        "    (model.conv32[0], 'weight'),\n",
        "    (model.conv33[0], 'weight'),\n",
        "\n",
        "    (model.conv41[0], 'weight'),\n",
        "    (model.conv42[0], 'weight'),\n",
        "    (model.conv43[0], 'weight'),\n",
        "\n",
        "    (model.conv51[0], 'weight'),\n",
        "    (model.conv52[0], 'weight'),\n",
        "    (model.conv53[0], 'weight'),\n",
        ")\n",
        "'''\n",
        "print(parameters_to_prune)"
      ]
    },
    {
      "cell_type": "code",
      "execution_count": null,
      "metadata": {
        "colab": {
          "base_uri": "https://localhost:8080/",
          "height": 365
        },
        "id": "SlFvcWy0SqXm",
        "outputId": "598a0e46-3467-42c2-cc0e-5e570860549f"
      },
      "outputs": [
        {
          "ename": "TypeError",
          "evalue": "ignored",
          "output_type": "error",
          "traceback": [
            "\u001b[0;31m---------------------------------------------------------------------------\u001b[0m",
            "\u001b[0;31mTypeError\u001b[0m                                 Traceback (most recent call last)",
            "\u001b[0;32m<ipython-input-32-3e53cb47963e>\u001b[0m in \u001b[0;36m<module>\u001b[0;34m()\u001b[0m\n\u001b[1;32m      2\u001b[0m     \u001b[0mparameters_to_prune\u001b[0m\u001b[0;34m,\u001b[0m\u001b[0;34m\u001b[0m\u001b[0;34m\u001b[0m\u001b[0m\n\u001b[1;32m      3\u001b[0m     \u001b[0mpruning_method\u001b[0m\u001b[0;34m=\u001b[0m\u001b[0mprune\u001b[0m\u001b[0;34m.\u001b[0m\u001b[0mL1Unstructured\u001b[0m\u001b[0;34m,\u001b[0m\u001b[0;34m\u001b[0m\u001b[0;34m\u001b[0m\u001b[0m\n\u001b[0;32m----> 4\u001b[0;31m     \u001b[0mamount\u001b[0m\u001b[0;34m=\u001b[0m\u001b[0;36m0.2\u001b[0m\u001b[0;34m\u001b[0m\u001b[0;34m\u001b[0m\u001b[0m\n\u001b[0m\u001b[1;32m      5\u001b[0m )\n",
            "\u001b[0;32m/usr/local/lib/python3.7/dist-packages/torch/nn/utils/prune.py\u001b[0m in \u001b[0;36mglobal_unstructured\u001b[0;34m(parameters, pruning_method, importance_scores, **kwargs)\u001b[0m\n\u001b[1;32m   1074\u001b[0m         [\n\u001b[1;32m   1075\u001b[0m             \u001b[0mimportance_scores\u001b[0m\u001b[0;34m.\u001b[0m\u001b[0mget\u001b[0m\u001b[0;34m(\u001b[0m\u001b[0;34m(\u001b[0m\u001b[0mmodule\u001b[0m\u001b[0;34m,\u001b[0m \u001b[0mname\u001b[0m\u001b[0;34m)\u001b[0m\u001b[0;34m,\u001b[0m \u001b[0mgetattr\u001b[0m\u001b[0;34m(\u001b[0m\u001b[0mmodule\u001b[0m\u001b[0;34m,\u001b[0m \u001b[0mname\u001b[0m\u001b[0;34m)\u001b[0m\u001b[0;34m)\u001b[0m\u001b[0;34m\u001b[0m\u001b[0;34m\u001b[0m\u001b[0m\n\u001b[0;32m-> 1076\u001b[0;31m             \u001b[0;32mfor\u001b[0m \u001b[0;34m(\u001b[0m\u001b[0mmodule\u001b[0m\u001b[0;34m,\u001b[0m \u001b[0mname\u001b[0m\u001b[0;34m)\u001b[0m \u001b[0;32min\u001b[0m \u001b[0mparameters\u001b[0m\u001b[0;34m\u001b[0m\u001b[0;34m\u001b[0m\u001b[0m\n\u001b[0m\u001b[1;32m   1077\u001b[0m         ]\n\u001b[1;32m   1078\u001b[0m     )\n",
            "\u001b[0;32m/usr/local/lib/python3.7/dist-packages/torch/nn/utils/prune.py\u001b[0m in \u001b[0;36m<listcomp>\u001b[0;34m(.0)\u001b[0m\n\u001b[1;32m   1074\u001b[0m         [\n\u001b[1;32m   1075\u001b[0m             \u001b[0mimportance_scores\u001b[0m\u001b[0;34m.\u001b[0m\u001b[0mget\u001b[0m\u001b[0;34m(\u001b[0m\u001b[0;34m(\u001b[0m\u001b[0mmodule\u001b[0m\u001b[0;34m,\u001b[0m \u001b[0mname\u001b[0m\u001b[0;34m)\u001b[0m\u001b[0;34m,\u001b[0m \u001b[0mgetattr\u001b[0m\u001b[0;34m(\u001b[0m\u001b[0mmodule\u001b[0m\u001b[0;34m,\u001b[0m \u001b[0mname\u001b[0m\u001b[0;34m)\u001b[0m\u001b[0;34m)\u001b[0m\u001b[0;34m\u001b[0m\u001b[0;34m\u001b[0m\u001b[0m\n\u001b[0;32m-> 1076\u001b[0;31m             \u001b[0;32mfor\u001b[0m \u001b[0;34m(\u001b[0m\u001b[0mmodule\u001b[0m\u001b[0;34m,\u001b[0m \u001b[0mname\u001b[0m\u001b[0;34m)\u001b[0m \u001b[0;32min\u001b[0m \u001b[0mparameters\u001b[0m\u001b[0;34m\u001b[0m\u001b[0;34m\u001b[0m\u001b[0m\n\u001b[0m\u001b[1;32m   1077\u001b[0m         ]\n\u001b[1;32m   1078\u001b[0m     )\n",
            "\u001b[0;31mTypeError\u001b[0m: cannot unpack non-iterable Conv2d object"
          ]
        }
      ],
      "source": [
        "prune.global_unstructured(\n",
        "    parameters_to_prune,\n",
        "    pruning_method=prune.L1Unstructured,\n",
        "    amount=0.2\n",
        ")"
      ]
    },
    {
      "cell_type": "code",
      "execution_count": null,
      "metadata": {
        "id": "mvVXwL_X1eVs"
      },
      "outputs": [],
      "source": [
        "print(parameters_to_prune)"
      ]
    },
    {
      "cell_type": "code",
      "execution_count": null,
      "metadata": {
        "id": "HR2fTpzw5EOm"
      },
      "outputs": [],
      "source": [
        "print(\n",
        "    \"Sparsity in conv1.weight: {:.2f}%\".format(\n",
        "        100. * float(torch.sum(model.conv11[0].weight == 0))\n",
        "        / float(model.conv11[0].weight.nelement())\n",
        "    )\n",
        ")\n",
        "print(\n",
        "    \"Sparsity in conv2.weight: {:.2f}%\".format(\n",
        "        100. * float(torch.sum(model.conv12[0].weight == 0))\n",
        "        / float(model.conv12[0].weight.nelement())\n",
        "    )\n",
        ")\n",
        "\n",
        "print(\n",
        "    \"Sparsity in conv3.weight: {:.2f}%\".format(\n",
        "        100. * float(torch.sum(model.conv21[0].weight == 0))\n",
        "        / float(model.conv21[0].weight.nelement())\n",
        "    )\n",
        ")\n",
        "print(\n",
        "    \"Sparsity in conv3.weight: {:.2f}%\".format(\n",
        "        100. * float(torch.sum(model.conv22[0].weight == 0))\n",
        "        / float(model.conv22[0].weight.nelement())\n",
        "    )\n",
        ")\n",
        "\n",
        "print(\n",
        "    \"Sparsity in conv4.weight: {:.2f}%\".format(\n",
        "        100. * float(torch.sum(model.conv31[0].weight == 0))\n",
        "        / float(model.conv31[0].weight.nelement())\n",
        "    )\n",
        ")\n",
        "print(\n",
        "    \"Sparsity in conv3.weight: {:.2f}%\".format(\n",
        "        100. * float(torch.sum(model.conv32[0].weight == 0))\n",
        "        / float(model.conv32[0].weight.nelement())\n",
        "    )\n",
        ")\n",
        "print(\n",
        "    \"Sparsity in conv3.weight: {:.2f}%\".format(\n",
        "        100. * float(torch.sum(model.conv33[0].weight == 0))\n",
        "        / float(model.conv33[0].weight.nelement())\n",
        "    )\n",
        ")\n",
        "\n",
        "print(\n",
        "    \"Sparsity in conv3.weight: {:.2f}%\".format(\n",
        "        100. * float(torch.sum(model.conv41[0].weight == 0))\n",
        "        / float(model.conv41[0].weight.nelement())\n",
        "    )\n",
        ")\n",
        "print(\n",
        "    \"Sparsity in conv3.weight: {:.2f}%\".format(\n",
        "        100. * float(torch.sum(model.conv42[0].weight == 0))\n",
        "        / float(model.conv21[0].weight.nelement())\n",
        "    )\n",
        ")\n",
        "print(\n",
        "    \"Sparsity in conv3.weight: {:.2f}%\".format(\n",
        "        100. * float(torch.sum(model.conv43[0].weight == 0))\n",
        "        / float(model.conv43[0].weight.nelement())\n",
        "    )\n",
        ")\n",
        "\n",
        "print(\n",
        "    \"Sparsity in conv3.weight: {:.2f}%\".format(\n",
        "        100. * float(torch.sum(model.conv51[0].weight == 0))\n",
        "        / float(model.conv51[0].weight.nelement())\n",
        "    )\n",
        ")\n",
        "print(\n",
        "    \"Sparsity in conv3.weight: {:.2f}%\".format(\n",
        "        100. * float(torch.sum(model.conv52[0].weight == 0))\n",
        "        / float(model.conv52[0].weight.nelement())\n",
        "    )\n",
        ")\n",
        "print(\n",
        "    \"Sparsity in conv3.weight: {:.2f}%\".format(\n",
        "        100. * float(torch.sum(model.conv53[0].weight == 0))\n",
        "        / float(model.conv53[0].weight.nelement())\n",
        "    )\n",
        ")\n",
        "    \n",
        "\n",
        "\n",
        "print(\n",
        "    \"Global sparsity: {:.2f}%\".format(\n",
        "        100. * float(\n",
        "            torch.sum(model.conv11[0].weight == 0)\n",
        "            + torch.sum(model.conv12[0].weight == 0)\n",
        "            \n",
        "            + torch.sum(model.conv21[0].weight == 0)\n",
        "            + torch.sum(model.conv22[0].weight == 0)\n",
        "            \n",
        "            + torch.sum(model.conv31[0].weight == 0)\n",
        "            + torch.sum(model.conv32[0].weight == 0)\n",
        "            + torch.sum(model.conv33[0].weight == 0)\n",
        "\n",
        "            + torch.sum(model.conv41[0].weight == 0)\n",
        "            + torch.sum(model.conv42[0].weight == 0)\n",
        "            + torch.sum(model.conv43[0].weight == 0)\n",
        "\n",
        "            + torch.sum(model.conv51[0].weight == 0)\n",
        "            + torch.sum(model.conv52[0].weight == 0)\n",
        "            + torch.sum(model.conv53[0].weight == 0)\n",
        "\n",
        "        )\n",
        "        / float(\n",
        "            \n",
        "            model.conv11[0].weight.nelement()\n",
        "            + model.conv12[0].weight.nelement()\n",
        "\n",
        "            + model.conv21[0].weight.nelement()\n",
        "            + model.conv22[0].weight.nelement()\n",
        "\n",
        "            + model.conv31[0].weight.nelement()\n",
        "            + model.conv32[0].weight.nelement()\n",
        "            + model.conv33[0].weight.nelement()\n",
        "\n",
        "            + model.conv41[0].weight.nelement()\n",
        "            + model.conv42[0].weight.nelement()\n",
        "            + model.conv43[0].weight.nelement()\n",
        "\n",
        "            + model.conv51[0].weight.nelement()\n",
        "            + model.conv52[0].weight.nelement()\n",
        "            + model.conv53[0].weight.nelement()\n",
        "        )\n",
        "    )\n",
        ")\n"
      ]
    },
    {
      "cell_type": "code",
      "execution_count": null,
      "metadata": {
        "id": "HGGLX6LbU_6l"
      },
      "outputs": [],
      "source": [
        "prune.remove(model.conv11[0], 'weight')\n",
        "prune.remove(model.conv12[0], 'weight')\n",
        "\n",
        "prune.remove(model.conv22[0], 'weight')\n",
        "prune.remove(model.conv21[0], 'weight')\n",
        "\n",
        "prune.remove(model.conv31[0], 'weight')\n",
        "prune.remove(model.conv32[0], 'weight')\n",
        "prune.remove(model.conv33[0], 'weight')\n",
        "\n",
        "prune.remove(model.conv41[0], 'weight')\n",
        "prune.remove(model.conv42[0], 'weight')\n",
        "prune.remove(model.conv43[0], 'weight')\n",
        "\n",
        "prune.remove(model.conv51[0], 'weight')\n",
        "prune.remove(model.conv52[0], 'weight')\n",
        "prune.remove(model.conv53[0], 'weight')"
      ]
    },
    {
      "cell_type": "code",
      "execution_count": null,
      "metadata": {
        "id": "IAZl0FkQPNuK"
      },
      "outputs": [],
      "source": [
        "for i in range(len(Module)):\n",
        "  prune.remove(Module[i], 'weight')"
      ]
    },
    {
      "cell_type": "code",
      "execution_count": null,
      "metadata": {
        "id": "JneoVATT9XzO"
      },
      "outputs": [],
      "source": [
        ""
      ]
    }
  ],
  "metadata": {
    "colab": {
      "collapsed_sections": [],
      "name": "05 VGGNetPruning.ipynb",
      "provenance": [],
      "include_colab_link": true
    },
    "kernelspec": {
      "display_name": "Python 3",
      "language": "python",
      "name": "python3"
    },
    "language_info": {
      "codemirror_mode": {
        "name": "ipython",
        "version": 3
      },
      "file_extension": ".py",
      "mimetype": "text/x-python",
      "name": "python",
      "nbconvert_exporter": "python",
      "pygments_lexer": "ipython3",
      "version": "3.8.5"
    }
  },
  "nbformat": 4,
  "nbformat_minor": 0
}