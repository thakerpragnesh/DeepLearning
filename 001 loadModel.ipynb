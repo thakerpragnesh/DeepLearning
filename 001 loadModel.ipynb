{
 "cells": [
  {
   "cell_type": "code",
   "execution_count": 2,
   "id": "04762523",
   "metadata": {},
   "outputs": [],
   "source": [
    "#import torch library to build neural network\n",
    "import torch  # Elementory function of tensor is define in torch package\n",
    "import torch.nn as nn # Several layer architectur is define here\n",
    "import torch.nn.functional as F # loss function and activation function"
   ]
  },
  {
   "cell_type": "code",
   "execution_count": 3,
   "id": "7c69ae2c",
   "metadata": {},
   "outputs": [],
   "source": [
    "\"\"\"\n",
    "Computer vision is one of the most important application and thus lots \n",
    "of deplopment in the and torch.vision provides many facilities that can \n",
    "be use to imporve model such as data augmentation, reading data batchwise, \n",
    "suffling data before each epoch and many more\n",
    "\"\"\"\n",
    "# import torch library related to image data processing\n",
    "import torchvision # provides facilities to access image dataset\n",
    "from torchvision.datasets.utils import download_url \n",
    "from torchvision.datasets import ImageFolder\n",
    "from torch.utils.data import DataLoader\n",
    "import torchvision.transforms as transforms\n",
    "from torch.utils.data import random_split\n",
    "from torchvision.utils import make_grid\n",
    "from torchvision import datasets, models, transforms"
   ]
  },
  {
   "cell_type": "code",
   "execution_count": 1,
   "id": "a1a4b51f",
   "metadata": {},
   "outputs": [],
   "source": [
    "def getDeviceType():\n",
    "  if torch.cuda.is_available():\n",
    "    return torch.device('cuda')\n",
    "  else:\n",
    "    return torch.device('cpu')"
   ]
  },
  {
   "cell_type": "code",
   "execution_count": 3,
   "id": "5fe8a3e5",
   "metadata": {},
   "outputs": [],
   "source": [
    "def loadModel(modelname,numberOfClass,pretrainval=False,freezeFeature=False,device=torch.device('cpu')):\n",
    "    device = device = torch.device('cpu')\n",
    "    device = getDeviceType()\n",
    "    if modelname == 'vgg16' or modelname == 'vgg13' or modelname == 'vgg11':\n",
    "        if modelname == 'vgg11':\n",
    "            newModel = torchvision.models.vgg11(pretrained=pretrainval)\n",
    "        if modelname == 'vgg13':\n",
    "            newModel = torchvision.models.vgg13(pretrained=False)\n",
    "        if modelname == 'vgg16':\n",
    "            newModel = torchvision.models.vgg16(pretrained=False)\n",
    "            print('VGG16 Loaded')\n",
    "        if freezeFeature:\n",
    "            for param in newModel.parameters():\n",
    "                param.requires_grad = False\n",
    "        #Need to change the below code if we choose different model\n",
    "        print(newModel.classifier[6])\n",
    "        num_ftrs = newModel.classifier[6].in_features\n",
    "        # Here the size of each output sample is set to 10.\n",
    "        # Alternatively, it can be generalized to nn.Linear(num_ftrs, len(class_names)).\n",
    "        newModel.classifier[6] = nn.Linear(num_ftrs, numberOfClass)\n",
    "        newModel = newModel.to(device)\n",
    "        return newModel\n",
    "    \n",
    "    if modelname == 'vgg16bn' or modelname == 'vgg13bn' or modelname == 'vgg11bn':\n",
    "        if modelname == 'vgg11bn':\n",
    "            newModel = torchvision.models.vgg11_bn(pretrained=pretrainval)\n",
    "        if modelname == 'vgg13bn':\n",
    "            newModel = torchvision.models.vgg13_bn(pretrained=False)\n",
    "        if modelname == 'vgg16bn':\n",
    "            newModel = torchvision.models.vgg16_bn(pretrained=False)    \n",
    "        if freezeFeature:\n",
    "            for param in newModel.parameters():\n",
    "                param.requires_grad = False\n",
    "        #Need to change the below code if we choose different model\n",
    "        print(newModel.classifier[6])\n",
    "        num_ftrs = newModel.classifier[6].in_features\n",
    "        # Here the size of each output sample is set to 10.\n",
    "        # Alternatively, it can be generalized to nn.Linear(num_ftrs, len(class_names)).\n",
    "        newModel.classifier[6] = nn.Linear(num_ftrs, numberOfClass)\n",
    "        newModel = newModel.to(device)\n",
    "        return newModel\n",
    "    \n",
    "    \n",
    "    ##################### Download Pretrain ResNet 18 ############################\n",
    "    if modelname == 'resnet18':\n",
    "        newModel = torchvision.models.resnet18(pretrained=False)\n",
    "        print(newModel.fc)\n",
    "        for param in newModel.parameters():\n",
    "            param.requires_grad = False\n",
    "        #print(newModel)\n",
    "        #Need to change the below code if we choose different model\n",
    "        num_ftrs = newModel.fc.in_features\n",
    "        # Here the size of each output sample is set to 10.\n",
    "        # Alternatively, it can be generalized to nn.Linear(num_ftrs, len(class_names)).\n",
    "        newModel.fc = nn.Linear(num_ftrs, 10)\n",
    "        newModel = newModel.to(device)\n",
    "        return newModel\n"
   ]
  },
  {
   "cell_type": "code",
   "execution_count": 4,
   "id": "26803e37",
   "metadata": {},
   "outputs": [],
   "source": [
    "def loadSavedModel(LoadPath):\n",
    "    if device== torch.device('cpu'):\n",
    "        newModel = torch.load(LoadPath, map_location=torch.device('cpu'))\n",
    "    else:\n",
    "        newModel = torch.load(LoadPath, map_location=torch.device('cuda'))"
   ]
  },
  {
   "cell_type": "code",
   "execution_count": 5,
   "id": "107c0132",
   "metadata": {},
   "outputs": [],
   "source": [
    "def freeze(model,modelName):\n",
    "    if modelname == 'vgg16':\n",
    "        for param in model.parameters():\n",
    "            if count == 30:\n",
    "              param.requires_grad=True\n",
    "            else:\n",
    "              param.requires_grad=False\n",
    "                \n",
    "    if modelname == 'vgg13':\n",
    "        for param in model.parameters():\n",
    "            if count == 24:\n",
    "              param.requires_grad=True\n",
    "            else:\n",
    "              param.requires_grad=False\n",
    "            \n",
    "    if modelname == 'vgg11':\n",
    "        for param in model.parameters():\n",
    "            if count == 20:\n",
    "              param.requires_grad=True\n",
    "            else:\n",
    "              param.requires_grad=False"
   ]
  },
  {
   "cell_type": "code",
   "execution_count": 6,
   "id": "4d0710bd",
   "metadata": {},
   "outputs": [],
   "source": [
    "def freezeFeature(model,modelName):\n",
    "    if modelname == 'vgg16':\n",
    "        for param in model.parameters():\n",
    "            if count in (26,28,30):\n",
    "              param.requires_grad=True\n",
    "            else:\n",
    "              param.requires_grad=False\n",
    "                \n",
    "    if modelname == 'vgg13':\n",
    "        for param in model.parameters():\n",
    "            if count in (20,22,24):\n",
    "              param.requires_grad=True\n",
    "            else:\n",
    "              param.requires_grad=False\n",
    "            \n",
    "    if modelname == 'vgg11':\n",
    "        for param in model.parameters():\n",
    "            if count in (16,18,20):\n",
    "              param.requires_grad=True\n",
    "            else:\n",
    "              param.requires_grad=False"
   ]
  },
  {
   "cell_type": "code",
   "execution_count": 7,
   "id": "d600962d",
   "metadata": {},
   "outputs": [],
   "source": [
    "def unfreeze(model,modelName):\n",
    "    for param in model.parameters():\n",
    "        param.requires_grad=True"
   ]
  }
 ],
 "metadata": {
  "kernelspec": {
   "display_name": "Python 3 (ipykernel)",
   "language": "python",
   "name": "python3"
  },
  "language_info": {
   "codemirror_mode": {
    "name": "ipython",
    "version": 3
   },
   "file_extension": ".py",
   "mimetype": "text/x-python",
   "name": "python",
   "nbconvert_exporter": "python",
   "pygments_lexer": "ipython3",
   "version": "3.9.7"
  }
 },
 "nbformat": 4,
 "nbformat_minor": 5
}
