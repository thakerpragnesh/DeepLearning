{
 "cells": [
  {
   "cell_type": "code",
   "execution_count": 1,
   "id": "b5704a79",
   "metadata": {},
   "outputs": [],
   "source": [
    "import my_utils.loadModel as lm\n",
    "import my_utils.initialize_pruning as ip"
   ]
  },
  {
   "cell_type": "code",
   "execution_count": 2,
   "id": "46057cac",
   "metadata": {},
   "outputs": [
    {
     "name": "stdout",
     "output_type": "stream",
     "text": [
      "VGG16 Loaded\n",
      "Linear(in_features=4096, out_features=1000, bias=True)\n"
     ]
    }
   ],
   "source": [
    "model_name = 'vgg16'\n",
    "model = lm.load_model(model_name=model_name,number_of_class=6)"
   ]
  },
  {
   "cell_type": "code",
   "execution_count": 3,
   "id": "f94e3ded",
   "metadata": {},
   "outputs": [
    {
     "name": "stdout",
     "output_type": "stream",
     "text": [
      "blocks =[2, 2, 3, 3, 3] \n",
      "feature list = [0, 2, 5, 7, 10, 12, 14, 17, 19, 21, 24, 26, 28] \n",
      "prune count list =[1, 1, 2, 2, 4, 4, 4, 13, 13, 13, 26, 26, 26]\n"
     ]
    }
   ],
   "source": [
    "blocks = ip.getBlockList(modelname=model_name)\n",
    "feature_list = ip.getFeatureList(modelname=model_name)\n",
    "module = ip.getPruneModule(model,prunelist=feature_list)\n",
    "prune_count = ip.getPruneCount(module=module,blocks=blocks,maxpr=.05)\n",
    "print(f\"blocks ={blocks} \\nfeature list = {feature_list} \\nprune count list ={prune_count}\")\n"
   ]
  },
  {
   "cell_type": "code",
   "execution_count": null,
   "id": "3efe92c5",
   "metadata": {},
   "outputs": [],
   "source": []
  },
  {
   "cell_type": "code",
   "execution_count": 7,
   "id": "61a449a0",
   "metadata": {},
   "outputs": [
    {
     "name": "stdout",
     "output_type": "stream",
     "text": [
      "torch.Size([64, 3, 3, 3])\n",
      "torch.Size([64, 64, 3, 3])\n",
      "torch.Size([128, 64, 3, 3])\n",
      "torch.Size([128, 128, 3, 3])\n",
      "torch.Size([256, 128, 3, 3])\n",
      "torch.Size([256, 256, 3, 3])\n",
      "torch.Size([256, 256, 3, 3])\n",
      "torch.Size([512, 256, 3, 3])\n",
      "torch.Size([512, 512, 3, 3])\n",
      "torch.Size([512, 512, 3, 3])\n",
      "torch.Size([512, 512, 3, 3])\n",
      "torch.Size([512, 512, 3, 3])\n",
      "torch.Size([512, 512, 3, 3])\n"
     ]
    }
   ],
   "source": [
    "for i in range(len(module)):\n",
    "    print(module[i]._parameters['weight'].shape)"
   ]
  },
  {
   "cell_type": "code",
   "execution_count": null,
   "id": "2867158e",
   "metadata": {},
   "outputs": [],
   "source": []
  }
 ],
 "metadata": {
  "kernelspec": {
   "display_name": "Python 3 (ipykernel)",
   "language": "python",
   "name": "python3"
  },
  "language_info": {
   "codemirror_mode": {
    "name": "ipython",
    "version": 3
   },
   "file_extension": ".py",
   "mimetype": "text/x-python",
   "name": "python",
   "nbconvert_exporter": "python",
   "pygments_lexer": "ipython3",
   "version": "3.9.7"
  }
 },
 "nbformat": 4,
 "nbformat_minor": 5
}
