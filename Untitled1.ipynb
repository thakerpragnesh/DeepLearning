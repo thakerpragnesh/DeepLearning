{
 "cells": [
  {
   "cell_type": "code",
   "execution_count": 1,
   "id": "57832625",
   "metadata": {},
   "outputs": [],
   "source": [
    "import torch\n"
   ]
  },
  {
   "cell_type": "code",
   "execution_count": 13,
   "id": "184ee3a8",
   "metadata": {},
   "outputs": [],
   "source": [
    "norm1 = torch.rand(3,4)"
   ]
  },
  {
   "cell_type": "code",
   "execution_count": 14,
   "id": "296da581",
   "metadata": {},
   "outputs": [
    {
     "name": "stdout",
     "output_type": "stream",
     "text": [
      "tensor([[0.8053, 0.3190, 0.1200, 0.8884],\n",
      "        [0.4181, 0.0458, 0.8758, 0.4955],\n",
      "        [0.8981, 0.8272, 0.2613, 0.5035]])\n"
     ]
    }
   ],
   "source": [
    "print(norm1)"
   ]
  },
  {
   "cell_type": "code",
   "execution_count": 15,
   "id": "7676a491",
   "metadata": {},
   "outputs": [],
   "source": [
    "s = norm1.shape"
   ]
  },
  {
   "cell_type": "code",
   "execution_count": 17,
   "id": "0f795c49",
   "metadata": {},
   "outputs": [
    {
     "name": "stdout",
     "output_type": "stream",
     "text": [
      "tensor(0.8758)\n"
     ]
    }
   ],
   "source": [
    "print(norm1[1][2])"
   ]
  },
  {
   "cell_type": "code",
   "execution_count": null,
   "id": "c8f53de9",
   "metadata": {},
   "outputs": [],
   "source": []
  }
 ],
 "metadata": {
  "kernelspec": {
   "display_name": "Python 3 (ipykernel)",
   "language": "python",
   "name": "python3"
  },
  "language_info": {
   "codemirror_mode": {
    "name": "ipython",
    "version": 3
   },
   "file_extension": ".py",
   "mimetype": "text/x-python",
   "name": "python",
   "nbconvert_exporter": "python",
   "pygments_lexer": "ipython3",
   "version": "3.9.7"
  }
 },
 "nbformat": 4,
 "nbformat_minor": 5
}
