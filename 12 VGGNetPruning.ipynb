{
 "cells": [
  {
   "cell_type": "code",
   "execution_count": 1,
   "metadata": {},
   "outputs": [],
   "source": [
    "#import basic library for some basic function\n",
    "import numpy as np\n",
    "# import library to perform file operation\n",
    "import os #use to access the files \n",
    "import tarfile # use to extract dataset from zip files\n",
    "import sys\n",
    "import zipfile"
   ]
  },
  {
   "cell_type": "code",
   "execution_count": 2,
   "metadata": {},
   "outputs": [],
   "source": [
    "import my_utils.loadDataset as dl\n",
    "import my_utils.loadModel as lm\n",
    "import my_utils.trainModel as tm"
   ]
  },
  {
   "cell_type": "code",
   "execution_count": 3,
   "metadata": {},
   "outputs": [],
   "source": [
    "import torch\n",
    "import torchvision"
   ]
  },
  {
   "cell_type": "code",
   "execution_count": 4,
   "metadata": {},
   "outputs": [],
   "source": [
    "dl.setFolderLocation(datasets='/home/pragnesh/Dataset/',selectedDataset='IntelIC/',train='train',test='test')\n",
    "dl.setImageSize(224)\n",
    "dl.setBatchSize = 2\n",
    "dataLoader = dl.dataLoader()"
   ]
  },
  {
   "cell_type": "code",
   "execution_count": 5,
   "metadata": {},
   "outputs": [
    {
     "name": "stderr",
     "output_type": "stream",
     "text": [
      "/home/pragnesh/anaconda3/lib/python3.8/site-packages/torch/cuda/__init__.py:52: UserWarning: CUDA initialization: Found no NVIDIA driver on your system. Please check that you have an NVIDIA GPU and installed a driver from http://www.nvidia.com/Download/index.aspx (Triggered internally at  /pytorch/c10/cuda/CUDAFunctions.cpp:100.)\n",
      "  return torch._C._cuda_getDeviceCount() > 0\n"
     ]
    },
    {
     "name": "stdout",
     "output_type": "stream",
     "text": [
      "VGG16 Loaded\n",
      "Linear(in_features=4096, out_features=1000, bias=True)\n"
     ]
    }
   ],
   "source": [
    "#device1 = torch.device(\"cpu\")\n",
    "device1 = torch.device(\"cuda:0\" if torch.cuda.is_available() else \"cpu\")\n",
    "#print(device1)\n",
    "newmodel = lm.load_model(model_name='vgg16',number_of_class=6,pretrainval=False,\n",
    "                        freeze_feature=False,device_l=device1)"
   ]
  },
  {
   "cell_type": "code",
   "execution_count": null,
   "metadata": {},
   "outputs": [],
   "source": [
    "logFile = '/home/pragnesh/Dataset/Intel_Image_Classifacation_v2/Logs/ConvModelv2.log'\n",
    "#tm.device = torch.device('cpu')\n",
    "tm.fit_one_cycle(dataloaders=dataLoader,trainDir=dl.trainDir,testDir=dl.testDir,\n",
    "                 ModelName='vgg16',model=newmodel,device_l=device1,\n",
    "                 epochs=1, max_lr=0.01, weight_decay=0, L1=0, grad_clip=.1, logFile=logFile)"
   ]
  },
  {
   "cell_type": "code",
   "execution_count": 6,
   "metadata": {},
   "outputs": [
    {
     "name": "stdout",
     "output_type": "stream",
     "text": [
      "[64, 64, 'M', 128, 128, 'M', 256, 256, 256, 'M', 512, 512, 512, 'M', 512, 512, 512, 'M']\n"
     ]
    }
   ],
   "source": [
    "vgg16_features = lm.vgg16_feature_list\n",
    "print(vgg16_features)"
   ]
  },
  {
   "cell_type": "code",
   "execution_count": 7,
   "metadata": {},
   "outputs": [
    {
     "name": "stdout",
     "output_type": "stream",
     "text": [
      "VGG(\n",
      "  (features): Sequential(\n",
      "    (0): Conv2d(3, 61, kernel_size=(3, 3), stride=(1, 1), padding=(1, 1))\n",
      "    (1): ReLU(inplace=True)\n",
      "    (2): Conv2d(61, 61, kernel_size=(3, 3), stride=(1, 1), padding=(1, 1))\n",
      "    (3): ReLU(inplace=True)\n",
      "    (4): MaxPool2d(kernel_size=2, stride=2, padding=0, dilation=1, ceil_mode=False)\n",
      "    (5): Conv2d(61, 122, kernel_size=(3, 3), stride=(1, 1), padding=(1, 1))\n",
      "    (6): ReLU(inplace=True)\n",
      "    (7): Conv2d(122, 122, kernel_size=(3, 3), stride=(1, 1), padding=(1, 1))\n",
      "    (8): ReLU(inplace=True)\n",
      "    (9): MaxPool2d(kernel_size=2, stride=2, padding=0, dilation=1, ceil_mode=False)\n",
      "    (10): Conv2d(122, 243, kernel_size=(3, 3), stride=(1, 1), padding=(1, 1))\n",
      "    (11): ReLU(inplace=True)\n",
      "    (12): Conv2d(243, 243, kernel_size=(3, 3), stride=(1, 1), padding=(1, 1))\n",
      "    (13): ReLU(inplace=True)\n",
      "    (14): Conv2d(243, 243, kernel_size=(3, 3), stride=(1, 1), padding=(1, 1))\n",
      "    (15): ReLU(inplace=True)\n",
      "    (16): MaxPool2d(kernel_size=2, stride=2, padding=0, dilation=1, ceil_mode=False)\n",
      "    (17): Conv2d(243, 486, kernel_size=(3, 3), stride=(1, 1), padding=(1, 1))\n",
      "    (18): ReLU(inplace=True)\n",
      "    (19): Conv2d(486, 486, kernel_size=(3, 3), stride=(1, 1), padding=(1, 1))\n",
      "    (20): ReLU(inplace=True)\n",
      "    (21): Conv2d(486, 486, kernel_size=(3, 3), stride=(1, 1), padding=(1, 1))\n",
      "    (22): ReLU(inplace=True)\n",
      "    (23): MaxPool2d(kernel_size=2, stride=2, padding=0, dilation=1, ceil_mode=False)\n",
      "    (24): Conv2d(486, 486, kernel_size=(3, 3), stride=(1, 1), padding=(1, 1))\n",
      "    (25): ReLU(inplace=True)\n",
      "    (26): Conv2d(486, 486, kernel_size=(3, 3), stride=(1, 1), padding=(1, 1))\n",
      "    (27): ReLU(inplace=True)\n",
      "    (28): Conv2d(486, 486, kernel_size=(3, 3), stride=(1, 1), padding=(1, 1))\n",
      "    (29): ReLU(inplace=True)\n",
      "    (30): MaxPool2d(kernel_size=2, stride=2, padding=0, dilation=1, ceil_mode=False)\n",
      "  )\n",
      "  (avgpool): AdaptiveAvgPool2d(output_size=(7, 7))\n",
      "  (classifier): Sequential(\n",
      "    (0): Linear(in_features=25088, out_features=4096, bias=True)\n",
      "    (1): ReLU(inplace=True)\n",
      "    (2): Dropout(p=0.5, inplace=False)\n",
      "    (3): Linear(in_features=4096, out_features=4096, bias=True)\n",
      "    (4): ReLU(inplace=True)\n",
      "    (5): Dropout(p=0.5, inplace=False)\n",
      "    (6): Linear(in_features=4096, out_features=10, bias=True)\n",
      "  )\n",
      ")\n"
     ]
    }
   ],
   "source": [
    "prune_count= [3,3, 6,6, 13,13,13, 26,26,26, 26,26,26]\n",
    "j=0\n",
    "for i in range(len(vgg16_features)):\n",
    "    if vgg16_features[i]=='M':\n",
    "        continue\n",
    "    else:\n",
    "        vgg16_features[i] = vgg16_features[i]-prune_count[j]\n",
    "        j+=1\n",
    "vgg16Model = lm.create_vgg_from_feature_list(vgg16_features)    \n",
    "print(vgg16Model)"
   ]
  },
  {
   "cell_type": "code",
   "execution_count": null,
   "metadata": {},
   "outputs": [],
   "source": [
    "\"\"\"Select the amount of feature we want to prune in each Layer\"\"\"\n",
    "epochs = 10\n",
    "max_lr = 1e-3\n",
    "grad_clip = .2 \n",
    "weight_decay = 1e-5 \n",
    "L1=1e-5\n",
    "itteration = 6\n",
    "for  ittr in range(itteration):\n",
    "    for i in range(len(Module)):\n",
    "        prune.ln_structured(Module[i], name=\"weight\", amount=pr[i]/itteration, n=1, dim=0)\n",
    "    numberOfZero = 0\n",
    "    numberOfElements = 0\n",
    "    totalNumberOfZero=0\n",
    "    totalNumberOfElements=0\n",
    "    for i, j in zip(range(len(prunelist)),prunelist):\n",
    "        numberOfZero = torch.sum(Module[i].weight == 0)\n",
    "        totalNumberOfZero += numberOfZero\n",
    "        numberOfElements = Module[i].weight.nelement()\n",
    "        totalNumberOfElements += numberOfElements\n",
    "        frac = 100. * float(torch.sum(Module[i].weight == 0))/float(Module[i].weight.nelement())\n",
    "        with open(outfile,'a') as f:\n",
    "            f.write((f\"{j} Sparsity in {Module[i]} is \\t{frac}\"))\n",
    "        \n",
    "    with open(outfile,'a') as f:\n",
    "        f.write((\"Global Sparsity: {:.2f}%\".format(100*float(numberOfZero)/float(numberOfElements))))\n",
    "\n",
    "    print(f\"******************** {ittr}**********************\")\n",
    "    #fit_one_cycle(ModelName,epochs, max_lr, model,weight_decay=0, \n",
    "    #             L1=0,grad_clip=None, opt_func=torch.optim.SGD):\n",
    "    historyPrun = fit_one_cycle(MODEL_NAME,epochs, max_lr, newModel,  \n",
    "                              grad_clip=grad_clip, \n",
    "                              weight_decay=weight_decay, L1=L1,\n",
    "                              opt_func=opt_func\n",
    "                              )"
   ]
  }
 ],
 "metadata": {
  "kernelspec": {
   "display_name": "Python 3",
   "language": "python",
   "name": "python3"
  },
  "language_info": {
   "codemirror_mode": {
    "name": "ipython",
    "version": 3
   },
   "file_extension": ".py",
   "mimetype": "text/x-python",
   "name": "python",
   "nbconvert_exporter": "python",
   "pygments_lexer": "ipython3",
   "version": "3.8.5"
  }
 },
 "nbformat": 4,
 "nbformat_minor": 5
}
