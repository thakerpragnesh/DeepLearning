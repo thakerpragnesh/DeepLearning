{
 "cells": [
  {
   "cell_type": "code",
   "execution_count": 1,
   "id": "a36dfadf",
   "metadata": {},
   "outputs": [],
   "source": [
    "import numpy as np                   # Basic Array and Numaric Operation\n",
    "import os                            # use to access the files \n",
    "import tarfile                       # use to extract dataset from zip files\n",
    "import sys\n",
    "import zipfile                       # to extract zip file\n",
    "\n",
    "\n",
    "import torch                         # Provides basic tensor operation and nn operation\n",
    "import torchvision                   # Provides facilities to access image dataset\n",
    "\n",
    "\n",
    "import my_utils.loadDataset as dl           # create dataloader for selected dataset\n",
    "import my_utils.loadModel as lm             # facilitate loading and manipulating models\n",
    "import my_utils.trainModel as tm            # Facilitate training of the model\n",
    "import my_utils.initialize_pruning as ip"
   ]
  },
  {
   "cell_type": "markdown",
   "id": "1e85713a",
   "metadata": {},
   "source": [
    "### Prepare dataloader and set image properties. Check for cuda device and load model"
   ]
  },
  {
   "cell_type": "code",
   "execution_count": 4,
   "id": "a86a043d",
   "metadata": {},
   "outputs": [],
   "source": [
    "dl.setFolderLocation(datasets       ='/home/pragnesh/Dataset/',\n",
    "                     selectedDataset='IntelIC/',\n",
    "                     train          ='train',\n",
    "                     test           ='test')\n",
    "dl.setImageSize(224)\n",
    "dl.setBatchSize = 2\n",
    "dataLoader = dl.dataLoader()\n",
    "\n",
    "#load_path = \"/home/pragnesh/Model/Model/VGG_IntelIC_v2\"\n",
    "device1 = torch.device(\"cuda:0\" if torch.cuda.is_available() else \"cpu\")\n",
    "newModel = torch.load(load_path, map_location=torch.device('cpu'))\n",
    "\n",
    "# newmodel = lm.load_model(model_name='vgg16',number_of_class=6,pretrainval=False,\n",
    "#                         freeze_feature=False,device_l=device1)\n",
    "\n",
    "print(newModel)"
   ]
  },
  {
   "cell_type": "markdown",
   "id": "ad24b0ad",
   "metadata": {},
   "source": [
    "### Here we have 3 set of parameter.One for data loader, second for model and third are hyperparameter\n",
    "### Train the model"
   ]
  },
  {
   "cell_type": "code",
   "execution_count": null,
   "id": "99b0f9c5",
   "metadata": {},
   "outputs": [],
   "source": [
    "logFile = '/home/pragnesh/Dataset/Intel_Image_Classifacation_v2/Logs/ConvModelv2.log'\n",
    "#tm.device = torch.device('cpu')\n",
    "tm.fit_one_cycle(dataloaders=dataLoader,trainDir=dl.trainDir,testDir=dl.testDir,\n",
    "                 ModelName='vgg16',model=newmodel,device_l=device1,\n",
    "                 epochs=1, max_lr=0.01, weight_decay=0, L1=0, grad_clip=.1, logFile=logFile)\n",
    "SavePath = '/home/pragnesh/Model/vgg16-v2'\n",
    "torch.save(newModel, SavePath)"
   ]
  },
  {
   "cell_type": "markdown",
   "id": "bd83542d",
   "metadata": {},
   "source": [
    "### Pruning Initialization"
   ]
  },
  {
   "cell_type": "code",
   "execution_count": 6,
   "id": "2e8e000a",
   "metadata": {},
   "outputs": [
    {
     "name": "stdout",
     "output_type": "stream",
     "text": [
      "blockList   = [2, 2, 3, 3, 3]\n",
      "featureList = [0, 2, 5, 7, 10, 12, 14, 17, 19, 21, 24, 26, 28]\n",
      "\n",
      "Conv2d(3, 64, kernel_size=(3, 3), stride=(1, 1), padding=(1, 1))\n",
      "Conv2d(64, 64, kernel_size=(3, 3), stride=(1, 1), padding=(1, 1))\n",
      "Conv2d(64, 128, kernel_size=(3, 3), stride=(1, 1), padding=(1, 1))\n",
      "Conv2d(128, 128, kernel_size=(3, 3), stride=(1, 1), padding=(1, 1))\n",
      "Conv2d(128, 256, kernel_size=(3, 3), stride=(1, 1), padding=(1, 1))\n",
      "Conv2d(256, 256, kernel_size=(3, 3), stride=(1, 1), padding=(1, 1))\n",
      "Conv2d(256, 256, kernel_size=(3, 3), stride=(1, 1), padding=(1, 1))\n",
      "Conv2d(256, 512, kernel_size=(3, 3), stride=(1, 1), padding=(1, 1))\n",
      "Conv2d(512, 512, kernel_size=(3, 3), stride=(1, 1), padding=(1, 1))\n",
      "Conv2d(512, 512, kernel_size=(3, 3), stride=(1, 1), padding=(1, 1))\n",
      "Conv2d(512, 512, kernel_size=(3, 3), stride=(1, 1), padding=(1, 1))\n",
      "Conv2d(512, 512, kernel_size=(3, 3), stride=(1, 1), padding=(1, 1))\n",
      "Conv2d(512, 512, kernel_size=(3, 3), stride=(1, 1), padding=(1, 1))\n"
     ]
    }
   ],
   "source": [
    "blockList   = ip.createBlockList(newModel)#ip.getBlockList('vgg16')\n",
    "featureList = ip.createFeatureList(newModel)\n",
    "module = ip.getPruneModule(newModel)\n",
    "print(f\"blockList   = {blockList}\\n\"\n",
    "      f\"featureList = {featureList}\\n\"\n",
    "     )\n",
    "for i in range(len(module)):\n",
    "    print(module[i])"
   ]
  },
  {
   "cell_type": "code",
   "execution_count": null,
   "id": "9c5bb301",
   "metadata": {},
   "outputs": [],
   "source": [
    "\"\"\"Select the amount of feature we want to prune in each Layer\"\"\"\n",
    "# epochs = 10\n",
    "# max_lr = 1e-3\n",
    "# grad_clip = .2 \n",
    "# weight_decay = 1e-5 \n",
    "# L1=1e-5\n",
    "# itteration = 6\n",
    "# for  ittr in range(itteration):\n",
    "#     for i in range(len(Module)):\n",
    "#         prune.ln_structured(Module[i], name=\"weight\", amount=pr[i]/itteration, n=1, dim=0)\n",
    "#     numberOfZero = 0\n",
    "#     numberOfElements = 0\n",
    "#     totalNumberOfZero=0\n",
    "#     totalNumberOfElements=0\n",
    "#     for i, j in zip(range(len(prunelist)),prunelist):\n",
    "#         numberOfZero = torch.sum(Module[i].weight == 0)\n",
    "#         totalNumberOfZero += numberOfZero\n",
    "#         numberOfElements = Module[i].weight.nelement()\n",
    "#         totalNumberOfElements += numberOfElements\n",
    "#         frac = 100. * float(torch.sum(Module[i].weight == 0))/float(Module[i].weight.nelement())\n",
    "#         with open(outfile,'a') as f:\n",
    "#             f.write((f\"{j} Sparsity in {Module[i]} is \\t{frac}\"))\n",
    "        \n",
    "#     with open(outfile,'a') as f:\n",
    "#         f.write((\"Global Sparsity: {:.2f}%\".format(100*float(numberOfZero)/float(numberOfElements))))\n",
    "\n",
    "#     print(f\"******************** {ittr}**********************\")\n",
    "#     #fit_one_cycle(ModelName,epochs, max_lr, model,weight_decay=0, \n",
    "#     #             L1=0,grad_clip=None, opt_func=torch.optim.SGD):\n",
    "#     historyPrun = fit_one_cycle(MODEL_NAME,epochs, max_lr, newModel,  \n",
    "#                               grad_clip=grad_clip, \n",
    "#                               weight_decay=weight_decay, L1=L1,\n",
    "#                               opt_func=opt_func\n",
    "#                               )"
   ]
  },
  {
   "cell_type": "code",
   "execution_count": null,
   "id": "91bbed06",
   "metadata": {},
   "outputs": [],
   "source": []
  },
  {
   "cell_type": "code",
   "execution_count": null,
   "id": "5f440003",
   "metadata": {},
   "outputs": [],
   "source": [
    "# prune_count= [3,3, 6,6, 13,13,13, 26,26,26, 26,26,26]\n",
    "# j=0\n",
    "# for i in range(len(vgg16_features)):\n",
    "#     if vgg16_features[i]=='M':\n",
    "#         continue\n",
    "#     else:\n",
    "#         vgg16_features[i] = vgg16_features[i]-prune_count[j]\n",
    "#         j+=1\n",
    "vgg16Model = lm.create_vgg_from_feature_list(vgg16_features)    "
   ]
  }
 ],
 "metadata": {
  "kernelspec": {
   "display_name": "Python 3 (ipykernel)",
   "language": "python",
   "name": "python3"
  },
  "language_info": {
   "codemirror_mode": {
    "name": "ipython",
    "version": 3
   },
   "file_extension": ".py",
   "mimetype": "text/x-python",
   "name": "python",
   "nbconvert_exporter": "python",
   "pygments_lexer": "ipython3",
   "version": "3.9.7"
  }
 },
 "nbformat": 4,
 "nbformat_minor": 5
}
