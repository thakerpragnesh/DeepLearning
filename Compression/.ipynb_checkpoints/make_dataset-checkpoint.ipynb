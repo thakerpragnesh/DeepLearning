{
 "cells": [
  {
   "cell_type": "code",
   "execution_count": 1,
   "metadata": {},
   "outputs": [],
   "source": [
    "import os\n",
    "import cv2\n",
    "import numpy as np\n",
    "from tqdm import tqdm\n",
    "import matplotlib.pyplot as plt"
   ]
  },
  {
   "cell_type": "code",
   "execution_count": 2,
   "metadata": {},
   "outputs": [],
   "source": [
    "ImageSize = 64\n",
    "colorChannel = 3"
   ]
  },
  {
   "cell_type": "code",
   "execution_count": 3,
   "metadata": {},
   "outputs": [],
   "source": [
    "def getImageSize():\n",
    "    return ImageSize\n",
    "def getColorChannel():\n",
    "    return colorChannel\n",
    "\n",
    "def setImageSize(x):\n",
    "    global ImageSize\n",
    "    ImageSize = x\n",
    "def setColorChannel(x):\n",
    "    global colorChannel\n",
    "    colorChannel = x    \n"
   ]
  },
  {
   "cell_type": "code",
   "execution_count": 4,
   "metadata": {},
   "outputs": [],
   "source": [
    "datasetPath = ''\n",
    "def setDatasetPath(path):\n",
    "    global datasetPath\n",
    "    datasetPath = path"
   ]
  },
  {
   "cell_type": "code",
   "execution_count": 5,
   "metadata": {},
   "outputs": [],
   "source": [
    "class IntelImage():\n",
    "    def __init__(self,path):\n",
    "        #global datasetPath  \n",
    "        self.directory = path\n",
    "        self.Label = [x[0] for x in os.walk(self.directory)]\n",
    "        #it add parent directory also in the list while we need only subdirectory\n",
    "        self.Label.pop(0) #extracting complete path\n",
    "        self.labelCount = [0]*len(self.Label) # NumberOfClass\n",
    "        self.Name = os.listdir(self.directory)# Extracting SubDirectory Name\n",
    "        #if we want to check that number of class and lable of each class uncomment\n",
    "        #print(labelCount)\n",
    "        #print(Label)\n",
    "        self.passed = 0\n",
    "        self.training_data = []\n",
    "        \n",
    "        \n",
    "    def make_training_data(self):\n",
    "        print(self.directory)\n",
    "        for i,label in zip(range(len(self.Label)),self.Label):\n",
    "            print(f\"print the {i}th lable {label}\\n\")\n",
    "            for f in os.listdir(label):\n",
    "                try:\n",
    "                    path = os.path.join(label,f)\n",
    "                    if path == label:\n",
    "                        continue\n",
    "                    # Read file from selected folder and convert to gray scale\n",
    "                    img = cv2.imread(path)\n",
    "                    # Resize image os size 50x50\n",
    "                    img = cv2.resize(img, (ImageSize, ImageSize))\n",
    "                    self.training_data.append([np.array(img),i])\n",
    "                    self.labelCount[i] +=1\n",
    "                    \n",
    "                except Exception as e:\n",
    "                    self.passed +=1\n",
    "                    print(f\"\\nPrint Path Which Creates Exception: {path}\")\n",
    "                    print(label)\n",
    "                    print(str(e))\n",
    "                    pass\n",
    "        \n",
    "        for i in range(len(self.labelCount)):\n",
    "            print(f\"Number of images of {self.Name[i]} is : {self.labelCount[i]} \")\n",
    "        #check the number of files not process in the given folder \n",
    "        print(\"Number Of passed:\", self.passed)\n",
    "        \n",
    "        #Randomize dataset so that all class labels are randomly distributed\n",
    "        np.random.shuffle(self.training_data)\n",
    "        np.save(\"/home/pragnesh/Dataset/IntelIC/training1210_data.npy\",self.training_data)\n",
    "        print(f\"Number of images{len(self.training_data)}\")"
   ]
  },
  {
   "cell_type": "code",
   "execution_count": 6,
   "metadata": {},
   "outputs": [
    {
     "name": "stdout",
     "output_type": "stream",
     "text": [
      "/home/pragnesh/Dataset/IntelIC/train\n",
      "print the 0th lable /home/pragnesh/Dataset/IntelIC/train/buildings\n",
      "\n",
      "print the 1th lable /home/pragnesh/Dataset/IntelIC/train/mountain\n",
      "\n",
      "print the 2th lable /home/pragnesh/Dataset/IntelIC/train/sea\n",
      "\n",
      "print the 3th lable /home/pragnesh/Dataset/IntelIC/train/street\n",
      "\n",
      "print the 4th lable /home/pragnesh/Dataset/IntelIC/train/forest\n",
      "\n",
      "print the 5th lable /home/pragnesh/Dataset/IntelIC/train/glacier\n",
      "\n",
      "Number of images of buildings is : 2191 \n",
      "Number of images of mountain is : 2512 \n",
      "Number of images of sea is : 2274 \n",
      "Number of images of street is : 2382 \n",
      "Number of images of forest is : 2271 \n",
      "Number of images of glacier is : 2404 \n",
      "Number Of passed: 0\n"
     ]
    },
    {
     "name": "stderr",
     "output_type": "stream",
     "text": [
      "/home/pragnesh/anaconda3/lib/python3.8/site-packages/numpy/core/_asarray.py:136: VisibleDeprecationWarning: Creating an ndarray from ragged nested sequences (which is a list-or-tuple of lists-or-tuples-or ndarrays with different lengths or shapes) is deprecated. If you meant to do this, you must specify 'dtype=object' when creating the ndarray\n",
      "  return array(a, dtype, copy=False, order=order, subok=True)\n"
     ]
    },
    {
     "name": "stdout",
     "output_type": "stream",
     "text": [
      "Number of images14034\n",
      "exit\n"
     ]
    }
   ],
   "source": [
    "intelimages = IntelImage('/home/pragnesh/Dataset/IntelIC/train')\n",
    "intelimages.make_training_data()"
   ]
  },
  {
   "cell_type": "code",
   "execution_count": null,
   "metadata": {},
   "outputs": [],
   "source": []
  }
 ],
 "metadata": {
  "kernelspec": {
   "display_name": "Python 3",
   "language": "python",
   "name": "python3"
  },
  "language_info": {
   "codemirror_mode": {
    "name": "ipython",
    "version": 3
   },
   "file_extension": ".py",
   "mimetype": "text/x-python",
   "name": "python",
   "nbconvert_exporter": "python",
   "pygments_lexer": "ipython3",
   "version": "3.8.5"
  }
 },
 "nbformat": 4,
 "nbformat_minor": 4
}
