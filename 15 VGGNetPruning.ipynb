{
 "cells": [
  {
   "cell_type": "code",
   "execution_count": 1,
   "id": "0980fc5c",
   "metadata": {},
   "outputs": [],
   "source": [
    "import numpy as np                          # Basic Array and Numaric Operation\n",
    "import os                                   # use to access the files \n",
    "import tarfile                              # use to extract dataset from zip files\n",
    "import sys\n",
    "import zipfile                              # to extract zip file\n",
    "\n",
    "import torch                                # Provides basic tensor operation and nn operation\n",
    "import torchvision                          # Provides facilities to access image dataset\n",
    "\n",
    "import my_utils.loadDataset as dl           # create dataloader for selected dataset\n",
    "import my_utils.loadModel as lm             # facilitate loading and manipulating models\n",
    "import my_utils.trainModel as tm            # Facilitate training of the model\n",
    "import my_utils.initialize_pruning as ip    # Initialize and provide basic parmeter require for pruning\n",
    "import my_utils.facilitate_pruning as fp    # Compute Pruning Value and many things"
   ]
  },
  {
   "cell_type": "markdown",
   "id": "f20ef5b1",
   "metadata": {},
   "source": [
    "### Data Loader\n",
    "#### We set dataset location and set traind and test location properly"
   ]
  },
  {
   "cell_type": "code",
   "execution_count": 2,
   "id": "94d7aabd",
   "metadata": {},
   "outputs": [],
   "source": [
    "# set the locationn of the dataset and trai and test data folder name\n",
    "dl.setFolderLocation(datasets       ='/home/pragnesh/Dataset/',\n",
    "                     selectedDataset='IntelIC/',\n",
    "                     train          ='train',\n",
    "                     test           ='test')\n",
    "# set the imge properties\n",
    "dl.setImageSize(224)\n",
    "dl.setBatchSize = 2\n",
    "dataLoaders = dl.dataLoader()"
   ]
  },
  {
   "cell_type": "markdown",
   "id": "edd369ce",
   "metadata": {},
   "source": [
    "### Load Model\n",
    "#### Load the daved model from "
   ]
  },
  {
   "cell_type": "code",
   "execution_count": 3,
   "id": "3fd409de",
   "metadata": {},
   "outputs": [],
   "source": [
    "#load the saved model if have any\n",
    "loadModel = True\n",
    "if loadModel:\n",
    "    load_path = \"/home/pragnesh/Model/VGG_IntelIC_v2\"\n",
    "    #device1 = torch.device('cpu')\n",
    "    device1 = torch.device(\"cuda:0\" if torch.cuda.is_available() else \"cpu\")\n",
    "    newModel = torch.load(load_path, map_location=torch.device(device1))\n",
    "else:\n",
    "    #if dont have any saved trained model download pretrained model for tranfer learning\n",
    "    newmodel = lm.load_model(model_name='vgg16',number_of_class=6,pretrainval=False,\n",
    "                             freeze_feature=False,device_l=device1)\n"
   ]
  },
  {
   "cell_type": "markdown",
   "id": "ad4173f4",
   "metadata": {},
   "source": [
    "## Trainer"
   ]
  },
  {
   "cell_type": "code",
   "execution_count": 4,
   "id": "08cdbf04",
   "metadata": {},
   "outputs": [],
   "source": [
    "# logFile = '/home/pragnesh/Dataset/Intel_Image_Classifacation_v2/Logs/ConvModelv2.log'\n",
    "# #tm.device = torch.device('cpu')\n",
    "# tm.fit_one_cycle(#set locations of the dataset, train and test data\n",
    "#                  dataloaders=dataLoaders,trainDir=dl.train_directory,testDir=dl.test_directory,\n",
    "#                  # Selecat a variant of VGGNet\n",
    "#                  ModelName='vgg16',model=newModel,device_l=device1,\n",
    "#                  # Set all the Hyper-Parameter for training\n",
    "#                  epochs=1, max_lr=0.01, weight_decay=0, L1=0, grad_clip=.1, logFile=logFile)\n",
    "\n",
    "# #Save the  trained model \n",
    "# SavePath = '/home/pragnesh/Model/vgg16-v2'\n",
    "# torch.save(newModel, SavePath)"
   ]
  },
  {
   "cell_type": "markdown",
   "id": "e4d9dbfa",
   "metadata": {},
   "source": [
    "## Pruning"
   ]
  },
  {
   "cell_type": "markdown",
   "id": "d04fe357",
   "metadata": {},
   "source": [
    "#### Pruning Initialization\n",
    "\n",
    "        1.  Initialization: blockList,featureList,convidx,prune_count,module\n",
    "        2.  ComputeCandidateLayer\n",
    "        3.  ComputenewList\n",
    "        4.  Call CustomPruning\n",
    "        5.  Commit Pruning\n",
    "        6.  Update feature list\n",
    "        7.  Create new temp model with updated feature list\n",
    "        8.  Perform deep copy\n",
    "        9.  Train pruned model\n",
    "        10. Evalute the pruned model \n",
    "        11. Continue another iteration if required and accepted"
   ]
  },
  {
   "cell_type": "code",
   "execution_count": 5,
   "id": "c96eca3c",
   "metadata": {},
   "outputs": [
    {
     "name": "stdout",
     "output_type": "stream",
     "text": [
      "Block List   = [2, 2, 3, 3, 3]\n",
      "Feature List = [64, 64, 'M', 128, 128, 'M', 256, 256, 256, 'M', 512, 512, 512, 'M', 512, 512, 512, 'M']\n",
      "Conv Index   = [0, 2, 5, 7, 10, 12, 14, 17, 19, 21, 24, 26, 28]\n",
      "Prune Count  = [1, 1, 3, 3, 9, 9, 9, 26, 26, 26, 51, 51, 51]\n",
      "Start Index  = 0\n",
      "End Index    = 0\n",
      "Initial Layer Number = 0\n",
      "Empy candidate layer list = []\n"
     ]
    }
   ],
   "source": [
    "blockList  = []              #ip.getBlockList('vgg16')\n",
    "featureList= []\n",
    "convIdx    = []\n",
    "module     = []\n",
    "prune_count= []\n",
    "\n",
    "newList     = []\n",
    "layer_number=0\n",
    "st=0\n",
    "en=0\n",
    "candidateConvLayer =[]\n",
    "    \n",
    "def initializePruning():\n",
    "    global blockList                 #ip.getBlockList('vgg16')\n",
    "    global featureList \n",
    "    global convIdx     \n",
    "    global module     \n",
    "    global prune_count\n",
    "    \n",
    "    blockList   = ip.createBlockList(newModel)              #ip.getBlockList('vgg16')\n",
    "    featureList = ip.createFeatureList(newModel)\n",
    "    convIdx     = ip.findConvIndex(newModel)\n",
    "    module      = ip.getPruneModule(newModel)\n",
    "    prune_count = ip.getPruneCount(module=module,blocks=blockList,maxpr=.1)\n",
    "    \n",
    "    global newList\n",
    "    global layer_number\n",
    "    global st\n",
    "    global en\n",
    "    global candidateConvLayer\n",
    "    \n",
    "    newList = []\n",
    "    layer_number = 0\n",
    "    st = 0\n",
    "    en = 0\n",
    "    candidateConvLayer = []\n",
    "    \n",
    "    print(f\"Block List   = {blockList}\\n\"\n",
    "          f\"Feature List = {featureList}\\n\" \n",
    "          f\"Conv Index   = {convIdx}\\n\"\n",
    "          f\"Prune Count  = {prune_count}\\n\"\n",
    "          f\"Start Index  = {st}\\n\"\n",
    "          f\"End Index    = {en}\\n\"\n",
    "          f\"Initial Layer Number = {layer_number}\\n\"\n",
    "          f\"Empy candidate layer list = {candidateConvLayer}\"\n",
    "         )\n",
    "initializePruning()"
   ]
  },
  {
   "cell_type": "markdown",
   "id": "9e75b67c",
   "metadata": {},
   "source": [
    "#### Implementing custom pruning process"
   ]
  },
  {
   "cell_type": "code",
   "execution_count": 6,
   "id": "da3d05f0",
   "metadata": {},
   "outputs": [],
   "source": [
    "def compCandConvLayerBlkwise(module,blockList,blockId,st=0,en=0):\n",
    "    print(\"Executing Compute Candidate Convolution Layer\")\n",
    "    global layer_number\n",
    "    candidateConvLayer = []\n",
    "    \n",
    "    for bl in range(len(blockList)):    \n",
    "        if bl==0:\n",
    "            st = 0\n",
    "        else:\n",
    "            st=en\n",
    "        en = en+blockList[bl]\n",
    "        \n",
    "        if bl!= blockId:\n",
    "            continue\n",
    "\n",
    "        print('\\nblock =',bl,'blockSize=',blockList[bl],'start=',st,'End=',en)\n",
    "        \n",
    "        newList = []\n",
    "        candidList = []\n",
    "        for i in range(st,en):\n",
    "            #layer_number =st+i\n",
    "            candidateConvLayer.append(fp.compute_distance_score(module[i]._parameters['weight'],\n",
    "                                                                n=1, dim_to_keep=[0,1],threshold=2))\n",
    "            #candidList.append(fp.compute_distance_score(module[i]._parameters['weight'],threshold=2))\n",
    "        #end_for\n",
    "        #candidateConvLayer.append(candidList)\n",
    "    return candidateConvLayer"
   ]
  },
  {
   "cell_type": "code",
   "execution_count": 25,
   "id": "fae69fc9",
   "metadata": {},
   "outputs": [],
   "source": [
    "#candidateConvLayer = []\n",
    "def computeNewList(candidateConvLayer,k_kernel):\n",
    "    print(\"Executing Compute New List\")\n",
    "    newList = []\n",
    "    for i in range(len(candidateConvLayer)):#Layer number\n",
    "        inChannelList = []\n",
    "        for j in range( len(candidateConvLayer[i]) ) :#Input channel\n",
    "            tuppleList = []\n",
    "            for k in range(k_kernel): # extract k kernel working on each input channel\n",
    "                tuppleList.append(candidateConvLayer[i][j][k])\n",
    "            inChannelList.append(tuppleList)\n",
    "        newList.append(inChannelList)\n",
    "    return newList\n",
    "    \n",
    "#newList = computeNewList"
   ]
  },
  {
   "cell_type": "code",
   "execution_count": 31,
   "id": "ba4ca23a",
   "metadata": {},
   "outputs": [
    {
     "name": "stdout",
     "output_type": "stream",
     "text": [
      "Executing Compute New List\n"
     ]
    }
   ],
   "source": [
    "#c = compCandConvLayerBlkwise(module=module,blockList=blockList,blockId=1,st=0,en=0)\n",
    "nl = computeNewList(c,6)\n"
   ]
  },
  {
   "cell_type": "code",
   "execution_count": 40,
   "id": "1f97b128",
   "metadata": {},
   "outputs": [
    {
     "name": "stdout",
     "output_type": "stream",
     "text": [
      "l[]= 2 l[][]= 64 l[][][]= 6 l[][][]= 4\n",
      "[0, 0, 1, tensor(1.6362)]\n"
     ]
    }
   ],
   "source": [
    "#nl[0][1][tuppleId]\n",
    "print('l[]=',len(nl),'l[][]=',len(nl[0]),'l[][][]=',len(nl[0][0]),'l[][][]=',len(nl[0][0][0]))\n",
    "print(nl[0][0][0])"
   ]
  },
  {
   "cell_type": "code",
   "execution_count": 8,
   "id": "8f30f4b5",
   "metadata": {},
   "outputs": [],
   "source": [
    "import torch.nn.utils.prune as prune\n",
    "class KernalPruningMethod(prune.BasePruningMethod):\n",
    "    PRUNING_TYPE = 'unstructured'\n",
    "    def compute_mask(self, t, default_mask):\n",
    "        print(\"Executing Compute Mask\")\n",
    "        mask = default_mask.clone()\n",
    "        #mask.view(-1)[::2] = 0\n",
    "        size = t.shape\n",
    "        print(size)\n",
    "        print(f'Layer Number:{layer_number} \\nstart={st} \\nlength of new list={len(newList)}')\n",
    "        for k1 in range(len(newList)):\n",
    "            for k2 in range(len(newList[layer_number-st][k1])):\n",
    "                i= newList[layer_number-st][k1][k2][1]\n",
    "                j= newList[layer_number-st][k1][k2][0]\n",
    "                \n",
    "                #print(f\"i= {i} , j= {j}\")\n",
    "                \n",
    "                mask[i][j] = 0\n",
    "        return mask\n",
    "def kernal_unstructured(module, name):\n",
    "    KernalPruningMethod.apply(module, name)\n",
    "    return module"
   ]
  },
  {
   "cell_type": "markdown",
   "id": "99987fd8",
   "metadata": {},
   "source": [
    "#### After pruning create new model with updated pruning list"
   ]
  },
  {
   "cell_type": "code",
   "execution_count": 9,
   "id": "44f1cce7",
   "metadata": {},
   "outputs": [],
   "source": [
    "def updateFeatureList(featureList,prune_count,start=0,end=len(prune_count)):\n",
    "    j=0\n",
    "    i=start\n",
    "    while j < end:\n",
    "        if featureList[i] == 'M':\n",
    "            i+=1\n",
    "            continue\n",
    "        else:\n",
    "            featureList[i] = featureList[i] - prune_count[j]\n",
    "            j+=1\n",
    "            i+=1\n",
    "    return featureList\n"
   ]
  },
  {
   "cell_type": "markdown",
   "id": "6f746485",
   "metadata": {},
   "source": [
    "#### Copy the non zero weight value from prune model to new model "
   ]
  },
  {
   "cell_type": "code",
   "execution_count": 10,
   "id": "a1ac6c49",
   "metadata": {},
   "outputs": [],
   "source": [
    "def deepCopy(destModel,sourceModel):\n",
    "    print(\"Deep Copy Started\")\n",
    "    for i in range(len(sourceModel.features)):\n",
    "        print(\".\",end=\"\")\n",
    "        if str(sourceModel.features[i]).find('Conv') != -1:\n",
    "            size_org = sourceModel.features[i]._parameters['weight'].shape\n",
    "            size_new = destModel.features[i]._parameters['weight'].shape\n",
    "            ##print(f\"Sise of {i}th layer original model:{size_org}\")\n",
    "            ##print(f\"Sise of {i}th layer new model:{size_new}\")\n",
    "            #print(f\"feature list[{i}]: {featureList[i]}\")\n",
    "            for fin_org in range(size_org[1]):\n",
    "                j=0\n",
    "                fin_new = fin_org\n",
    "                for fout in range(size_org[0]):\n",
    "                    if torch.norm(sourceModel.features[i]._parameters['weight'][fout][fin_org]) != 0:\n",
    "                        fin_new +=1;\n",
    "                        if j>=size_new[0] or fin_new>=size_new[1]:\n",
    "                            break\n",
    "                        \n",
    "                        t = sourceModel.features[i]._parameters['weight'][fout][fin_org]\n",
    "                        destModel.features[i]._parameters['weight'][j][fin_new]=t\n",
    "                        \n",
    "                        j = j+1"
   ]
  },
  {
   "cell_type": "markdown",
   "id": "2995cbc9",
   "metadata": {},
   "source": [
    "### Perform Pruning Blockwise For Each Layer of Block"
   ]
  },
  {
   "cell_type": "code",
   "execution_count": 12,
   "id": "fab92352",
   "metadata": {},
   "outputs": [
    {
     "name": "stdout",
     "output_type": "stream",
     "text": [
      "Executing Compute Candidate Convolution Layer\n",
      "\n",
      "block = 1 blockSize= 2 start= 2 End= 4\n",
      "\n",
      "Shape of the tensor: torch.Size([128, 64, 3, 3])\n",
      "Print the Dims we want to keep: [0, 1]\n",
      "norm shape = torch.Size([128, 64])\n",
      "Number Of Features Map in current  layer l     = 128\n",
      "Number Of Features Map in previous layer (l-1) = 64\n",
      "................................................................\n",
      "Shape of the tensor: torch.Size([128, 128, 3, 3])\n",
      "Print the Dims we want to keep: [0, 1]\n",
      "norm shape = torch.Size([128, 128])\n",
      "Number Of Features Map in current  layer l     = 128\n",
      "Number Of Features Map in previous layer (l-1) = 128\n",
      "................................................................................................................................Candidate Layer length 64\n",
      "Executing Compute New List\n",
      "NewList:::: 2 NewList[]::::: 5\n",
      "Executing Compute Mask\n",
      "torch.Size([64, 3, 3, 3])\n",
      "Layer Number:0 \n",
      "start=0 \n",
      "length of new list=0\n",
      "Executing Compute Candidate Convolution Layer\n",
      "\n",
      "block = 2 blockSize= 3 start= 4 End= 7\n",
      "\n",
      "Shape of the tensor: torch.Size([256, 128, 3, 3])\n",
      "Print the Dims we want to keep: [0, 1]\n",
      "norm shape = torch.Size([256, 128])\n",
      "Number Of Features Map in current  layer l     = 256\n",
      "Number Of Features Map in previous layer (l-1) = 128\n",
      "................................................................................................................................\n",
      "Shape of the tensor: torch.Size([256, 256, 3, 3])\n",
      "Print the Dims we want to keep: [0, 1]\n",
      "norm shape = torch.Size([256, 256])\n",
      "Number Of Features Map in current  layer l     = 256\n",
      "Number Of Features Map in previous layer (l-1) = 256\n",
      "................................................................................................................................................................................................................................................................\n",
      "Shape of the tensor: torch.Size([256, 256, 3, 3])\n",
      "Print the Dims we want to keep: [0, 1]\n",
      "norm shape = torch.Size([256, 256])\n",
      "Number Of Features Map in current  layer l     = 256\n",
      "Number Of Features Map in previous layer (l-1) = 256\n",
      "..........................................................................................................................................................................................."
     ]
    },
    {
     "ename": "KeyboardInterrupt",
     "evalue": "",
     "output_type": "error",
     "traceback": [
      "\u001b[0;31m---------------------------------------------------------------------------\u001b[0m",
      "\u001b[0;31mKeyboardInterrupt\u001b[0m                         Traceback (most recent call last)",
      "\u001b[0;32m/tmp/ipykernel_49848/1855720741.py\u001b[0m in \u001b[0;36m<module>\u001b[0;34m\u001b[0m\n\u001b[1;32m     51\u001b[0m         \u001b[0;31m# 11. Continue another iteration if required and accepted\u001b[0m\u001b[0;34m\u001b[0m\u001b[0;34m\u001b[0m\u001b[0m\n\u001b[1;32m     52\u001b[0m \u001b[0;34m\u001b[0m\u001b[0m\n\u001b[0;32m---> 53\u001b[0;31m \u001b[0miterativePruningBlockwise\u001b[0m\u001b[0;34m(\u001b[0m\u001b[0mnewModel\u001b[0m\u001b[0;34m=\u001b[0m\u001b[0mnewModel\u001b[0m\u001b[0;34m,\u001b[0m\u001b[0mmodule\u001b[0m\u001b[0;34m=\u001b[0m\u001b[0mmodule\u001b[0m\u001b[0;34m,\u001b[0m\u001b[0mblockList\u001b[0m\u001b[0;34m=\u001b[0m\u001b[0mblockList\u001b[0m\u001b[0;34m,\u001b[0m\u001b[0mprune_epochs\u001b[0m\u001b[0;34m=\u001b[0m\u001b[0;36m2\u001b[0m\u001b[0;34m)\u001b[0m\u001b[0;34m\u001b[0m\u001b[0;34m\u001b[0m\u001b[0m\n\u001b[0m",
      "\u001b[0;32m/tmp/ipykernel_49848/1855720741.py\u001b[0m in \u001b[0;36miterativePruningBlockwise\u001b[0;34m(newModel, module, blockList, prune_epochs)\u001b[0m\n\u001b[1;32m      6\u001b[0m         \u001b[0mlayerIndex\u001b[0m\u001b[0;34m=\u001b[0m\u001b[0;36m0\u001b[0m\u001b[0;34m\u001b[0m\u001b[0;34m\u001b[0m\u001b[0m\n\u001b[1;32m      7\u001b[0m         \u001b[0;32mfor\u001b[0m \u001b[0mi\u001b[0m \u001b[0;32min\u001b[0m \u001b[0mrange\u001b[0m\u001b[0;34m(\u001b[0m\u001b[0;36m1\u001b[0m\u001b[0;34m,\u001b[0m\u001b[0mlen\u001b[0m\u001b[0;34m(\u001b[0m\u001b[0mblockList\u001b[0m\u001b[0;34m)\u001b[0m\u001b[0;34m)\u001b[0m\u001b[0;34m:\u001b[0m\u001b[0;34m\u001b[0m\u001b[0;34m\u001b[0m\u001b[0m\n\u001b[0;32m----> 8\u001b[0;31m             \u001b[0mcandidateConvLayer\u001b[0m \u001b[0;34m=\u001b[0m \u001b[0mcompCandConvLayerBlkwise\u001b[0m\u001b[0;34m(\u001b[0m\u001b[0mmodule\u001b[0m\u001b[0;34m=\u001b[0m\u001b[0mmodule\u001b[0m\u001b[0;34m,\u001b[0m\u001b[0mblockList\u001b[0m\u001b[0;34m=\u001b[0m\u001b[0mblockList\u001b[0m\u001b[0;34m,\u001b[0m\u001b[0mblockId\u001b[0m\u001b[0;34m=\u001b[0m\u001b[0mi\u001b[0m\u001b[0;34m)\u001b[0m\u001b[0;34m\u001b[0m\u001b[0;34m\u001b[0m\u001b[0m\n\u001b[0m\u001b[1;32m      9\u001b[0m             \u001b[0mprint\u001b[0m\u001b[0;34m(\u001b[0m\u001b[0;34m\"Candidate Layer length\"\u001b[0m\u001b[0;34m,\u001b[0m\u001b[0mlen\u001b[0m\u001b[0;34m(\u001b[0m\u001b[0mcandidateConvLayer\u001b[0m\u001b[0;34m[\u001b[0m\u001b[0;36m0\u001b[0m\u001b[0;34m]\u001b[0m\u001b[0;34m)\u001b[0m\u001b[0;34m)\u001b[0m\u001b[0;34m\u001b[0m\u001b[0;34m\u001b[0m\u001b[0m\n\u001b[1;32m     10\u001b[0m             \u001b[0mnewList\u001b[0m \u001b[0;34m=\u001b[0m \u001b[0mcomputeNewList\u001b[0m\u001b[0;34m(\u001b[0m\u001b[0mcandidateConvLayer\u001b[0m\u001b[0;34m,\u001b[0m\u001b[0;36m5\u001b[0m\u001b[0;34m)\u001b[0m\u001b[0;34m\u001b[0m\u001b[0;34m\u001b[0m\u001b[0m\n",
      "\u001b[0;32m/tmp/ipykernel_49848/1669667446.py\u001b[0m in \u001b[0;36mcompCandConvLayerBlkwise\u001b[0;34m(module, blockList, blockId, st, en)\u001b[0m\n\u001b[1;32m     22\u001b[0m         \u001b[0;32mfor\u001b[0m \u001b[0mi\u001b[0m \u001b[0;32min\u001b[0m \u001b[0mrange\u001b[0m\u001b[0;34m(\u001b[0m\u001b[0mst\u001b[0m\u001b[0;34m,\u001b[0m\u001b[0men\u001b[0m\u001b[0;34m)\u001b[0m\u001b[0;34m:\u001b[0m\u001b[0;34m\u001b[0m\u001b[0;34m\u001b[0m\u001b[0m\n\u001b[1;32m     23\u001b[0m             \u001b[0;31m#layer_number =st+i\u001b[0m\u001b[0;34m\u001b[0m\u001b[0;34m\u001b[0m\u001b[0m\n\u001b[0;32m---> 24\u001b[0;31m             candidateConvLayer.append(fp.compute_distance_score(module[i]._parameters['weight'],\n\u001b[0m\u001b[1;32m     25\u001b[0m                                                                 n=1, dim_to_keep=[0,1],threshold=2))\n\u001b[1;32m     26\u001b[0m             \u001b[0;31m#candidList.append(fp.compute_distance_score(module[i]._parameters['weight'],threshold=2))\u001b[0m\u001b[0;34m\u001b[0m\u001b[0;34m\u001b[0m\u001b[0m\n",
      "\u001b[0;32m~/Desktop/Python Code/DeepLearning/my_utils/facilitate_pruning.py\u001b[0m in \u001b[0;36mcompute_distance_score\u001b[0;34m(t, n, dim_to_keep, threshold)\u001b[0m\n\u001b[1;32m     45\u001b[0m                     \u001b[0mdist\u001b[0m\u001b[0;34m[\u001b[0m\u001b[0mj\u001b[0m\u001b[0;34m]\u001b[0m\u001b[0;34m[\u001b[0m\u001b[0mi2\u001b[0m\u001b[0;34m]\u001b[0m\u001b[0;34m[\u001b[0m\u001b[0mi1\u001b[0m\u001b[0;34m]\u001b[0m \u001b[0;34m=\u001b[0m \u001b[0mdist\u001b[0m\u001b[0;34m[\u001b[0m\u001b[0mj\u001b[0m\u001b[0;34m]\u001b[0m\u001b[0;34m[\u001b[0m\u001b[0mi1\u001b[0m\u001b[0;34m]\u001b[0m\u001b[0;34m[\u001b[0m\u001b[0mi2\u001b[0m\u001b[0;34m]\u001b[0m\u001b[0;34m\u001b[0m\u001b[0;34m\u001b[0m\u001b[0m\n\u001b[1;32m     46\u001b[0m \u001b[0;34m\u001b[0m\u001b[0m\n\u001b[0;32m---> 47\u001b[0;31m                     \u001b[0;32mif\u001b[0m \u001b[0mdist\u001b[0m\u001b[0;34m[\u001b[0m\u001b[0mj\u001b[0m\u001b[0;34m]\u001b[0m\u001b[0;34m[\u001b[0m\u001b[0mi1\u001b[0m\u001b[0;34m]\u001b[0m\u001b[0;34m[\u001b[0m\u001b[0mi2\u001b[0m\u001b[0;34m]\u001b[0m \u001b[0;34m<\u001b[0m \u001b[0mthreshold\u001b[0m\u001b[0;34m:\u001b[0m\u001b[0;34m\u001b[0m\u001b[0;34m\u001b[0m\u001b[0m\n\u001b[0m\u001b[1;32m     48\u001b[0m                         \u001b[0midxtupple\u001b[0m\u001b[0;34m.\u001b[0m\u001b[0mappend\u001b[0m\u001b[0;34m(\u001b[0m\u001b[0;34m[\u001b[0m\u001b[0mj\u001b[0m\u001b[0;34m,\u001b[0m\u001b[0mi1\u001b[0m\u001b[0;34m,\u001b[0m\u001b[0mi2\u001b[0m\u001b[0;34m,\u001b[0m\u001b[0mdist\u001b[0m\u001b[0;34m[\u001b[0m\u001b[0mj\u001b[0m\u001b[0;34m]\u001b[0m\u001b[0;34m[\u001b[0m\u001b[0mi1\u001b[0m\u001b[0;34m]\u001b[0m\u001b[0;34m[\u001b[0m\u001b[0mi2\u001b[0m\u001b[0;34m]\u001b[0m\u001b[0;34m]\u001b[0m\u001b[0;34m)\u001b[0m\u001b[0;34m\u001b[0m\u001b[0;34m\u001b[0m\u001b[0m\n\u001b[1;32m     49\u001b[0m             \u001b[0mchannelList\u001b[0m\u001b[0;34m.\u001b[0m\u001b[0mappend\u001b[0m\u001b[0;34m(\u001b[0m\u001b[0midxtupple\u001b[0m\u001b[0;34m)\u001b[0m\u001b[0;34m\u001b[0m\u001b[0;34m\u001b[0m\u001b[0m\n",
      "\u001b[0;31mKeyboardInterrupt\u001b[0m: "
     ]
    }
   ],
   "source": [
    "def iterativePruningBlockwise(newModel,module,blockList,prune_epochs):\n",
    "    for i in range(prune_epochs):\n",
    "        # 1.  Initialization: blockList,featureList,convidx,prune_count,module\n",
    "        \n",
    "        # 2.  ComputeCandidateLayer\n",
    "        layerIndex=0\n",
    "        for i in range(1,len(blockList)):\n",
    "            candidateConvLayer = compCandConvLayerBlkwise(module=module,blockList=blockList,blockId=i)\n",
    "            print(\"Candidate Layer length\",len(candidateConvLayer[0]))\n",
    "            newList = computeNewList(candidateConvLayer,5)\n",
    "            print(\"NewList::::\",len(newList),\"NewList[]:::::\",len(newList[0]))\n",
    "            for j in range(blockList[i]):\n",
    "                if i<2:\n",
    "                    layer_number = i*2+j\n",
    "                if i>=2:\n",
    "                    layer_number = 4 + (i-2)*3+j\n",
    "                kernal_unstructured(module=module[layer_number],name='weight')\n",
    "            layer_number=layerIndex\n",
    "            layerIndex +=1\n",
    "            \n",
    "        #2.1 Arrange the element of CandidateConvLaywer in ascending order of their distance\n",
    "        \n",
    "#         # 3.  ComputenewList\n",
    "#         newList = []\n",
    "#         for i in range(len(candidateConvLayer)):\n",
    "#             newList.append( computeNewList(candidateConvLayer[i],1) )\n",
    "        \n",
    "#         # 4.  Call CustomPruning\n",
    "#         for i in range(len(module)):\n",
    "#             # layer number = i\n",
    "#             kernal_unstructured(module=module[i],name='weight')\n",
    "        \n",
    "        # 5.  Commit Pruning\n",
    "        for i in range(len(module)):\n",
    "            prune.remove(module=module[i],name='weight')\n",
    "        \n",
    "        # 6.  Update feature list\n",
    "        featureList = updateFeatureList()\n",
    "        \n",
    "        # 7.  Create new temp model with updated feature list\n",
    "        tempModel = lm.create_vgg_from_feature_list(featureList)\n",
    "        \n",
    "        # 8.  Perform deep copy\n",
    "        deepCopy(tempModel,newModel)\n",
    "        \n",
    "        # 9.  Train pruned model\n",
    "#         tm.fit_one_cycle(#set locations of the dataset, train and test data\n",
    "#                          dataloaders=dataLoader,trainDir=dl.trainDir,testDir=dl.testDir,\n",
    "#                          # Selecat a variant of VGGNet\n",
    "#                          ModelName='vgg16',model=tempModel,device_l=device1,\n",
    "#                          # Set all the Hyper-Parameter for training\n",
    "#                          epochs=20, max_lr=0.01, weight_decay=0, L1=0, grad_clip=.1, logFile=logFile)\n",
    "        \n",
    "        # 10. Evalute the pruned model \n",
    "        \n",
    "        # 11. Continue another iteration if required and accepted\n",
    "    \n",
    "iterativePruningBlockwise(newModel=newModel,module=module,blockList=blockList,prune_epochs=2)"
   ]
  },
  {
   "cell_type": "code",
   "execution_count": null,
   "id": "4cddbd24",
   "metadata": {},
   "outputs": [],
   "source": []
  },
  {
   "cell_type": "code",
   "execution_count": null,
   "id": "272a6c60",
   "metadata": {},
   "outputs": [],
   "source": []
  },
  {
   "cell_type": "code",
   "execution_count": null,
   "id": "ee578302",
   "metadata": {},
   "outputs": [],
   "source": []
  }
 ],
 "metadata": {
  "kernelspec": {
   "display_name": "Python 3 (ipykernel)",
   "language": "python",
   "name": "python3"
  },
  "language_info": {
   "codemirror_mode": {
    "name": "ipython",
    "version": 3
   },
   "file_extension": ".py",
   "mimetype": "text/x-python",
   "name": "python",
   "nbconvert_exporter": "python",
   "pygments_lexer": "ipython3",
   "version": "3.9.7"
  }
 },
 "nbformat": 4,
 "nbformat_minor": 5
}
