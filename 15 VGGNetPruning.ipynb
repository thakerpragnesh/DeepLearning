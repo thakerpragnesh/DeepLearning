{
 "cells": [
  {
   "cell_type": "code",
   "execution_count": 1,
   "id": "0980fc5c",
   "metadata": {},
   "outputs": [],
   "source": [
    "import numpy as np                          # Basic Array and Numaric Operation\n",
    "import os                                   # use to access the files \n",
    "import tarfile                              # use to extract dataset from zip files\n",
    "import sys\n",
    "import zipfile                              # to extract zip file\n",
    "\n",
    "import torch                                # Provides basic tensor operation and nn operation\n",
    "import torchvision                          # Provides facilities to access image dataset\n",
    "\n",
    "import my_utils.loadDataset as dl           # create dataloader for selected dataset\n",
    "import my_utils.loadModel as lm             # facilitate loading and manipulating models\n",
    "import my_utils.trainModel as tm            # Facilitate training of the model\n",
    "import my_utils.initialize_pruning as ip    # Initialize and provide basic parmeter require for pruning\n",
    "import my_utils.facilitate_pruning as fp    # Compute Pruning Value and many things"
   ]
  },
  {
   "cell_type": "markdown",
   "id": "f20ef5b1",
   "metadata": {},
   "source": [
    "### Data Loader\n",
    "#### We set dataset location and set traind and test location properly"
   ]
  },
  {
   "cell_type": "code",
   "execution_count": null,
   "id": "94d7aabd",
   "metadata": {},
   "outputs": [],
   "source": [
    "# set the locationn of the dataset and trai and test data folder name\n",
    "dl.setFolderLocation(datasets       ='/home3/pragnesh/Dataset/',\n",
    "                     selectedDataset='IntelIC/',\n",
    "                     train          ='train',\n",
    "                     test           ='test')\n",
    "# set the imge properties\n",
    "dl.setImageSize(224)\n",
    "dl.setBatchSize = 16\n",
    "dataLoaders = dl.dataLoader()"
   ]
  },
  {
   "cell_type": "markdown",
   "id": "edd369ce",
   "metadata": {},
   "source": [
    "### Load Model\n",
    "#### Load the daved model from "
   ]
  },
  {
   "cell_type": "code",
   "execution_count": null,
   "id": "3fd409de",
   "metadata": {},
   "outputs": [],
   "source": [
    "#load the saved model if have any\n",
    "loadModel = True\n",
    "if loadModel:\n",
    "    load_path = \"/home3/pragnesh/Model/VGG_IntelIC_v2\"\n",
    "    #device1 = torch.device('cpu')\n",
    "    device1 = torch.device(\"cuda:0\" if torch.cuda.is_available() else \"cpu\")\n",
    "    newModel = torch.load(load_path, map_location=torch.device(device1))\n",
    "else:\n",
    "    #if dont have any saved trained model download pretrained model for tranfer learning\n",
    "    newmodel = lm.load_model(model_name='vgg16',number_of_class=6,pretrainval=False,\n",
    "                             freeze_feature=False,device_l=device1)\n"
   ]
  },
  {
   "cell_type": "code",
   "execution_count": null,
   "id": "a19ebf32",
   "metadata": {},
   "outputs": [],
   "source": [
    "outLogFile = \"/home3/pragnesh/Logs/outLogFile.log\""
   ]
  },
  {
   "cell_type": "markdown",
   "id": "ad4173f4",
   "metadata": {},
   "source": [
    "## Trainer"
   ]
  },
  {
   "cell_type": "code",
   "execution_count": null,
   "id": "08cdbf04",
   "metadata": {},
   "outputs": [],
   "source": [
    "# logFile = '/home/pragnesh/Dataset/Intel_Image_Classifacation_v2/Logs/ConvModelv2.log'\n",
    "# #tm.device = torch.device('cpu')\n",
    "# tm.fit_one_cycle(#set locations of the dataset, train and test data\n",
    "#                  dataloaders=dataLoaders,trainDir=dl.train_directory,testDir=dl.test_directory,\n",
    "#                  # Selecat a variant of VGGNet\n",
    "#                  ModelName='vgg16',model=newModel,device_l=device1,\n",
    "#                  # Set all the Hyper-Parameter for training\n",
    "#                  epochs=1, max_lr=0.01, weight_decay=0, L1=0, grad_clip=.1, logFile=logFile)\n",
    "\n",
    "# #Save the  trained model \n",
    "# SavePath = '/home/pragnesh/Model/vgg16-v2'\n",
    "# torch.save(newModel, SavePath)"
   ]
  },
  {
   "cell_type": "markdown",
   "id": "e4d9dbfa",
   "metadata": {},
   "source": [
    "## Pruning"
   ]
  },
  {
   "cell_type": "markdown",
   "id": "d04fe357",
   "metadata": {},
   "source": [
    "        1.  Initialization: blockList,featureList,convidx,prune_count,module\n",
    "        2.  ComputeCandidateLayer\n",
    "        3.  ComputenewList\n",
    "        4.  Call CustomPruning\n",
    "        5.  Commit Pruning\n",
    "        6.  Update feature list\n",
    "        7.  Create new temp model with updated feature list\n",
    "        8.  Perform deep copy\n",
    "        9.  Train pruned model\n",
    "        10. Evalute the pruned model \n",
    "        11. Continue another iteration if required and accepted\n",
    "        \n",
    "        \n",
    "#### 1. Pruning Initialization"
   ]
  },
  {
   "cell_type": "code",
   "execution_count": null,
   "id": "c96eca3c",
   "metadata": {
    "scrolled": true
   },
   "outputs": [],
   "source": [
    "blockList  = []              #ip.getBlockList('vgg16')\n",
    "featureList= []\n",
    "convIdx    = []\n",
    "module     = []\n",
    "prune_count= []\n",
    "\n",
    "newList     = []\n",
    "layer_number=0\n",
    "st=0\n",
    "en=0\n",
    "candidateConvLayer =[]\n",
    "    \n",
    "def initializePruning():\n",
    "    global blockList                 #ip.getBlockList('vgg16')\n",
    "    global featureList \n",
    "    global convIdx     \n",
    "    global module     \n",
    "    global prune_count\n",
    "    with open(logFile, \"a\") as f:\n",
    "        \n",
    "        blockList   = ip.createBlockList(newModel)              #ip.getBlockList('vgg16')\n",
    "        featureList = ip.createFeatureList(newModel)\n",
    "        convIdx     = ip.findConvIndex(newModel)\n",
    "        module      = ip.getPruneModule(newModel)\n",
    "        prune_count = ip.getPruneCount(module=module,blocks=blockList,maxpr=.1)\n",
    "\n",
    "        global newList\n",
    "        global layer_number\n",
    "        global st\n",
    "        global en\n",
    "        global candidateConvLayer\n",
    "\n",
    "        newList = []\n",
    "        layer_number = 0\n",
    "        st = 0\n",
    "        en = 0\n",
    "        candidateConvLayer = []\n",
    "\n",
    "        f.write(f\"Block List   = {blockList}\\n\"\n",
    "              f\"Feature List = {featureList}\\n\" \n",
    "              f\"Conv Index   = {convIdx}\\n\"\n",
    "              f\"Prune Count  = {prune_count}\\n\"\n",
    "              f\"Start Index  = {st}\\n\"\n",
    "              f\"End Index    = {en}\\n\"\n",
    "              f\"Initial Layer Number = {layer_number}\\n\"\n",
    "              f\"Empy candidate layer list = {candidateConvLayer}\"\n",
    "             )\n",
    "initializePruning()"
   ]
  },
  {
   "cell_type": "markdown",
   "id": "9e75b67c",
   "metadata": {},
   "source": [
    "#### 2. Implementing custom pruning process"
   ]
  },
  {
   "cell_type": "code",
   "execution_count": null,
   "id": "da3d05f0",
   "metadata": {},
   "outputs": [],
   "source": [
    "def compCandConvLayerBlkwise(module,blockList,blockId,st=0,en=0,threshold=1):\n",
    "    print(\"Executing Compute Candidate Convolution Layer\")\n",
    "    global layer_number\n",
    "    candidateConvLayer = []\n",
    "    \n",
    "    for bl in range(len(blockList)):    \n",
    "        if bl==0:\n",
    "            st = 0\n",
    "        else:\n",
    "            st=en\n",
    "        en = en+blockList[bl]\n",
    "        \n",
    "        if bl!= blockId:\n",
    "            continue\n",
    "\n",
    "        f('\\nblock =',bl,'blockSize=',blockList[bl],'start=',st,'End=',en)\n",
    "        \n",
    "        newList = []\n",
    "        candidList = []\n",
    "        for i in range(st,en):\n",
    "            #layer_number =st+i\n",
    "            print(i)\n",
    "            candidateConvLayer.append(fp.compute_distance_score(module[i]._parameters['weight'],\n",
    "                                                                n=1, dim_to_keep=[0,1],threshold=1))\n",
    "            #candidList.append(fp.compute_distance_score(module[i]._parameters['weight'],threshold=2))\n",
    "        #end_for\n",
    "        #candidateConvLayer.append(candidList)\n",
    "    return candidateConvLayer"
   ]
  },
  {
   "cell_type": "markdown",
   "id": "464f2740",
   "metadata": {},
   "source": [
    "#### 4. Extract k element from candidate layer"
   ]
  },
  {
   "cell_type": "code",
   "execution_count": null,
   "id": "fae69fc9",
   "metadata": {},
   "outputs": [],
   "source": [
    "#candidateConvLayer = []\n",
    "def computeNewList(candidateConvLayer,k_kernel):\n",
    "    print(\"Executing Compute New List\")\n",
    "    newList = []\n",
    "    for i in range(len(candidateConvLayer)):#Layer number\n",
    "        inChannelList = []\n",
    "        for j in range( len(candidateConvLayer[i]) ) :#Input channel\n",
    "            tuppleList = []\n",
    "            for k in range(k_kernel): # extract k kernel working on each input channel\n",
    "                tuppleList.append(candidateConvLayer[i][j][k])\n",
    "            inChannelList.append(tuppleList)\n",
    "        newList.append(inChannelList)\n",
    "    return newList\n",
    "    \n",
    "#newList = computeNewList"
   ]
  },
  {
   "cell_type": "markdown",
   "id": "3a84683a",
   "metadata": {},
   "source": [
    "#### 5. Custom Pruning"
   ]
  },
  {
   "cell_type": "code",
   "execution_count": null,
   "id": "8f30f4b5",
   "metadata": {},
   "outputs": [],
   "source": [
    "import torch.nn.utils.prune as prune\n",
    "class KernalPruningMethod(prune.BasePruningMethod):\n",
    "    PRUNING_TYPE = 'unstructured'\n",
    "    def compute_mask(self, t, default_mask):\n",
    "        print(\"Executing Compute Mask\")\n",
    "        mask = default_mask.clone()\n",
    "        #mask.view(-1)[::2] = 0\n",
    "        size = t.shape\n",
    "        print(size)\n",
    "        print(f'Layer Number:{layer_number} \\nstart={st} \\nlength of new list={len(newList)}')\n",
    "        for k1 in range(len(newList)):\n",
    "            for k2 in range(len(newList[layer_number-st][k1])):\n",
    "                i= newList[layer_number-st][k1][k2][1]\n",
    "                j= newList[layer_number-st][k1][k2][0]\n",
    "                if (k1==j):\n",
    "                    print(\":\")\n",
    "                #print(f\"i= {i} , j= {j}\")\n",
    "                \n",
    "                mask[i][j] = 0\n",
    "        return mask\n",
    "def kernal_unstructured(module, name):\n",
    "    KernalPruningMethod.apply(module, name)\n",
    "    return module"
   ]
  },
  {
   "cell_type": "markdown",
   "id": "99987fd8",
   "metadata": {},
   "source": [
    "#### 7. After pruning create new model with updated pruning list"
   ]
  },
  {
   "cell_type": "code",
   "execution_count": null,
   "id": "44f1cce7",
   "metadata": {},
   "outputs": [],
   "source": [
    "def updateFeatureList(featureList,prune_count,start=0,end=len(prune_count)):\n",
    "    j=0\n",
    "    i=start\n",
    "    while j < end:\n",
    "        if featureList[i] == 'M':\n",
    "            i+=1\n",
    "            continue\n",
    "        else:\n",
    "            featureList[i] = featureList[i] - prune_count[j]\n",
    "            j+=1\n",
    "            i+=1\n",
    "    return featureList\n"
   ]
  },
  {
   "cell_type": "markdown",
   "id": "6f746485",
   "metadata": {},
   "source": [
    "#### 9. Copy the non zero weight value from prune model to new model "
   ]
  },
  {
   "cell_type": "code",
   "execution_count": null,
   "id": "a1ac6c49",
   "metadata": {},
   "outputs": [],
   "source": [
    "def deepCopy(destModel,sourceModel):\n",
    "    print(\"Deep Copy Started\")\n",
    "    for i in range(len(sourceModel.features)):\n",
    "        print(\".\",end=\"\")\n",
    "        if str(sourceModel.features[i]).find('Conv') != -1:\n",
    "            size_org = sourceModel.features[i]._parameters['weight'].shape\n",
    "            size_new = destModel.features[i]._parameters['weight'].shape\n",
    "            ##print(f\"Sise of {i}th layer original model:{size_org}\")\n",
    "            ##print(f\"Sise of {i}th layer new model:{size_new}\")\n",
    "            #print(f\"feature list[{i}]: {featureList[i]}\")\n",
    "            for fin_org in range(size_org[1]):\n",
    "                j=0\n",
    "                fin_new = fin_org\n",
    "                for fout in range(size_org[0]):\n",
    "                    if torch.norm(sourceModel.features[i]._parameters['weight'][fout][fin_org]) != 0:\n",
    "                        fin_new +=1;\n",
    "                        if j>=size_new[0] or fin_new>=size_new[1]:\n",
    "                            break\n",
    "                        \n",
    "                        t = sourceModel.features[i]._parameters['weight'][fout][fin_org]\n",
    "                        destModel.features[i]._parameters['weight'][j][fin_new]=t\n",
    "                        \n",
    "                        j = j+1"
   ]
  },
  {
   "cell_type": "markdown",
   "id": "2995cbc9",
   "metadata": {},
   "source": [
    "### Perform Pruning Blockwise For Each Layer of Block"
   ]
  },
  {
   "cell_type": "code",
   "execution_count": null,
   "id": "fab92352",
   "metadata": {},
   "outputs": [],
   "source": [
    "def iterativePruningBlockwise(newModel,module,blockList,prune_epochs):\n",
    "    pc = [1,3,9,26,51]\n",
    "    for i in range(prune_epochs):\n",
    "        # 1.  Initialization: blockList,featureList,convidx,prune_count,module\n",
    "        \n",
    "        layerIndex=0\n",
    "        start = 0\n",
    "        end = len(blockList)\n",
    "        for i in range(start,end):\n",
    "            # 2 Compute the distance between kernel for candidate convolution layer\n",
    "            candidateConvLayer = compCandConvLayerBlkwise(module=module,blockList=blockList,blockId=i)\n",
    "            \n",
    "            \n",
    "            # 3 Arrange the element of CandidateConvLaywer in ascending order of their distance\n",
    "            for i in range(len(channelTuppleList)):\n",
    "                sortKernalByDistance(candidateConvLayer[i])\n",
    "            \n",
    "            # 4 Extract element equal to prune count for that layer\n",
    "            newList = computeNewList(candidateConvLayer,pc[i])\n",
    "            candidateConvLayer = []\n",
    "            \n",
    "            print(\"NewList::::\",len(newList),\"NewList[]:::::\",len(newList[0]),\"NewList[][]:::::\",len(newList[0][0]))\n",
    "            # 5 perform Custom pruning where we mask the prune weight\n",
    "            for j in range(blockList[i]):\n",
    "                if i<2:\n",
    "                    layer_number = i*2+j\n",
    "                if i>=2:\n",
    "                    layer_number = 4 + (i-2)*3+j\n",
    "                kernal_unstructured(module=module[layer_number],name='weight')\n",
    "            layer_number=layerIndex\n",
    "            layerIndex +=1\n",
    "            \n",
    "                \n",
    "        # 6.  Commit Pruning\n",
    "        for i in range(len(module)):\n",
    "            prune.remove(module=module[i],name='weight')\n",
    "        \n",
    "        # 7.  Update feature list\n",
    "        global featureList\n",
    "        featureList = updateFeatureList(featureList,prune,start=0,end=len(prune_count))\n",
    "        \n",
    "        # 8.  Create new temp model with updated feature list\n",
    "        tempModel = lm.create_vgg_from_feature_list(featureList)\n",
    "        \n",
    "        # 9.  Perform deep copy\n",
    "        lm.freeze(tempModel,'vgg16')\n",
    "        deepCopy(tempModel,newModel)\n",
    "        lm.unfreeze(tempModel)\n",
    "        \n",
    "        # 10.  Train pruned model\n",
    "        tm.fit_one_cycle(#set locations of the dataset, train and test data\n",
    "                         dataloaders=dataLoaders,trainDir=dl.trainDir,testDir=dl.testDir,\n",
    "                         # Selecat a variant of VGGNet\n",
    "                         ModelName='vgg16',model=tempModel,device_l=device1,\n",
    "                         # Set all the Hyper-Parameter for training\n",
    "                         epochs=20, max_lr=0.01, weight_decay=0.01, L1=0.01, grad_clip=.1, logFile=logFile)\n",
    "        \n",
    "        # 10. Evalute the pruned model \n",
    "        trainacc = 0\n",
    "        testacc = 0\n",
    "        trainacc = tm.evaluate(newModel,dataloaders_eval[trainDir])\n",
    "        testacc = tm.evaluate(newModel,dataloaders_eval[testDir])\n",
    "\n",
    "        with open(outfile,'a') as f:\n",
    "            f.write(f\"Train Accuracy :  {trainacc}\\n Test Accuracy  :  {testacc}\")\n",
    "    \n",
    "iterativePruningBlockwise(newModel=newModel,module=module,blockList=blockList,prune_epochs=10)"
   ]
  },
  {
   "cell_type": "code",
   "execution_count": 1,
   "id": "ab28932c",
   "metadata": {},
   "outputs": [
    {
     "name": "stdout",
     "output_type": "stream",
     "text": [
      "/home3/pragnesh/Model/vgg16_IntelIc_Prune_0\n",
      "/home3/pragnesh/Model/vgg16_IntelIc_Prune_1\n",
      "/home3/pragnesh/Model/vgg16_IntelIc_Prune_2\n"
     ]
    }
   ],
   "source": [
    "for e in range(3):\n",
    "    savePath = f'/home3/pragnesh/Model/vgg16_IntelIc_Prune_{e}'\n",
    "    print(savePath)"
   ]
  },
  {
   "cell_type": "code",
   "execution_count": null,
   "id": "30fbce9d",
   "metadata": {},
   "outputs": [],
   "source": []
  }
 ],
 "metadata": {
  "kernelspec": {
   "display_name": "Python 3 (ipykernel)",
   "language": "python",
   "name": "python3"
  },
  "language_info": {
   "codemirror_mode": {
    "name": "ipython",
    "version": 3
   },
   "file_extension": ".py",
   "mimetype": "text/x-python",
   "name": "python",
   "nbconvert_exporter": "python",
   "pygments_lexer": "ipython3",
   "version": "3.9.7"
  }
 },
 "nbformat": 4,
 "nbformat_minor": 5
}
