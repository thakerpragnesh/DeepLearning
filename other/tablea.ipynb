{
 "cells": [
  {
   "cell_type": "code",
   "execution_count": 1,
   "metadata": {},
   "outputs": [
    {
     "name": "stdout",
     "output_type": "stream",
     "text": [
      "Requirement already satisfied: tabpy in /home/pragnesh/anaconda3/lib/python3.9/site-packages (2.4.0)\n",
      "Requirement already satisfied: jsonschema in /home/pragnesh/anaconda3/lib/python3.9/site-packages (from tabpy) (3.2.0)\n",
      "Requirement already satisfied: twisted in /home/pragnesh/anaconda3/lib/python3.9/site-packages (from tabpy) (21.7.0)\n",
      "Requirement already satisfied: urllib3 in /home/pragnesh/anaconda3/lib/python3.9/site-packages (from tabpy) (1.26.7)\n",
      "Requirement already satisfied: pyopenssl in /home/pragnesh/anaconda3/lib/python3.9/site-packages (from tabpy) (21.0.0)\n",
      "Requirement already satisfied: simplejson in /home/pragnesh/anaconda3/lib/python3.9/site-packages (from tabpy) (3.17.6)\n",
      "Requirement already satisfied: genson in /home/pragnesh/anaconda3/lib/python3.9/site-packages (from tabpy) (1.2.2)\n",
      "Requirement already satisfied: numpy in /home/pragnesh/anaconda3/lib/python3.9/site-packages (from tabpy) (1.20.3)\n",
      "Requirement already satisfied: requests in /home/pragnesh/anaconda3/lib/python3.9/site-packages (from tabpy) (2.26.0)\n",
      "Requirement already satisfied: coverage in /home/pragnesh/anaconda3/lib/python3.9/site-packages (from tabpy) (6.2)\n",
      "Requirement already satisfied: pandas in /home/pragnesh/anaconda3/lib/python3.9/site-packages (from tabpy) (1.3.4)\n",
      "Requirement already satisfied: configparser in /home/pragnesh/anaconda3/lib/python3.9/site-packages (from tabpy) (5.2.0)\n",
      "Requirement already satisfied: future in /home/pragnesh/anaconda3/lib/python3.9/site-packages (from tabpy) (0.18.2)\n",
      "Requirement already satisfied: sklearn in /home/pragnesh/anaconda3/lib/python3.9/site-packages (from tabpy) (0.0)\n",
      "Requirement already satisfied: docopt in /home/pragnesh/anaconda3/lib/python3.9/site-packages (from tabpy) (0.6.2)\n",
      "Requirement already satisfied: cloudpickle in /home/pragnesh/anaconda3/lib/python3.9/site-packages (from tabpy) (2.0.0)\n",
      "Requirement already satisfied: mock in /home/pragnesh/anaconda3/lib/python3.9/site-packages (from tabpy) (4.0.3)\n",
      "Requirement already satisfied: hypothesis in /home/pragnesh/anaconda3/lib/python3.9/site-packages (from tabpy) (6.35.1)\n",
      "Requirement already satisfied: pytest in /home/pragnesh/anaconda3/lib/python3.9/site-packages (from tabpy) (6.2.4)\n",
      "Requirement already satisfied: tornado in /home/pragnesh/anaconda3/lib/python3.9/site-packages (from tabpy) (6.1)\n",
      "Requirement already satisfied: pytest-cov in /home/pragnesh/anaconda3/lib/python3.9/site-packages (from tabpy) (3.0.0)\n",
      "Requirement already satisfied: textblob in /home/pragnesh/anaconda3/lib/python3.9/site-packages (from tabpy) (0.17.1)\n",
      "Requirement already satisfied: scipy in /home/pragnesh/anaconda3/lib/python3.9/site-packages (from tabpy) (1.7.1)\n",
      "Requirement already satisfied: coveralls in /home/pragnesh/anaconda3/lib/python3.9/site-packages (from tabpy) (3.3.1)\n",
      "Requirement already satisfied: nltk in /home/pragnesh/anaconda3/lib/python3.9/site-packages (from tabpy) (3.6.5)\n",
      "Requirement already satisfied: certifi>=2017.4.17 in /home/pragnesh/anaconda3/lib/python3.9/site-packages (from requests->tabpy) (2021.10.8)\n",
      "Requirement already satisfied: idna<4,>=2.5 in /home/pragnesh/anaconda3/lib/python3.9/site-packages (from requests->tabpy) (3.2)\n",
      "Requirement already satisfied: charset-normalizer~=2.0.0 in /home/pragnesh/anaconda3/lib/python3.9/site-packages (from requests->tabpy) (2.0.4)\n",
      "Requirement already satisfied: attrs>=19.2.0 in /home/pragnesh/anaconda3/lib/python3.9/site-packages (from hypothesis->tabpy) (21.2.0)\n",
      "Requirement already satisfied: sortedcontainers<3.0.0,>=2.1.0 in /home/pragnesh/anaconda3/lib/python3.9/site-packages (from hypothesis->tabpy) (2.4.0)\n",
      "Requirement already satisfied: setuptools in /home/pragnesh/anaconda3/lib/python3.9/site-packages (from jsonschema->tabpy) (58.0.4)\n",
      "Requirement already satisfied: six>=1.11.0 in /home/pragnesh/anaconda3/lib/python3.9/site-packages (from jsonschema->tabpy) (1.16.0)\n",
      "Requirement already satisfied: pyrsistent>=0.14.0 in /home/pragnesh/anaconda3/lib/python3.9/site-packages (from jsonschema->tabpy) (0.18.0)\n",
      "Requirement already satisfied: click in /home/pragnesh/anaconda3/lib/python3.9/site-packages (from nltk->tabpy) (8.0.3)\n",
      "Requirement already satisfied: joblib in /home/pragnesh/anaconda3/lib/python3.9/site-packages (from nltk->tabpy) (1.1.0)\n",
      "Requirement already satisfied: regex>=2021.8.3 in /home/pragnesh/anaconda3/lib/python3.9/site-packages (from nltk->tabpy) (2021.8.3)\n",
      "Requirement already satisfied: tqdm in /home/pragnesh/anaconda3/lib/python3.9/site-packages (from nltk->tabpy) (4.62.3)\n",
      "Requirement already satisfied: python-dateutil>=2.7.3 in /home/pragnesh/anaconda3/lib/python3.9/site-packages (from pandas->tabpy) (2.8.2)\n",
      "Requirement already satisfied: pytz>=2017.3 in /home/pragnesh/anaconda3/lib/python3.9/site-packages (from pandas->tabpy) (2021.3)\n",
      "Requirement already satisfied: cryptography>=3.3 in /home/pragnesh/anaconda3/lib/python3.9/site-packages (from pyopenssl->tabpy) (3.4.8)\n",
      "Requirement already satisfied: cffi>=1.12 in /home/pragnesh/anaconda3/lib/python3.9/site-packages (from cryptography>=3.3->pyopenssl->tabpy) (1.14.6)\n",
      "Requirement already satisfied: pycparser in /home/pragnesh/anaconda3/lib/python3.9/site-packages (from cffi>=1.12->cryptography>=3.3->pyopenssl->tabpy) (2.20)\n",
      "Requirement already satisfied: iniconfig in /home/pragnesh/anaconda3/lib/python3.9/site-packages (from pytest->tabpy) (1.1.1)\n",
      "Requirement already satisfied: packaging in /home/pragnesh/anaconda3/lib/python3.9/site-packages (from pytest->tabpy) (21.0)\n",
      "Requirement already satisfied: pluggy<1.0.0a1,>=0.12 in /home/pragnesh/anaconda3/lib/python3.9/site-packages (from pytest->tabpy) (0.13.1)\n",
      "Requirement already satisfied: py>=1.8.2 in /home/pragnesh/anaconda3/lib/python3.9/site-packages (from pytest->tabpy) (1.10.0)\n",
      "Requirement already satisfied: toml in /home/pragnesh/anaconda3/lib/python3.9/site-packages (from pytest->tabpy) (0.10.2)\n",
      "Requirement already satisfied: pyparsing>=2.0.2 in /home/pragnesh/anaconda3/lib/python3.9/site-packages (from packaging->pytest->tabpy) (3.0.4)\n",
      "Requirement already satisfied: tomli in /home/pragnesh/anaconda3/lib/python3.9/site-packages (from coverage->tabpy) (2.0.0)\n",
      "Requirement already satisfied: scikit-learn in /home/pragnesh/anaconda3/lib/python3.9/site-packages (from sklearn->tabpy) (0.24.2)\n",
      "Requirement already satisfied: threadpoolctl>=2.0.0 in /home/pragnesh/anaconda3/lib/python3.9/site-packages (from scikit-learn->sklearn->tabpy) (2.2.0)\n",
      "Requirement already satisfied: constantly>=15.1 in /home/pragnesh/anaconda3/lib/python3.9/site-packages (from twisted->tabpy) (15.1.0)\n",
      "Requirement already satisfied: incremental>=21.3.0 in /home/pragnesh/anaconda3/lib/python3.9/site-packages (from twisted->tabpy) (21.3.0)\n",
      "Requirement already satisfied: zope.interface>=4.4.2 in /home/pragnesh/anaconda3/lib/python3.9/site-packages (from twisted->tabpy) (5.4.0)\n",
      "Requirement already satisfied: Automat>=0.8.0 in /home/pragnesh/anaconda3/lib/python3.9/site-packages (from twisted->tabpy) (20.2.0)\n",
      "Requirement already satisfied: hyperlink>=17.1.1 in /home/pragnesh/anaconda3/lib/python3.9/site-packages (from twisted->tabpy) (21.0.0)\n",
      "Requirement already satisfied: typing-extensions>=3.6.5 in /home/pragnesh/anaconda3/lib/python3.9/site-packages (from twisted->tabpy) (3.10.0.2)\n"
     ]
    }
   ],
   "source": [
    "!pip install tabpy"
   ]
  },
  {
   "cell_type": "code",
   "execution_count": 4,
   "metadata": {},
   "outputs": [],
   "source": [
    "from typing import Union, List, Dict, Any, cast\n",
    "\n",
    "import torch\n",
    "import torch.nn as nn\n",
    "\n",
    "#from .._internally_replaced_utils import load_state_dict_from_url\n",
    "#from ..utils import _log_api_usage_once"
   ]
  },
  {
   "cell_type": "code",
   "execution_count": 5,
   "metadata": {},
   "outputs": [],
   "source": [
    "class VGG(nn.Module):\n",
    "    def __init__(\n",
    "        self, features: nn.Module, num_classes: int = 1000, init_weights: bool = True, dropout: float = 0.5\n",
    "    ) -> None:\n",
    "        super().__init__()\n",
    "        _log_api_usage_once(self)\n",
    "        self.features = features\n",
    "        self.avgpool = nn.AdaptiveAvgPool2d((7, 7))\n",
    "        self.classifier = nn.Sequential(\n",
    "            nn.Linear(512 * 7 * 7, 4096),\n",
    "            nn.ReLU(True),\n",
    "            nn.Dropout(p=dropout),\n",
    "            nn.Linear(4096, 4096),\n",
    "            nn.ReLU(True),\n",
    "            nn.Dropout(p=dropout),\n",
    "            nn.Linear(4096, num_classes),\n",
    "        )\n",
    "        if init_weights:\n",
    "            self._initialize_weights()\n",
    "\n",
    "    def forward(self, x: torch.Tensor) -> torch.Tensor:\n",
    "        x = self.features(x)\n",
    "        x = self.avgpool(x)\n",
    "        x = torch.flatten(x, 1)\n",
    "        x = self.classifier(x)\n",
    "        return x\n",
    "\n",
    "    def _initialize_weights(self) -> None:\n",
    "        for m in self.modules():\n",
    "            if isinstance(m, nn.Conv2d):\n",
    "                nn.init.kaiming_normal_(m.weight, mode=\"fan_out\", nonlinearity=\"relu\")\n",
    "                if m.bias is not None:\n",
    "                    nn.init.constant_(m.bias, 0)\n",
    "            elif isinstance(m, nn.BatchNorm2d):\n",
    "                nn.init.constant_(m.weight, 1)\n",
    "                nn.init.constant_(m.bias, 0)\n",
    "            elif isinstance(m, nn.Linear):\n",
    "                nn.init.normal_(m.weight, 0, 0.01)\n",
    "                nn.init.constant_(m.bias, 0)"
   ]
  },
  {
   "cell_type": "code",
   "execution_count": 6,
   "metadata": {},
   "outputs": [],
   "source": [
    "def make_layers(cfg: List[Union[str, int]], batch_norm: bool = False) -> nn.Sequential:\n",
    "    layers: List[nn.Module] = []\n",
    "    in_channels = 3\n",
    "    for v in cfg:\n",
    "        if v == \"M\":\n",
    "            layers += [nn.MaxPool2d(kernel_size=2, stride=2)]\n",
    "        else:\n",
    "            v = cast(int, v)\n",
    "            conv2d = nn.Conv2d(in_channels, v, kernel_size=3, padding=1)\n",
    "            if batch_norm:\n",
    "                layers += [conv2d, nn.BatchNorm2d(v), nn.ReLU(inplace=True)]\n",
    "            else:\n",
    "                layers += [conv2d, nn.ReLU(inplace=True)]\n",
    "            in_channels = v\n",
    "    return nn.Sequential(*layers)"
   ]
  },
  {
   "cell_type": "code",
   "execution_count": 7,
   "metadata": {},
   "outputs": [],
   "source": [
    "\n",
    "cfgs: Dict[str, List[Union[str, int]]] = {\n",
    "    \"A\": [64, \"M\", 128, \"M\", 256, 256, \"M\", 512, 512, \"M\", 512, 512, \"M\"],\n",
    "    \"B\": [64, 64, \"M\", 128, 128, \"M\", 256, 256, \"M\", 512, 512, \"M\", 512, 512, \"M\"],\n",
    "    \"D\": [64, 64, \"M\", 128, 128, \"M\", 256, 256, 256, \"M\", 512, 512, 512, \"M\", 512, 512, 512, \"M\"],\n",
    "    \"E\": [64, 64, \"M\", 128, 128, \"M\", 256, 256, 256, 256, \"M\", 512, 512, 512, 512, \"M\", 512, 512, 512, 512, \"M\"],\n",
    "}"
   ]
  },
  {
   "cell_type": "code",
   "execution_count": 8,
   "metadata": {},
   "outputs": [],
   "source": [
    "def _vgg(arch: str, cfg: str, batch_norm: bool, pretrained: bool, progress: bool, **kwargs: Any) -> VGG:\n",
    "    if pretrained:\n",
    "        kwargs[\"init_weights\"] = False\n",
    "    model = VGG(make_layers(cfgs[cfg], batch_norm=batch_norm), **kwargs)\n",
    "    if pretrained:\n",
    "        state_dict = load_state_dict_from_url(model_urls[arch], progress=progress)\n",
    "        model.load_state_dict(state_dict)\n",
    "    return model\n"
   ]
  },
  {
   "cell_type": "code",
   "execution_count": null,
   "metadata": {},
   "outputs": [],
   "source": [
    "def vgg11(pretrained: bool = False, progress: bool = True, **kwargs: Any) -> VGG:\n",
    "    r\"\"\"VGG 11-layer model (configuration \"A\") from\n",
    "    `\"Very Deep Convolutional Networks For Large-Scale Image Recognition\" <https://arxiv.org/pdf/1409.1556.pdf>`_.\n",
    "    The required minimum input size of the model is 32x32.\n",
    "    Args:\n",
    "        pretrained (bool): If True, returns a model pre-trained on ImageNet\n",
    "        progress (bool): If True, displays a progress bar of the download to stderr\n",
    "    \"\"\"\n",
    "    return _vgg(\"vgg11\", \"A\", False, pretrained, progress, **kwargs)"
   ]
  },
  {
   "cell_type": "code",
   "execution_count": null,
   "metadata": {},
   "outputs": [],
   "source": []
  },
  {
   "cell_type": "code",
   "execution_count": null,
   "metadata": {},
   "outputs": [],
   "source": []
  },
  {
   "cell_type": "code",
   "execution_count": null,
   "metadata": {},
   "outputs": [],
   "source": []
  },
  {
   "cell_type": "code",
   "execution_count": null,
   "metadata": {},
   "outputs": [],
   "source": []
  },
  {
   "cell_type": "code",
   "execution_count": null,
   "metadata": {},
   "outputs": [],
   "source": []
  },
  {
   "cell_type": "code",
   "execution_count": null,
   "metadata": {},
   "outputs": [],
   "source": []
  }
 ],
 "metadata": {
  "kernelspec": {
   "display_name": "Python 3 (ipykernel)",
   "language": "python",
   "name": "python3"
  },
  "language_info": {
   "codemirror_mode": {
    "name": "ipython",
    "version": 3
   },
   "file_extension": ".py",
   "mimetype": "text/x-python",
   "name": "python",
   "nbconvert_exporter": "python",
   "pygments_lexer": "ipython3",
   "version": "3.9.7"
  }
 },
 "nbformat": 4,
 "nbformat_minor": 4
}
