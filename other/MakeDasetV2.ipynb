{
 "cells": [
  {
   "cell_type": "markdown",
   "metadata": {
    "id": "AiRzs1eJ-AYy"
   },
   "source": [
    "Define the number of color channel and Image Size to be used\n"
   ]
  },
  {
   "cell_type": "code",
   "execution_count": null,
   "metadata": {
    "id": "j1Ahxp6496C7"
   },
   "outputs": [],
   "source": [
    "ImageSize = 224\n",
    "colorChannel = 3"
   ]
  },
  {
   "cell_type": "markdown",
   "metadata": {
    "id": "k8EPPqrq-YUc"
   },
   "source": [
    "os      : Will be used to access files\n",
    "cv2     : Will be used to select Number of Color Channel and ImageSize to be use\n",
    "tqdm    : Will be use to create image list of require size"
   ]
  },
  {
   "cell_type": "code",
   "execution_count": null,
   "metadata": {
    "id": "JgYeFWKR-OC_"
   },
   "outputs": [],
   "source": [
    "import os\n",
    "import cv2\n",
    "import numpy as np\n",
    "from tqdm import tqdm\n",
    "import matplotlib.pyplot as plt"
   ]
  },
  {
   "cell_type": "markdown",
   "metadata": {
    "id": "cPMaxdHm-cmG"
   },
   "source": [
    "Here we will read files of Building, Forest, Glaciar, Mountain, Sea, Street\n",
    "From respective folder and resize all images to selected Image Size\n",
    "Here we also check whether dataset is balance or not"
   ]
  },
  {
   "cell_type": "code",
   "execution_count": null,
   "metadata": {
    "colab": {
     "base_uri": "https://localhost:8080/",
     "height": 72
    },
    "executionInfo": {
     "elapsed": 83580,
     "status": "ok",
     "timestamp": 1602503330666,
     "user": {
      "displayName": "Pragnesh Thaker",
      "photoUrl": "https://lh3.googleusercontent.com/a-/AOh14GgLVRXB_uzLSPlOFa1Byq4JroZuZLCvAi3nnmje=s64",
      "userId": "16372140651231488017"
     },
     "user_tz": -330
    },
    "id": "GwVIcWkqcQTo",
    "outputId": "367ec333-eec5-4e35-e6bb-e5000ed36f64"
   },
   "outputs": [],
   "source": [
    "class IntelImage():\n",
    "    \n",
    "    directory =\"/home/itadmin/Downloads/DataSet/ImageNetDatasets/MiniImageNet10\"\n",
    "    \n",
    "    #[x[0] for x in os.walk(directory)]\n",
    "    Label \t\t= [x[0] for x in os.walk(directory)]\n",
    "    \n",
    "    #it add parent directory also in the list while we need only subdirectory\n",
    "    Label.pop(0) #extracting complete path\n",
    "    labelCount = [0]*len(Label) # NumberOfClass\n",
    "    Name = os.listdir(directory)# Extracting SubDirectory Name\n",
    "    \n",
    "    #if we want to check that number of class and lable of each class uncomment\n",
    "    print(f\"Number of class: {len(labelCount)}\")\n",
    "    #print(Label)\n",
    "    \n",
    "    training_data = []\n",
    "    passed =0\n",
    "    def make_training_data(self):\n",
    "        for i,label in zip(range(len(self.Label)),self.Label):\n",
    "            #print(f\"print the {i}th lable {label}\\n\")\n",
    "            for f in os.listdir(label):\n",
    "                try:\n",
    "                    path = os.path.join(label,f)\n",
    "                    if path == label:\n",
    "                        continue\n",
    "                    # Read file from selected folder and convert to gray scale\n",
    "                    img = cv2.imread(path)\n",
    "                    # Resize image os size 50x50\n",
    "                    img = cv2.resize(img, (ImageSize, ImageSize))\n",
    "                    self.training_data.append([np.array(img),i])\n",
    "                    self.labelCount[i] +=1\n",
    "                    \n",
    "                except Exception as e:\n",
    "                    self.passed +=1\n",
    "                    print(f\"\\nPrint Path Which Creates Exception: {path}\")\n",
    "                    print(label)\n",
    "                    print(str(e))\n",
    "                    pass\n",
    "        \n",
    "        for i in range(len(self.labelCount)):\n",
    "            print(f\"Number of images of {self.Name[i]} is : {self.labelCount[i]} \")\n",
    "        #check the number of files not process in the given folder \n",
    "        print(\"Number Of passed:\", self.passed)\n",
    "        \n",
    "        #Randomize dataset so that all class labels are randomly distributed\n",
    "        np.random.shuffle(self.training_data)\n",
    "        np.save(\"/home/itadmin/Downloads/DataSet/MiniImageNet10.npy\",self.training_data)\n",
    "        #np.save(\"/home/pragnesh/DataSet/IntelIC/training1210_data.npy\",self.training_data)\n",
    "        print(f\"Number of images{len(self.training_data)}\")"
   ]
  },
  {
   "cell_type": "markdown",
   "metadata": {
    "id": "6zzAGEtjBRzN"
   },
   "source": [
    "Create Image DataSet with 6 different images"
   ]
  },
  {
   "cell_type": "code",
   "execution_count": null,
   "metadata": {
    "colab": {
     "base_uri": "https://localhost:8080/",
     "height": 52
    },
    "id": "u9tsgmgF-i9c",
    "outputId": "2a829d5b-5d8f-4d5b-a724-4f4d2d8b0c8a"
   },
   "outputs": [],
   "source": [
    "intelimages = IntelImage()\n",
    "intelimages.make_training_data()"
   ]
  },
  {
   "cell_type": "code",
   "execution_count": null,
   "metadata": {},
   "outputs": [],
   "source": []
  }
 ],
 "metadata": {
  "colab": {
   "authorship_tag": "ABX9TyNHn4f3E3l3M1XpxxEPVN09",
   "name": "MakeDasetV2.ipynb",
   "provenance": [
    {
     "file_id": "1WqUpIFSJogaUMz9stNqUe2_MZsIXaKk0",
     "timestamp": 1602499510691
    }
   ]
  },
  "kernelspec": {
   "display_name": "Python 3",
   "language": "python",
   "name": "python3"
  },
  "language_info": {
   "codemirror_mode": {
    "name": "ipython",
    "version": 3
   },
   "file_extension": ".py",
   "mimetype": "text/x-python",
   "name": "python",
   "nbconvert_exporter": "python",
   "pygments_lexer": "ipython3",
   "version": "3.8.5"
  }
 },
 "nbformat": 4,
 "nbformat_minor": 1
}
