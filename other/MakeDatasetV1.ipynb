{
 "cells": [
  {
   "cell_type": "code",
   "execution_count": 1,
   "metadata": {},
   "outputs": [],
   "source": [
    "import os\n",
    "import cv2\n",
    "import numpy as np\n",
    "from tqdm import tqdm\n",
    "import matplotlib.pyplot as plt"
   ]
  },
  {
   "cell_type": "code",
   "execution_count": 2,
   "metadata": {},
   "outputs": [],
   "source": [
    "class DogsVsCats():\n",
    "  IMG_SIZE=50\n",
    "  CATS= \"/home/itadmin/DataSet/dogs-vs-cats/PetImages/Cat\"\n",
    "  DOGS= \"/home/itadmin/DataSet/dogs-vs-cats/PetImages/Dog\"\n",
    "  LABELS = {CATS:0, DOGS:1}\n",
    "  training_data=[]\n",
    "  catcount=0\n",
    "  dogcount=0\n",
    "\n",
    "  def make_training_data(self):\n",
    "    for label in self.LABELS:\n",
    "      print(\"label:\",label)\n",
    "      for f in tqdm(os.listdir(label)):\n",
    "        try:\n",
    "          path=os.path.join(label,f)\n",
    "          #img = cv2.imread(path)\n",
    "          img = cv2.imread(path,cv2.IMREAD_GRAYSCALE)\n",
    "          img = cv2.resize(img,(self.IMG_SIZE,self.IMG_SIZE))\n",
    "          self.training_data.append([np.array(img),np.eye(len(self.LABELS))[self.LABELS[label]]])\n",
    "          if label == self.CATS:\n",
    "            self.catcount+=1\n",
    "          elif label == self.DOGS:\n",
    "            self.dogcount+=1\n",
    "        except Exception as e:\n",
    "          pass\n",
    "    np.random.shuffle(self.training_data)\n",
    "    np.save(\"training_data.npy\",self.training_data)\n",
    "    print(\"Cats:\",self.catcount)\n",
    "    print(\"Dogs:\",self.dogcount)"
   ]
  },
  {
   "cell_type": "code",
   "execution_count": 3,
   "metadata": {},
   "outputs": [
    {
     "name": "stderr",
     "output_type": "stream",
     "text": [
      "  9%|▉         | 181/2000 [00:00<00:01, 1802.28it/s]"
     ]
    },
    {
     "name": "stdout",
     "output_type": "stream",
     "text": [
      "label: /home/itadmin/DataSet/dogs-vs-cats/PetImages/Cat\n"
     ]
    },
    {
     "name": "stderr",
     "output_type": "stream",
     "text": [
      "100%|██████████| 2000/2000 [00:01<00:00, 1758.56it/s]\n",
      "  8%|▊         | 170/2000 [00:00<00:01, 1698.50it/s]"
     ]
    },
    {
     "name": "stdout",
     "output_type": "stream",
     "text": [
      "label: /home/itadmin/DataSet/dogs-vs-cats/PetImages/Dog\n"
     ]
    },
    {
     "name": "stderr",
     "output_type": "stream",
     "text": [
      "100%|██████████| 2000/2000 [00:01<00:00, 1654.08it/s]"
     ]
    },
    {
     "name": "stdout",
     "output_type": "stream",
     "text": [
      "Cats: 2000\n",
      "Dogs: 2000\n"
     ]
    },
    {
     "name": "stderr",
     "output_type": "stream",
     "text": [
      "\n",
      "/home/itadmin/anaconda3/lib/python3.8/site-packages/numpy/core/_asarray.py:136: VisibleDeprecationWarning: Creating an ndarray from ragged nested sequences (which is a list-or-tuple of lists-or-tuples-or ndarrays with different lengths or shapes) is deprecated. If you meant to do this, you must specify 'dtype=object' when creating the ndarray\n",
      "  return array(a, dtype, copy=False, order=order, subok=True)\n"
     ]
    }
   ],
   "source": [
    "dogsvscats=DogsVsCats()\n",
    "dogsvscats.make_training_data()"
   ]
  },
  {
   "cell_type": "code",
   "execution_count": null,
   "metadata": {},
   "outputs": [],
   "source": []
  }
 ],
 "metadata": {
  "kernelspec": {
   "display_name": "Python 3",
   "language": "python",
   "name": "python3"
  },
  "language_info": {
   "codemirror_mode": {
    "name": "ipython",
    "version": 3
   },
   "file_extension": ".py",
   "mimetype": "text/x-python",
   "name": "python",
   "nbconvert_exporter": "python",
   "pygments_lexer": "ipython3",
   "version": "3.8.5"
  }
 },
 "nbformat": 4,
 "nbformat_minor": 4
}
