{
 "cells": [
  {
   "cell_type": "code",
   "execution_count": 4,
   "id": "29f35c22",
   "metadata": {},
   "outputs": [
    {
     "name": "stdout",
     "output_type": "stream",
     "text": [
      "thaker\n"
     ]
    }
   ],
   "source": [
    "l = [[1,'pragnesh',3],[11,'thaker',33]]\n",
    "print(l[1][1])"
   ]
  },
  {
   "cell_type": "code",
   "execution_count": null,
   "id": "fc11fd64",
   "metadata": {},
   "outputs": [],
   "source": []
  }
 ],
 "metadata": {
  "kernelspec": {
   "display_name": "Python 3 (ipykernel)",
   "language": "python",
   "name": "python3"
  },
  "language_info": {
   "codemirror_mode": {
    "name": "ipython",
    "version": 3
   },
   "file_extension": ".py",
   "mimetype": "text/x-python",
   "name": "python",
   "nbconvert_exporter": "python",
   "pygments_lexer": "ipython3",
   "version": "3.9.7"
  }
 },
 "nbformat": 4,
 "nbformat_minor": 5
}
