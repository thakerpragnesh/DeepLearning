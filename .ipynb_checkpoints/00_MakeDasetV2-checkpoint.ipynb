{
 "cells": [
  {
   "cell_type": "markdown",
   "metadata": {
    "colab_type": "text",
    "id": "view-in-github"
   },
   "source": [
    "<a href=\"https://colab.research.google.com/github/thakerpragnesh/DeepLearning/blob/master/00_MakeDasetV2.ipynb\" target=\"_parent\"><img src=\"https://colab.research.google.com/assets/colab-badge.svg\" alt=\"Open In Colab\"/></a>"
   ]
  },
  {
   "cell_type": "markdown",
   "metadata": {
    "id": "AiRzs1eJ-AYy"
   },
   "source": [
    "Define the number of color channel and Image Size to be used\n"
   ]
  },
  {
   "cell_type": "code",
   "execution_count": null,
   "metadata": {
    "id": "j1Ahxp6496C7"
   },
   "outputs": [],
   "source": [
    "ImageSize = 32\n",
    "colorChannel = 3"
   ]
  },
  {
   "cell_type": "markdown",
   "metadata": {
    "id": "k8EPPqrq-YUc"
   },
   "source": [
    "os      : Will be used to access files\n",
    "cv2     : Will be used to select Number of Color Channel and ImageSize to be use\n",
    "tqdm    : Will be use to create image list of require size"
   ]
  },
  {
   "cell_type": "code",
   "execution_count": null,
   "metadata": {
    "id": "JgYeFWKR-OC_"
   },
   "outputs": [],
   "source": [
    "import os\n",
    "import cv2\n",
    "import numpy as np\n",
    "from tqdm import tqdm\n",
    "import matplotlib.pyplot as plt"
   ]
  },
  {
   "cell_type": "code",
   "execution_count": null,
   "metadata": {
    "colab": {
     "base_uri": "https://localhost:8080/"
    },
    "id": "hOoCUD-KnW0i",
    "outputId": "c178b66c-408d-4fc2-d4fe-3e942238548b"
   },
   "outputs": [
    {
     "name": "stdout",
     "output_type": "stream",
     "text": [
      "Mounted at /content/gdrive\n"
     ]
    }
   ],
   "source": [
    "from google.colab import drive\n",
    "drive.mount('/content/gdrive')"
   ]
  },
  {
   "cell_type": "markdown",
   "metadata": {
    "id": "cPMaxdHm-cmG"
   },
   "source": [
    "Here we will read files of Building, Forest, Glaciar, Mountain, Sea, Street\n",
    "From respective folder and resize all images to selected Image Size\n",
    "Here we also check whether dataset is balance or not"
   ]
  },
  {
   "cell_type": "code",
   "execution_count": null,
   "metadata": {
    "id": "GwVIcWkqcQTo"
   },
   "outputs": [],
   "source": [
    "class IntelImage():\n",
    "    \n",
    "    directory =\"/content/gdrive/My Drive/Dataset/IntelIC/train\"\n",
    "    \n",
    "    #[x[0] for x in os.walk(directory)]\n",
    "    Label \t\t= [x[0] for x in os.walk(directory)]\n",
    "    \n",
    "    #it add parent directory also in the list while we need only subdirectory\n",
    "    Label.pop(0) #extracting complete path\n",
    "    labelCount = [0]*len(Label) # NumberOfClass\n",
    "    Name = os.listdir(directory)# Extracting SubDirectory Name\n",
    "    \n",
    "    #if we want to check that number of class and lable of each class uncomment\n",
    "    #print(labelCount)\n",
    "    #print(Label)\n",
    "    \n",
    "    training_data = []\n",
    "    passed =0\n",
    "    def make_training_data(self):\n",
    "        for i,label in zip(range(len(self.Label)),self.Label):\n",
    "            print(f\"print the {i}th lable {label}\\n\")\n",
    "            for f in os.listdir(label):\n",
    "                try:\n",
    "                    path = os.path.join(label,f)\n",
    "                    if path == label:\n",
    "                        continue\n",
    "                    # Read file from selected folder and convert to gray scale\n",
    "                    img = cv2.imread(path)\n",
    "                    # Resize image os size 50x50\n",
    "                    img = cv2.resize(img, (ImageSize, ImageSize))\n",
    "                    self.training_data.append([np.array(img),i])\n",
    "                    self.labelCount[i] +=1\n",
    "                    \n",
    "                except Exception as e:\n",
    "                    self.passed +=1\n",
    "                    print(f\"\\nPrint Path Which Creates Exception: {path}\")\n",
    "                    print(label)\n",
    "                    print(str(e))\n",
    "                    pass\n",
    "        \n",
    "        for i in range(len(self.labelCount)):\n",
    "            print(f\"Number of images of {self.Name[i]} is : {self.labelCount[i]} \")\n",
    "        #check the number of files not process in the given folder \n",
    "        print(\"Number Of passed:\", self.passed)\n",
    "        \n",
    "        #Randomize dataset so that all class labels are randomly distributed\n",
    "        np.random.shuffle(self.training_data)\n",
    "        np.save(\"/home/pragnesh/DataSet/IntelIC/training1210_data.npy\",self.training_data)\n",
    "        print(f\"Number of images{len(self.training_data)}\")"
   ]
  },
  {
   "cell_type": "markdown",
   "metadata": {
    "id": "6zzAGEtjBRzN"
   },
   "source": [
    "Create Image DataSet with 6 different images"
   ]
  },
  {
   "cell_type": "code",
   "execution_count": null,
   "metadata": {
    "colab": {
     "base_uri": "https://localhost:8080/"
    },
    "id": "u9tsgmgF-i9c",
    "outputId": "d5967897-c9d9-4bea-b097-18ce0680242f"
   },
   "outputs": [
    {
     "name": "stdout",
     "output_type": "stream",
     "text": [
      "print the 0th lable /content/gdrive/My Drive/Dataset/IntelIC/train/buildings\n",
      "\n",
      "print the 1th lable /content/gdrive/My Drive/Dataset/IntelIC/train/sea\n",
      "\n",
      "print the 2th lable /content/gdrive/My Drive/Dataset/IntelIC/train/forest\n",
      "\n",
      "print the 3th lable /content/gdrive/My Drive/Dataset/IntelIC/train/mountain\n",
      "\n",
      "print the 4th lable /content/gdrive/My Drive/Dataset/IntelIC/train/street\n",
      "\n",
      "print the 5th lable /content/gdrive/My Drive/Dataset/IntelIC/train/glacier\n",
      "\n",
      "Number of images of buildings is : 2191 \n",
      "Number of images of sea is : 2274 \n",
      "Number of images of forest is : 2271 \n",
      "Number of images of mountain is : 2512 \n",
      "Number of images of street is : 2382 \n",
      "Number of images of glacier is : 2404 \n",
      "Number Of passed: 0\n",
      "Number of images14034\n"
     ]
    }
   ],
   "source": [
    "intelimages = IntelImage()\n",
    "intelimages.make_training_data()"
   ]
  },
  {
   "cell_type": "code",
   "execution_count": null,
   "metadata": {
    "id": "AEK0rxH4KG8Y"
   },
   "outputs": [],
   "source": []
  }
 ],
 "metadata": {
  "colab": {
   "include_colab_link": true,
   "name": "00 MakeDasetV2.ipynb",
   "provenance": []
  },
  "kernelspec": {
   "display_name": "Python 3",
   "language": "python",
   "name": "python3"
  },
  "language_info": {
   "codemirror_mode": {
    "name": "ipython",
    "version": 3
   },
   "file_extension": ".py",
   "mimetype": "text/x-python",
   "name": "python",
   "nbconvert_exporter": "python",
   "pygments_lexer": "ipython3",
   "version": "3.8.5"
  }
 },
 "nbformat": 4,
 "nbformat_minor": 1
}
