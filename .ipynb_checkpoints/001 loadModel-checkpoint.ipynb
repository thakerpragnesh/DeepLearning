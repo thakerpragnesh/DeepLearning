{
 "cells": [
  {
   "cell_type": "code",
   "execution_count": 2,
   "id": "04762523",
   "metadata": {},
   "outputs": [],
   "source": [
    "#import torch library to build neural network\n",
    "import torch  # Elementory function of tensor is define in torch package\n",
    "import torch.nn as nn # Several layer architectur is define here\n",
    "import torch.nn.functional as F # loss function and activation function"
   ]
  },
  {
   "cell_type": "code",
   "execution_count": 3,
   "id": "7c69ae2c",
   "metadata": {},
   "outputs": [],
   "source": [
    "\"\"\"\n",
    "Computer vision is one of the most important application and thus lots \n",
    "of deplopment in the and torch.vision provides many facilities that can \n",
    "be use to imporve model such as data augmentation, reading data batchwise, \n",
    "suffling data before each epoch and many more\n",
    "\"\"\"\n",
    "# import torch library related to image data processing\n",
    "import torchvision # provides facilities to access image dataset\n",
    "from torchvision.datasets.utils import download_url \n",
    "from torchvision.datasets import ImageFolder\n",
    "from torch.utils.data import DataLoader\n",
    "import torchvision.transforms as transforms\n",
    "from torch.utils.data import random_split\n",
    "from torchvision.utils import make_grid\n",
    "from torchvision import datasets, models, transforms"
   ]
  },
  {
   "cell_type": "code",
   "execution_count": 1,
   "id": "a1a4b51f",
   "metadata": {},
   "outputs": [],
   "source": [
    "def getDeviceType():\n",
    "  if torch.cuda.is_available():\n",
    "    return torch.device('cuda')\n",
    "  else:\n",
    "    return torch.device('cpu')"
   ]
  },
  {
   "cell_type": "code",
   "execution_count": 3,
   "id": "5fe8a3e5",
   "metadata": {},
   "outputs": [],
   "source": [
    "def loadModel(model_name,number_of_class,pretrainval=False,freeze_feature=False,device=torch.device('cpu')):\n",
    "    device = device = torch.device('cpu')\n",
    "    device = getDeviceType()\n",
    "    if model_name == 'vgg16' or model_name == 'vgg13' or model_name == 'vgg11':\n",
    "        if model_name == 'vgg11':\n",
    "            new_model = torchvision.models.vgg11(pretrained=pretrainval)\n",
    "        if model_name == 'vgg13':\n",
    "            new_model = torchvision.models.vgg13(pretrained=False)\n",
    "        if model_name == 'vgg16':\n",
    "            new_model = torchvision.models.vgg16(pretrained=False)\n",
    "            print('VGG16 Loaded')\n",
    "        if freeze_feature:\n",
    "            for param in new_model.parameters():\n",
    "                param.requires_grad = False\n",
    "        #Need to change the below code if we choose different model\n",
    "        print(new_model.classifier[6])\n",
    "        num_ftrs = new_model.classifier[6].in_features\n",
    "        # Here the size of each output sample is set to 10.\n",
    "        # Alternatively, it can be generalized to nn.Linear(num_ftrs, len(class_names)).\n",
    "        new_model.classifier[6] = nn.Linear(num_ftrs, number_of_class)\n",
    "        new_model = new_model.to(device)\n",
    "        return new_model\n",
    "    \n",
    "    if model_name == 'vgg16bn' or model_name == 'vgg13bn' or model_name == 'vgg11bn':\n",
    "        if model_name == 'vgg11bn':\n",
    "            new_model = torchvision.models.vgg11_bn(pretrained=pretrainval)\n",
    "        if model_name == 'vgg13bn':\n",
    "            new_model = torchvision.models.vgg13_bn(pretrained=False)\n",
    "        if model_name == 'vgg16bn':\n",
    "            new_model = torchvision.models.vgg16_bn(pretrained=False)    \n",
    "        if freeze_feature:\n",
    "            for param in new_model.parameters():\n",
    "                param.requires_grad = False\n",
    "        #Need to change the below code if we choose different model\n",
    "        print(new_model.classifier[6])\n",
    "        num_ftrs = new_model.classifier[6].in_features\n",
    "        # Here the size of each output sample is set to 10.\n",
    "        # Alternatively, it can be generalized to nn.Linear(num_ftrs, len(class_names)).\n",
    "        new_model.classifier[6] = nn.Linear(num_ftrs, number_of_class)\n",
    "        new_model = new_model.to(device)\n",
    "        return new_model\n",
    "    \n",
    "    \n",
    "    ##################### Download Pretrain ResNet 18 ############################\n",
    "    if model_name == 'resnet18':\n",
    "        new_model = torchvision.models.resnet18(pretrained=False)\n",
    "        print(new_model.fc)\n",
    "        for param in new_model.parameters():\n",
    "            param.requires_grad = False\n",
    "        #print(new_model)\n",
    "        #Need to change the below code if we choose different model\n",
    "        num_ftrs = new_model.fc.in_features\n",
    "        # Here the size of each output sample is set to 10.\n",
    "        # Alternatively, it can be generalized to nn.Linear(num_ftrs, len(class_names)).\n",
    "        new_model.fc = nn.Linear(num_ftrs, 10)\n",
    "        new_model = new_model.to(device)\n",
    "        return new_model\n"
   ]
  },
  {
   "cell_type": "code",
   "execution_count": 4,
   "id": "26803e37",
   "metadata": {},
   "outputs": [],
   "source": [
    "def load_saved_model(LoadPath):\n",
    "    if device== torch.device('cpu'):\n",
    "        newModel = torch.load(LoadPath, map_location=torch.device('cpu'))\n",
    "    else:\n",
    "        newModel = torch.load(LoadPath, map_location=torch.device('cuda'))"
   ]
  },
  {
   "cell_type": "code",
   "execution_count": 5,
   "id": "107c0132",
   "metadata": {},
   "outputs": [],
   "source": [
    "def freeze(model,modelName):\n",
    "    if modelname == 'vgg16':\n",
    "        for param in model.parameters():\n",
    "            if count == 30:\n",
    "              param.requires_grad=True\n",
    "            else:\n",
    "              param.requires_grad=False\n",
    "                \n",
    "    if modelname == 'vgg13':\n",
    "        for param in model.parameters():\n",
    "            if count == 24:\n",
    "              param.requires_grad=True\n",
    "            else:\n",
    "              param.requires_grad=False\n",
    "            \n",
    "    if modelname == 'vgg11':\n",
    "        for param in model.parameters():\n",
    "            if count == 20:\n",
    "              param.requires_grad=True\n",
    "            else:\n",
    "              param.requires_grad=False"
   ]
  },
  {
   "cell_type": "code",
   "execution_count": 6,
   "id": "4d0710bd",
   "metadata": {},
   "outputs": [],
   "source": [
    "def freeze_feature(model,modelName):\n",
    "    if modelname == 'vgg16':\n",
    "        for param in model.parameters():\n",
    "            if count in (26,28,30):\n",
    "              param.requires_grad=True\n",
    "            else:\n",
    "              param.requires_grad=False\n",
    "                \n",
    "    if modelname == 'vgg13':\n",
    "        for param in model.parameters():\n",
    "            if count in (20,22,24):\n",
    "              param.requires_grad=True\n",
    "            else:\n",
    "              param.requires_grad=False\n",
    "            \n",
    "    if modelname == 'vgg11':\n",
    "        for param in model.parameters():\n",
    "            if count in (16,18,20):\n",
    "              param.requires_grad=True\n",
    "            else:\n",
    "              param.requires_grad=False"
   ]
  },
  {
   "cell_type": "code",
   "execution_count": 7,
   "id": "d600962d",
   "metadata": {},
   "outputs": [],
   "source": [
    "def unfreeze(model,modelName):\n",
    "    for param in model.parameters():\n",
    "        param.requires_grad=True"
   ]
  },
  {
   "cell_type": "code",
   "execution_count": null,
   "id": "3f0ecfe3",
   "metadata": {},
   "outputs": [],
   "source": [
    "def create_vgg_from_list()"
   ]
  }
 ],
 "metadata": {
  "kernelspec": {
   "display_name": "Python 3 (ipykernel)",
   "language": "python",
   "name": "python3"
  },
  "language_info": {
   "codemirror_mode": {
    "name": "ipython",
    "version": 3
   },
   "file_extension": ".py",
   "mimetype": "text/x-python",
   "name": "python",
   "nbconvert_exporter": "python",
   "pygments_lexer": "ipython3",
   "version": "3.9.7"
  }
 },
 "nbformat": 4,
 "nbformat_minor": 5
}
