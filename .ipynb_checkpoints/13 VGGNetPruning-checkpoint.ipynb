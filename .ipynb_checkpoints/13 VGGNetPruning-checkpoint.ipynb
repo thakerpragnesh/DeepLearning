{
 "cells": [
  {
   "cell_type": "code",
   "execution_count": 1,
   "id": "0980fc5c",
   "metadata": {},
   "outputs": [],
   "source": [
    "import numpy as np                          # Basic Array and Numaric Operation\n",
    "import os                                   # use to access the files \n",
    "import tarfile                              # use to extract dataset from zip files\n",
    "import sys\n",
    "import zipfile                              # to extract zip file\n",
    "\n",
    "\n",
    "import torch                                # Provides basic tensor operation and nn operation\n",
    "import torchvision                          # Provides facilities to access image dataset\n",
    "\n",
    "\n",
    "import my_utils.loadDataset as dl           # create dataloader for selected dataset\n",
    "import my_utils.loadModel as lm             # facilitate loading and manipulating models\n",
    "import my_utils.trainModel as tm            # Facilitate training of the model\n",
    "import my_utils.initialize_pruning as ip    # Initialize and provide basic parmeter require for pruning\n",
    "import my_utils.facilitate_pruning as fp    # Compute Pruning Value and many things"
   ]
  },
  {
   "cell_type": "code",
   "execution_count": 2,
   "id": "94d7aabd",
   "metadata": {},
   "outputs": [],
   "source": [
    "# set the locationn of the dataset and trai and test data folder name\n",
    "dl.setFolderLocation(datasets       ='/home/pragnesh/Dataset/',\n",
    "                     selectedDataset='IntelIC/',\n",
    "                     train          ='train',\n",
    "                     test           ='test')\n",
    "# set the imge properties\n",
    "dl.setImageSize(224)\n",
    "dl.setBatchSize = 2\n",
    "dataLoader = dl.dataLoader()\n",
    "\n",
    "#load the saved model if have any\n",
    "load_path = \"/home/pragnesh/Model/VGG_IntelIC_v2\"\n",
    "device1 = torch.device(\"cuda:0\" if torch.cuda.is_available() else \"cpu\")\n",
    "newModel = torch.load(load_path, map_location=torch.device('cpu'))\n",
    "\n",
    "#if dont have any saved trained model download pretrained model for tranfer learning\n",
    "# newmodel = lm.load_model(model_name='vgg16',number_of_class=6,pretrainval=False,\n",
    "#                         freeze_feature=False,device_l=device1)\n",
    "\n",
    "#print(newModel)"
   ]
  },
  {
   "cell_type": "code",
   "execution_count": null,
   "id": "08cdbf04",
   "metadata": {},
   "outputs": [],
   "source": [
    "logFile = '/home/pragnesh/Dataset/Intel_Image_Classifacation_v2/Logs/ConvModelv2.log'\n",
    "#tm.device = torch.device('cpu')\n",
    "tm.fit_one_cycle(#set locations of the dataset, train and test data\n",
    "                 dataloaders=dataLoader,trainDir=dl.trainDir,testDir=dl.testDir,\n",
    "                 # Selecat a variant of VGGNet\n",
    "                 ModelName='vgg16',model=newModel,device_l=device1,\n",
    "                 # Set all the Hyper-Parameter for training\n",
    "                 epochs=1, max_lr=0.01, weight_decay=0, L1=0, grad_clip=.1, logFile=logFile)\n",
    "\n",
    "#Save the  trained model \n",
    "SavePath = '/home/pragnesh/Model/vgg16-v2'\n",
    "torch.save(newModel, SavePath)"
   ]
  },
  {
   "cell_type": "code",
   "execution_count": 3,
   "id": "c96eca3c",
   "metadata": {},
   "outputs": [
    {
     "name": "stdout",
     "output_type": "stream",
     "text": [
      "Block List   = [2, 2, 3, 3, 3]\n",
      "Feature List = [64, 64, 'M', 128, 128, 'M', 256, 256, 256, 'M', 512, 512, 512, 'M', 512, 512, 512, 'M']\n",
      "Conv Index   = [0, 2, 5, 7, 10, 12, 14, 17, 19, 21, 24, 26, 28]\n",
      "Prune Count  = [1, 1, 3, 3, 9, 9, 9, 26, 26, 26, 51, 51, 51]\n"
     ]
    }
   ],
   "source": [
    "blockList   = ip.createBlockList(newModel)              #ip.getBlockList('vgg16')\n",
    "featureList = ip.createFeatureList(newModel)\n",
    "convIdx     = ip.findConvIndex(newModel)\n",
    "module      = ip.getPruneModule(newModel)\n",
    "prune_count = ip.getPruneCount(module=module,blocks=blockList,maxpr=.1)\n",
    "print(f\"Block List   = {blockList}\\n\"\n",
    "      f\"Feature List = {featureList}\\n\" \n",
    "      f\"Conv Index   = {convIdx}\\n\"\n",
    "      f\"Prune Count  = {prune_count}\"\n",
    "      \n",
    "     )\n",
    "# for i in range(len(module)):\n",
    "#     print(f\"{i+1} :{module[i]}\")"
   ]
  },
  {
   "cell_type": "code",
   "execution_count": 4,
   "id": "8f30f4b5",
   "metadata": {},
   "outputs": [],
   "source": [
    "import torch.nn.utils.prune as prune\n",
    "class KernalPruningMethod(prune.BasePruningMethod):\n",
    "    PRUNING_TYPE = 'unstructured'\n",
    "    def compute_mask(self, t, default_mask):\n",
    "        mask = default_mask.clone()\n",
    "        #mask.view(-1)[::2] = 0\n",
    "        size = t.shape\n",
    "        print(size)\n",
    "        for k1 in range(len(newList[layer_number-st])):\n",
    "            for k2 in range(len(newList[layer_number-st][k1])):\n",
    "                i= newList[layer_number-st][k1][k2][1]\n",
    "                j= newList[layer_number-st][k1][k2][0]\n",
    "                \n",
    "                #print(f\"i= {i} , j= {j}\")\n",
    "                \n",
    "                mask[i][j] = 0\n",
    "        return mask\n",
    "def kernal_unstructured(module, name):\n",
    "    KernalPruningMethod.apply(module, name)\n",
    "    return module"
   ]
  },
  {
   "cell_type": "code",
   "execution_count": 5,
   "id": "44f1cce7",
   "metadata": {},
   "outputs": [],
   "source": [
    "def updateFeatureList(featureList,prune_count,start=0,end=len(prune_count)):\n",
    "    j=0\n",
    "    i=st\n",
    "    while j < en:\n",
    "        if featureList[i] == 'M':\n",
    "            i+=1\n",
    "            continue\n",
    "        else:\n",
    "            featureList[i] = featureList[i] - prune_count[j]\n",
    "            j+=1\n",
    "            i+=1\n",
    "    return featureList\n"
   ]
  },
  {
   "cell_type": "code",
   "execution_count": 6,
   "id": "a1ac6c49",
   "metadata": {},
   "outputs": [],
   "source": [
    "def deepCopy(destModel,sourceModel,featureList):\n",
    "    count=0\n",
    "    for i in range(len(sourceModel.features)):\n",
    "        if str(sourceModel.features[i]).find('Conv') != -1:\n",
    "            size = sourceModel.features[i]._parameters['weight'].shape\n",
    "            for fin in range(size[1]):\n",
    "                j=0\n",
    "                for fout in range(size[0]):\n",
    "                    if torch.norm(sourceModel.features[i]._parameters['weight'][fout][fin]) != 0:\n",
    "                        #print(f'i ={i} , j={j}, fin = {fin}, fout= {fout}')\n",
    "                        if j>=featureList[count]:\n",
    "                            break\n",
    "                        destModel.features[i]._parameters['weight'][j][fin]=sourceModel.features[i]._parameters['weight'][fout][fin]\n",
    "                        j = j+1\n",
    "            count = count +1\n"
   ]
  },
  {
   "cell_type": "code",
   "execution_count": null,
   "id": "196e2a42",
   "metadata": {},
   "outputs": [],
   "source": [
    "st=0\n",
    "en=0\n",
    "candidateConvLayer = []\n",
    "newList = []\n",
    "for bl in range(len(blockList)):\n",
    "    if bl==3:\n",
    "        break\n",
    "    \n",
    "    if bl==0:\n",
    "        st = 0\n",
    "    else:\n",
    "        st=en\n",
    "    en = en+blockList[bl]\n",
    "    \n",
    "    \n",
    "    newList = []\n",
    "    for i in range(st,en):\n",
    "        candidateConvLayer.append(fp.compute_distance_score(module[i]._parameters['weight'],threshold=1))\n",
    "        fp.sort_kernel_by_distance(candidateConvLayer[i])\n",
    "        newList.append( fp.get_k_element(channel_list=candidateConvLayer[i],k=prune_count[st+i]) )\n",
    "        \n",
    "        ###############IncompleteCode############\n",
    "        \n",
    "print(\"\\n\\n\\nHere is the :\",len(candidateConvLayer))"
   ]
  },
  {
   "cell_type": "code",
   "execution_count": null,
   "id": "3a3bb84f",
   "metadata": {},
   "outputs": [],
   "source": []
  }
 ],
 "metadata": {
  "kernelspec": {
   "display_name": "Python 3 (ipykernel)",
   "language": "python",
   "name": "python3"
  },
  "language_info": {
   "codemirror_mode": {
    "name": "ipython",
    "version": 3
   },
   "file_extension": ".py",
   "mimetype": "text/x-python",
   "name": "python",
   "nbconvert_exporter": "python",
   "pygments_lexer": "ipython3",
   "version": "3.9.7"
  }
 },
 "nbformat": 4,
 "nbformat_minor": 5
}
