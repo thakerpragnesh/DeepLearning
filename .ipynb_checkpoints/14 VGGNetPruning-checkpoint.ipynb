{
 "cells": [
  {
   "cell_type": "code",
   "execution_count": 1,
   "id": "0980fc5c",
   "metadata": {},
   "outputs": [],
   "source": [
    "import numpy as np                          # Basic Array and Numaric Operation\n",
    "import os                                   # use to access the files \n",
    "import tarfile                              # use to extract dataset from zip files\n",
    "import sys\n",
    "import zipfile                              # to extract zip file\n",
    "\n",
    "\n",
    "import torch                                # Provides basic tensor operation and nn operation\n",
    "import torchvision                          # Provides facilities to access image dataset\n",
    "\n",
    "\n",
    "import my_utils.loadDataset as dl           # create dataloader for selected dataset\n",
    "import my_utils.loadModel as lm             # facilitate loading and manipulating models\n",
    "import my_utils.trainModel as tm            # Facilitate training of the model\n",
    "import my_utils.initialize_pruning as ip    # Initialize and provide basic parmeter require for pruning\n",
    "import my_utils.facilitate_pruning as fp    # Compute Pruning Value and many things"
   ]
  },
  {
   "cell_type": "markdown",
   "id": "f20ef5b1",
   "metadata": {},
   "source": [
    "### Data Loader\n",
    "#### We set dataset location and set traind and test location properly"
   ]
  },
  {
   "cell_type": "code",
   "execution_count": null,
   "id": "94d7aabd",
   "metadata": {},
   "outputs": [],
   "source": [
    "# set the locationn of the dataset and trai and test data folder name\n",
    "dl.setFolderLocation(datasets       ='/home/pragnesh/Dataset/',\n",
    "                     selectedDataset='IntelIC/',\n",
    "                     train          ='train',\n",
    "                     test           ='test')\n",
    "# set the imge properties\n",
    "dl.setImageSize(224)\n",
    "dl.setBatchSize = 2\n",
    "dataLoader = dl.dataLoader()"
   ]
  },
  {
   "cell_type": "markdown",
   "id": "edd369ce",
   "metadata": {},
   "source": [
    "### Load Model\n",
    "#### Load the daved model from "
   ]
  },
  {
   "cell_type": "code",
   "execution_count": 2,
   "id": "3fd409de",
   "metadata": {},
   "outputs": [],
   "source": [
    "#load the saved model if have any\n",
    "load_path = \"/home/pragnesh/Model/VGG_IntelIC_v2\"\n",
    "device1 = torch.device(\"cuda:0\" if torch.cuda.is_available() else \"cpu\")\n",
    "newModel = torch.load(load_path, map_location=torch.device('cpu'))\n",
    "\n",
    "#if dont have any saved trained model download pretrained model for tranfer learning\n",
    "# newmodel = lm.load_model(model_name='vgg16',number_of_class=6,pretrainval=False,\n",
    "#                         freeze_feature=False,device_l=device1)\n",
    "\n",
    "#print(newModel)"
   ]
  },
  {
   "cell_type": "markdown",
   "id": "ad4173f4",
   "metadata": {},
   "source": [
    "## Trainer"
   ]
  },
  {
   "cell_type": "code",
   "execution_count": null,
   "id": "08cdbf04",
   "metadata": {},
   "outputs": [],
   "source": [
    "logFile = '/home/pragnesh/Dataset/Intel_Image_Classifacation_v2/Logs/ConvModelv2.log'\n",
    "#tm.device = torch.device('cpu')\n",
    "tm.fit_one_cycle(#set locations of the dataset, train and test data\n",
    "                 dataloaders=dataLoader,trainDir=dl.trainDir,testDir=dl.testDir,\n",
    "                 # Selecat a variant of VGGNet\n",
    "                 ModelName='vgg16',model=newModel,device_l=device1,\n",
    "                 # Set all the Hyper-Parameter for training\n",
    "                 epochs=1, max_lr=0.01, weight_decay=0, L1=0, grad_clip=.1, logFile=logFile)\n",
    "\n",
    "#Save the  trained model \n",
    "SavePath = '/home/pragnesh/Model/vgg16-v2'\n",
    "torch.save(newModel, SavePath)"
   ]
  },
  {
   "cell_type": "markdown",
   "id": "e4d9dbfa",
   "metadata": {},
   "source": [
    "## Pruning"
   ]
  },
  {
   "cell_type": "markdown",
   "id": "d04fe357",
   "metadata": {},
   "source": [
    "#### Pruning Initialization\n",
    "\n",
    "        1.  Initialization: blockList,featureList,convidx,prune_count,module\n",
    "        2.  ComputeCandidateLayer\n",
    "        3.  ComputenewList\n",
    "        4.  Call CustomPruning\n",
    "        5.  Commit Pruning\n",
    "        6.  Update feature list\n",
    "        7.  Create new temp model with updated feature list\n",
    "        8.  Perform deep copy\n",
    "        9.  Train pruned model\n",
    "        10. Evalute the pruned model \n",
    "        11. Continue another iteration if required and accepted"
   ]
  },
  {
   "cell_type": "code",
   "execution_count": 3,
   "id": "c96eca3c",
   "metadata": {},
   "outputs": [
    {
     "name": "stdout",
     "output_type": "stream",
     "text": [
      "Block List   = [2, 2, 3, 3, 3]\n",
      "Feature List = [64, 64, 'M', 128, 128, 'M', 256, 256, 256, 'M', 512, 512, 512, 'M', 512, 512, 512, 'M']\n",
      "Conv Index   = [0, 2, 5, 7, 10, 12, 14, 17, 19, 21, 24, 26, 28]\n",
      "Prune Count  = [1, 1, 3, 3, 9, 9, 9, 26, 26, 26, 51, 51, 51]\n"
     ]
    }
   ],
   "source": [
    "blockList   = ip.createBlockList(newModel)              #ip.getBlockList('vgg16')\n",
    "featureList = ip.createFeatureList(newModel)\n",
    "convIdx     = ip.findConvIndex(newModel)\n",
    "module      = ip.getPruneModule(newModel)\n",
    "prune_count = ip.getPruneCount(module=module,blocks=blockList,maxpr=.1)\n",
    "print(f\"Block List   = {blockList}\\n\"\n",
    "      f\"Feature List = {featureList}\\n\" \n",
    "      f\"Conv Index   = {convIdx}\\n\"\n",
    "      f\"Prune Count  = {prune_count}\"\n",
    "      \n",
    "     )\n",
    "# for i in range(len(module)):\n",
    "#     print(f\"{i+1} :{module[i]}\")"
   ]
  },
  {
   "cell_type": "markdown",
   "id": "9e75b67c",
   "metadata": {},
   "source": [
    "#### Implementing custom pruning process"
   ]
  },
  {
   "cell_type": "code",
   "execution_count": 4,
   "id": "2b4c36f0",
   "metadata": {},
   "outputs": [],
   "source": [
    "newList = []\n",
    "layer_number = 0\n",
    "st = 0\n",
    "en = 0\n",
    "candidateConvLayer = []\n",
    "def computeCandidateConvLayer(module,blockList):\n",
    "    global layer_number\n",
    "    candidateConvLayer = []\n",
    "    \n",
    "    for bl in range(len(blockList)):    \n",
    "        if bl==0:\n",
    "            st = 0\n",
    "        else:\n",
    "            st=en\n",
    "        en = en+blockList[bl]\n",
    "\n",
    "        if bl<=3:\n",
    "            continue\n",
    "        newList = []\n",
    "        for i in range(st,en):\n",
    "            layer_number =i\n",
    "            candidateConvLayer.append(fp.compute_distance_score(module[i]._parameters['weight'],threshold=1))\n",
    "        return candidateConvLayer\n",
    "            #fp.sort_kernel_by_distance(candidateConvLayer[i])\n",
    "#         for i in range(st,en):\n",
    "#             newList.append( fp.get_k_element(channel_list=candidateConvLayer[i],k=prune_count[i]) )\n",
    "#             kernal_unstructured(module=module[i],name='weight')\n",
    "#             prune.remove(module[i], 'weight')\n",
    "    \n",
    "#CandidateConvLayer = computeCandidateConvLayer(module=module,blockList=blockList)\n",
    "        ###############IncompleteCode############\n",
    "        \n",
    "#print(\"\\n\\n\\nHere is the :\",len(candidateConvLayer))"
   ]
  },
  {
   "cell_type": "code",
   "execution_count": 5,
   "id": "fae69fc9",
   "metadata": {},
   "outputs": [],
   "source": [
    "#candidateConvLayer = []\n",
    "def computeNewList():\n",
    "    newList = []\n",
    "    st =0\n",
    "    en =0\n",
    "    for bl in range(len(blockList)):    \n",
    "        if bl==0:\n",
    "            st = 0\n",
    "        else:\n",
    "            st=en\n",
    "\n",
    "        en = en+blockList[bl]\n",
    "        print(f\"start ={st}, End={en} and last module in the block {module[en-1]._parameters['weight'].shape}\")\n",
    "\n",
    "        if bl<3:\n",
    "            continue\n",
    "        newList = []\n",
    "        print(f\"end = {en}\")\n",
    "        for i in range(st,en):\n",
    "            print(f\"i = {i}\")\n",
    "            layer_number=i\n",
    "            newList.append( fp.get_k_element(channel_list=candidateConvLayer[i-st],k=prune_count[i]) )\n",
    "    return newList\n",
    "#newList = computeNewList\n"
   ]
  },
  {
   "cell_type": "code",
   "execution_count": 6,
   "id": "8f30f4b5",
   "metadata": {},
   "outputs": [],
   "source": [
    "import torch.nn.utils.prune as prune\n",
    "class KernalPruningMethod(prune.BasePruningMethod):\n",
    "    PRUNING_TYPE = 'unstructured'\n",
    "    def compute_mask(self, t, default_mask):\n",
    "        mask = default_mask.clone()\n",
    "        #mask.view(-1)[::2] = 0\n",
    "        size = t.shape\n",
    "        print(size)\n",
    "        print(f'Layer Number:{layer_number} \\nstart={st} \\nlength of new list={len(newList)}')\n",
    "        for k1 in range(len(newList[layer_number-st])):\n",
    "            for k2 in range(len(newList[layer_number-st][k1])):\n",
    "                i= newList[layer_number-st][k1][k2][1]\n",
    "                j= newList[layer_number-st][k1][k2][0]\n",
    "                \n",
    "                #print(f\"i= {i} , j= {j}\")\n",
    "                \n",
    "                mask[i][j] = 0\n",
    "        return mask\n",
    "def kernal_unstructured(module, name):\n",
    "    KernalPruningMethod.apply(module, name)\n",
    "    return module"
   ]
  },
  {
   "cell_type": "markdown",
   "id": "99987fd8",
   "metadata": {},
   "source": [
    "#### After pruning create new model with updated pruning list"
   ]
  },
  {
   "cell_type": "code",
   "execution_count": 7,
   "id": "44f1cce7",
   "metadata": {},
   "outputs": [],
   "source": [
    "def updateFeatureList(featureList,prune_count,start=0,end=len(prune_count)):\n",
    "    j=0\n",
    "    i=start\n",
    "    while j < end:\n",
    "        if featureList[i] == 'M':\n",
    "            i+=1\n",
    "            continue\n",
    "        else:\n",
    "            featureList[i] = featureList[i] - prune_count[j]\n",
    "            j+=1\n",
    "            i+=1\n",
    "    return featureList\n"
   ]
  },
  {
   "cell_type": "markdown",
   "id": "6f746485",
   "metadata": {},
   "source": [
    "#### Copy the non zero weight value from prune model to new model "
   ]
  },
  {
   "cell_type": "code",
   "execution_count": 10,
   "id": "2fdad890",
   "metadata": {},
   "outputs": [
    {
     "name": "stdout",
     "output_type": "stream",
     "text": [
      "\n"
     ]
    }
   ],
   "source": [
    "'''\n",
    "def deepCopy(destModel,sourceModel):\n",
    "    print(\"Deep Copy Started\")\n",
    "    for i in range(len(sourceModel.features)):\n",
    "        print(\".\",end=\"\")\n",
    "        p=0\n",
    "        if str(sourceModel.features[i]).find('Conv') != -1:\n",
    "            size_org = sourceModel.features[i]._parameters['weight'].shape\n",
    "            size_new =   destModel.features[i]._parameters['weight'].shape\n",
    "            ##print(f\"Sise of {i}th layer original model:{size_org}\")\n",
    "            ##print(f\"Sise of {i}th layer new model:{size_new}\")\n",
    "            #print(f\"feature list[{i}]: {featureList[i]}\")\n",
    "            fin_new = 0\n",
    "            for fin_org in range(size_org[1]):\n",
    "                j=0\n",
    "                #fin_new = fin_org\n",
    "                fout_new = 0\n",
    "                for fout_org in range(size_org[0]):\n",
    "                    if torch.norm(sourceModel.features[i]._parameters['weight'][fout][fin_org]) != 0:\n",
    "                        fout_new +=1;\n",
    "                        if j>=size_new[0] or fin_new>=size_new[1]:\n",
    "                            break\n",
    "                        \n",
    "                        t = sourceModel.features[i]._parameters['weight'][fout][fin_org]\n",
    "                        destModel.features[i]._parameters['weight'][j][fin_new]=t\n",
    "                        \n",
    "                        j = j+1\n",
    "                if torch.norm(sourceModel.features[p]._parameters['weight'][fout][fin_org]) != 0:\n",
    "                    fin_new +=1\n",
    "'''\n",
    "print()"
   ]
  },
  {
   "cell_type": "code",
   "execution_count": 9,
   "id": "a1ac6c49",
   "metadata": {},
   "outputs": [],
   "source": [
    "def deepCopy(destModel,sourceModel):\n",
    "    print(\"Deep Copy Started\")\n",
    "    for i in range(len(sourceModel.features)):\n",
    "        print(\".\",end=\"\")\n",
    "        if str(sourceModel.features[i]).find('Conv') != -1:\n",
    "            size_org = sourceModel.features[i]._parameters['weight'].shape\n",
    "            size_new = destModel.features[i]._parameters['weight'].shape\n",
    "            ##print(f\"Sise of {i}th layer original model:{size_org}\")\n",
    "            ##print(f\"Sise of {i}th layer new model:{size_new}\")\n",
    "            #print(f\"feature list[{i}]: {featureList[i]}\")\n",
    "            for fin_org in range(size_org[1]):\n",
    "                j=0\n",
    "                fin_new = fin_org\n",
    "                for fout in range(size_org[0]):\n",
    "                    if torch.norm(sourceModel.features[i]._parameters['weight'][fout][fin_org]) != 0:\n",
    "                        fin_new +=1;\n",
    "                        if j>=size_new[0] or fin_new>=size_new[1]:\n",
    "                            break\n",
    "                        \n",
    "                        t = sourceModel.features[i]._parameters['weight'][fout][fin_org]\n",
    "                        destModel.features[i]._parameters['weight'][j][fin_new]=t\n",
    "                        \n",
    "                        j = j+1\n",
    "                \n",
    "                "
   ]
  },
  {
   "cell_type": "markdown",
   "id": "2995cbc9",
   "metadata": {},
   "source": [
    "### Perform Pruning Blockwise For Each Layer of Block"
   ]
  },
  {
   "cell_type": "code",
   "execution_count": null,
   "id": "85199728",
   "metadata": {},
   "outputs": [],
   "source": [
    "kernal_unstructured(module=module[i],name='weight')\n",
    "prune.remove(module[i], 'weight')"
   ]
  },
  {
   "cell_type": "code",
   "execution_count": null,
   "id": "a3e3b0ae",
   "metadata": {},
   "outputs": [],
   "source": [
    "# for i in range(len(module)):\n",
    "#     print(module[i]._parameters['weight'].shape)\n",
    "print(module[10])"
   ]
  },
  {
   "cell_type": "code",
   "execution_count": null,
   "id": "8f11e52b",
   "metadata": {},
   "outputs": [],
   "source": [
    "#print(len(candidateConvLayer))\n",
    "#print(len(candidateConvLayer[0][0]))\n",
    "print(f\"c={len(candidateConvLayer)}, c[]= {len(candidateConvLayer[0])}, c[][] = {len(candidateConvLayer[0][0])},\"\n",
    "      f\"c[][][] = {len(candidateConvLayer[0][0][0])}: value={candidateConvLayer[0][0][100]}\")"
   ]
  },
  {
   "cell_type": "code",
   "execution_count": null,
   "id": "2f33268f",
   "metadata": {},
   "outputs": [],
   "source": [
    "print(f\"Start = {st} and end = {en}\")"
   ]
  },
  {
   "cell_type": "markdown",
   "id": "e3ea51df",
   "metadata": {},
   "source": [
    "\n",
    "### Create new temp model with updated feature list\n"
   ]
  },
  {
   "cell_type": "code",
   "execution_count": null,
   "id": "98bf6189",
   "metadata": {},
   "outputs": [],
   "source": [
    "featureList = updateFeatureList(featureList=featureList,prune_count=prune_count,start=0,end=7)\n",
    "print(featureList)"
   ]
  },
  {
   "cell_type": "code",
   "execution_count": null,
   "id": "b9320053",
   "metadata": {},
   "outputs": [],
   "source": [
    "tempModel = lm.create_vgg_from_feature_list(featureList)\n",
    "lm.freeze(tempModel,'vgg16')\n",
    "#print(tempModel)"
   ]
  },
  {
   "cell_type": "code",
   "execution_count": null,
   "id": "3a3bb84f",
   "metadata": {},
   "outputs": [],
   "source": [
    "deepCopy(destModel=tempModel,sourceModel=newModel)"
   ]
  },
  {
   "cell_type": "code",
   "execution_count": null,
   "id": "39819f72",
   "metadata": {},
   "outputs": [],
   "source": [
    "def iterativePruning(newModel,module,blockList,prune_epochs):\n",
    "    for i in range(prune_epochs):\n",
    "        # 1.  Initialization: blockList,featureList,convidx,prune_count,module\n",
    "        # 2.  ComputeCandidateLayer\n",
    "        candidateConvLayer = computeCandidateConvLayer(module=module,blockList=blockList)\n",
    "        # 3.  ComputenewList\n",
    "        newList = computeNewList()\n",
    "        # 4.  Call CustomPruning\n",
    "        for i in range(len(module)):\n",
    "            kernal_unstructured(module=module[i],name='weight')\n",
    "        # 5.  Commit Pruning\n",
    "        for i in range(len(module)):\n",
    "            prune.remove(module=module[i],name='weight')\n",
    "        # 6.  Update feature list\n",
    "        featureList = updateFeatureList()\n",
    "        # 7.  Create new temp model with updated feature list\n",
    "        tempModel = lm.create_vgg_from_feature_list(featureList)\n",
    "        # 8.  Perform deep copy\n",
    "        deepCopy(tempModel,newModel)\n",
    "        # 9.  Train pruned model\n",
    "        tm.fit_one_cycle(#set locations of the dataset, train and test data\n",
    "                         dataloaders=dataLoader,trainDir=dl.trainDir,testDir=dl.testDir,\n",
    "                         # Selecat a variant of VGGNet\n",
    "                         ModelName='vgg16',model=tempModel,device_l=device1,\n",
    "                         # Set all the Hyper-Parameter for training\n",
    "                         epochs=1, max_lr=0.01, weight_decay=0, L1=0, grad_clip=.1, logFile=logFile)\n",
    "        # 10. Evalute the pruned model \n",
    "        # 11. Continue another iteration if required and accepted\n",
    "    \n"
   ]
  }
 ],
 "metadata": {
  "kernelspec": {
   "display_name": "Python 3 (ipykernel)",
   "language": "python",
   "name": "python3"
  },
  "language_info": {
   "codemirror_mode": {
    "name": "ipython",
    "version": 3
   },
   "file_extension": ".py",
   "mimetype": "text/x-python",
   "name": "python",
   "nbconvert_exporter": "python",
   "pygments_lexer": "ipython3",
   "version": "3.9.7"
  }
 },
 "nbformat": 4,
 "nbformat_minor": 5
}
