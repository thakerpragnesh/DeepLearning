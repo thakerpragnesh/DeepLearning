{
 "cells": [
  {
   "cell_type": "markdown",
   "metadata": {
    "colab_type": "text",
    "id": "view-in-github"
   },
   "source": [
    "<a href=\"https://colab.research.google.com/github/thakerpragnesh/DeepLearning/blob/master/04_VGG_Net16_BasicPruning.ipynb\" target=\"_parent\"><img src=\"https://colab.research.google.com/assets/colab-badge.svg\" alt=\"Open In Colab\"/></a>"
   ]
  },
  {
   "cell_type": "markdown",
   "metadata": {
    "id": "IVjg8mhW6uHs"
   },
   "source": [
    "This code will help you to load google dive in the jupiter notebook and help to access the dataset stored in the drive\n"
   ]
  },
  {
   "cell_type": "code",
   "execution_count": null,
   "metadata": {
    "colab": {
     "base_uri": "https://localhost:8080/"
    },
    "id": "8O0-fDoUdAFr",
    "outputId": "5e9a5d87-c489-4f55-b5dc-3a29d1accbb2"
   },
   "outputs": [
    {
     "name": "stdout",
     "output_type": "stream",
     "text": [
      "Mounted at /content/gdrive\n"
     ]
    }
   ],
   "source": [
    "from google.colab import drive\n",
    "drive.mount('/content/gdrive')"
   ]
  },
  {
   "cell_type": "code",
   "execution_count": null,
   "metadata": {
    "id": "R4moYb7-weO9"
   },
   "outputs": [],
   "source": [
    "#import basic library for some basic function\n",
    "import numpy as np\n",
    "import matplotlib.pyplot as plt\n",
    "%matplotlib inline\n",
    "\n",
    "from tqdm import tqdm\n",
    "import cv2"
   ]
  },
  {
   "cell_type": "code",
   "execution_count": null,
   "metadata": {
    "id": "-7aISk4Kc23P"
   },
   "outputs": [],
   "source": [
    "# import library to perform file operation\n",
    "import os #use to access the files \n",
    "import tarfile # use to extract dataset from zip files\n",
    "import sys"
   ]
  },
  {
   "cell_type": "code",
   "execution_count": null,
   "metadata": {
    "id": "qhl9_5SWwWuG"
   },
   "outputs": [],
   "source": [
    "#import torch library to build neural network\n",
    "import torch  # Elementory function of tensor is define in torch package\n",
    "import torch.nn as nn # Several layer architectur is define here\n",
    "import torch.nn.functional as F # loss function and activation function\n"
   ]
  },
  {
   "cell_type": "code",
   "execution_count": null,
   "metadata": {
    "id": "lNwx_5HQwZnL"
   },
   "outputs": [],
   "source": [
    "# import torch library related to data processing\n",
    "import torchvision # provides facilities to access image dataset\n",
    "from torchvision.datasets.utils import download_url \n",
    "from torchvision.datasets import ImageFolder\n",
    "from torch.utils.data import DataLoader\n",
    "import torchvision.transforms as transforms\n",
    "from torch.utils.data import random_split\n",
    "from torchvision.utils import make_grid\n"
   ]
  },
  {
   "cell_type": "code",
   "execution_count": null,
   "metadata": {
    "id": "Vy969sMrwhq1"
   },
   "outputs": [],
   "source": [
    "#import library to facilitate pruning\n",
    "import torch.nn.utils.prune as prune\n",
    "import time"
   ]
  },
  {
   "cell_type": "markdown",
   "metadata": {
    "id": "CeyFtxdf6h8o"
   },
   "source": [
    "#Data Prepration\n",
    "\n",
    "Based on the image size of the dataset choose apropriate values of the color channel and Image Size"
   ]
  },
  {
   "cell_type": "code",
   "execution_count": null,
   "metadata": {
    "id": "3UkTeSRNc5WF"
   },
   "outputs": [],
   "source": [
    "colorChannel = 3\n",
    "ImageSize    = 224"
   ]
  },
  {
   "cell_type": "markdown",
   "metadata": {
    "id": "pRAwsy-W7HCq"
   },
   "source": [
    "#### Load the dataset for the drive and convert it target value in appropirate format and resize it as per configuration mentioned above"
   ]
  },
  {
   "cell_type": "code",
   "execution_count": null,
   "metadata": {
    "id": "8eKOqtPN0msu"
   },
   "outputs": [],
   "source": [
    "training_data = np.load(\"/content/gdrive/My Drive/Dataset/IntelIC/IntelIC_3_224_100.npy\", allow_pickle=True)\n",
    "X = torch.Tensor([i[0] for i in training_data]).view(-1,colorChannel,ImageSize,ImageSize)\n",
    "ytemp = ([i[1] for i in training_data])\n",
    "#y = np.argmax(y, axis=1) # Convert one hot representation to class index\n",
    "y = torch.tensor(ytemp)"
   ]
  },
  {
   "cell_type": "code",
   "execution_count": null,
   "metadata": {
    "id": "W44L_d9-1DJK"
   },
   "outputs": [],
   "source": [
    "del ytemp\n",
    "del training_data\n",
    "#del X"
   ]
  },
  {
   "cell_type": "markdown",
   "metadata": {
    "id": "vszYNQxE7Wvy"
   },
   "source": [
    "#### Define function to Compute mean and standard deviation that can be use for data normalization using formula X = (X-Mean)/SD"
   ]
  },
  {
   "cell_type": "code",
   "execution_count": null,
   "metadata": {
    "id": "woP1JR5Gr1t0"
   },
   "outputs": [],
   "source": [
    "def get_mean_and_std(X):\n",
    "    '''Compute the mean and std value of dataset.'''\n",
    "    mean = torch.zeros(3)\n",
    "    std = torch.zeros(3)\n",
    "    print('==> Computing mean and std..')\n",
    "    for inputs in X:\n",
    "        for i in range(3):\n",
    "          mean[i] += inputs[i,:,:].mean()\n",
    "          std[i] += inputs[i,:,:].std()\n",
    "    mean.div_(len(X))\n",
    "    std.div_(len(X))\n",
    "    return mean, std"
   ]
  },
  {
   "cell_type": "markdown",
   "metadata": {
    "id": "x3mwpBwC7x6L"
   },
   "source": [
    " #### Define Function Normalize the dataset using computed mean and standard deviation\n"
   ]
  },
  {
   "cell_type": "code",
   "execution_count": null,
   "metadata": {
    "id": "RUxuAhreOzXu"
   },
   "outputs": [],
   "source": [
    "def get_normalize(X,mean,std):\n",
    "    '''Normalize data using mean and standard deviation'''\n",
    "    print('==> normalizing..')\n",
    "    for inputs in X:\n",
    "        for i in range(3):\n",
    "          inputs[i,:,:] = (inputs[i,:,:]-mean[i])/std[i]"
   ]
  },
  {
   "cell_type": "markdown",
   "metadata": {
    "id": "SUUE1koDxjw-"
   },
   "source": [
    "Computer mean and SD and normalize data using them"
   ]
  },
  {
   "cell_type": "code",
   "execution_count": null,
   "metadata": {
    "colab": {
     "base_uri": "https://localhost:8080/"
    },
    "id": "NjB6TmIksecx",
    "outputId": "ce9a2612-a1eb-4134-c90f-7b7ab423a1c8"
   },
   "outputs": [
    {
     "name": "stdout",
     "output_type": "stream",
     "text": [
      "==> Computing mean and std..\n",
      "tensor([139.1866, 111.8358,  92.4130])\n",
      "tensor([48.5810, 50.6557, 43.9989])\n",
      "Normalization process called\n",
      "==> normalizing..\n"
     ]
    }
   ],
   "source": [
    "X_mean,X_std = get_mean_and_std(X)\n",
    "print(X_mean)\n",
    "print(X_std)\n",
    "print(\"Normalization process called\")\n",
    "get_normalize(X,mean=X_mean,std=X_std)"
   ]
  },
  {
   "cell_type": "markdown",
   "metadata": {
    "id": "xWJHepIkx1Or"
   },
   "source": [
    "Check the shape of data as in gives basic informaion such as number of data item, number of channel, height, and width"
   ]
  },
  {
   "cell_type": "code",
   "execution_count": null,
   "metadata": {
    "colab": {
     "base_uri": "https://localhost:8080/"
    },
    "id": "8PG3PYuHdfpc",
    "outputId": "0405055e-bbe3-4d3b-a2cc-12f79ea55fca"
   },
   "outputs": [
    {
     "name": "stdout",
     "output_type": "stream",
     "text": [
      "Shape of input X is: torch.Size([600, 3, 224, 224])\n",
      "Shape of lable y is: torch.Size([600])\n"
     ]
    }
   ],
   "source": [
    "print(f\"Shape of input X is: {X.shape}\")\n",
    "print(f\"Shape of lable y is: {y.shape}\")"
   ]
  },
  {
   "cell_type": "markdown",
   "metadata": {
    "id": "nfBWJusz73Ap"
   },
   "source": [
    "Split the dataset into validation and trainig dataset with choosen percentage"
   ]
  },
  {
   "cell_type": "code",
   "execution_count": null,
   "metadata": {
    "id": "L8y-FYwdrnjR"
   },
   "outputs": [],
   "source": [
    "VAL_PCT    = 0.1                   # lets reserve 10% of our data for validation\n",
    "batch_size = 8"
   ]
  },
  {
   "cell_type": "code",
   "execution_count": null,
   "metadata": {
    "colab": {
     "base_uri": "https://localhost:8080/"
    },
    "id": "ZPFCxi0edke4",
    "outputId": "05ad8dc0-2ebb-4813-f17a-a31b3ea3e59b"
   },
   "outputs": [
    {
     "name": "stdout",
     "output_type": "stream",
     "text": [
      "Shape of train Input:  torch.Size([540, 3, 224, 224]) \t  Shape of train output :  torch.Size([540])\n",
      "Shape of test  Input:  torch.Size([540, 3, 224, 224]) \t  Shape of test  output :  torch.Size([540])\n",
      "\n",
      "Numberof element in Test Dataset 60\n"
     ]
    }
   ],
   "source": [
    "val_size = int(len(X)*VAL_PCT)  # Number of images in validation dataset\n",
    "\n",
    "from torch.utils.data import DataLoader\n",
    "from torch.utils.data import TensorDataset\n",
    "\n",
    "train_X = X[:-val_size]         # 0 to N-val_size element in train where N is\n",
    "train_y = y[:-val_size]         # total number of element\n",
    "\n",
    "test_X = X[-val_size:]          # val_size to N element where in test dataset\n",
    "test_y = y[-val_size:]\n",
    "\n",
    "train_ds = TensorDataset(train_X, train_y)    # ds = dataset\n",
    "test_ds = TensorDataset(test_X, test_y)       \n",
    "\n",
    "train_dl = DataLoader(train_ds, batch_size, shuffle=True)   # dl = data loader\n",
    "test_dl = DataLoader(test_ds, 2*batch_size, shuffle=False)\n",
    "\n",
    "print(\"Shape of train Input: \",train_X.shape,\"\\t  Shape of train output : \",train_y.shape)\n",
    "print(\"Shape of test  Input: \",train_X.shape,\"\\t  Shape of test  output : \",train_y.shape)  \n",
    "print(\"\\nNumberof element in Test Dataset\",len(test_X))"
   ]
  },
  {
   "cell_type": "code",
   "execution_count": null,
   "metadata": {
    "colab": {
     "base_uri": "https://localhost:8080/"
    },
    "id": "G3keAOLbeHBN",
    "outputId": "4e0e46ec-08f8-47dc-8254-5d5983498edd"
   },
   "outputs": [
    {
     "name": "stdout",
     "output_type": "stream",
     "text": [
      "cuda\n"
     ]
    }
   ],
   "source": [
    "#check for CUDA enabled GPU card\n",
    "def getDeviceType():\n",
    "  if torch.cuda.is_available():\n",
    "    return torch.device('cuda')\n",
    "  else:\n",
    "    return torch.device('cpu')\n",
    "\n",
    "\n",
    "device = getDeviceType()\n",
    "print(device)"
   ]
  },
  {
   "cell_type": "markdown",
   "metadata": {
    "id": "W0iq-SdG8R1b"
   },
   "source": [
    "#Training Process\n",
    "Below code will work as a base function and provide all the important function like compute loss, accuracy and print result in a perticular formate afte each epoch"
   ]
  },
  {
   "cell_type": "code",
   "execution_count": null,
   "metadata": {
    "id": "kel4XgkofxnB"
   },
   "outputs": [],
   "source": [
    "def accuracy(outputs, labels):\n",
    "# compute accuracy = total correct prediction / total number f ele\n",
    "\n",
    "    # torch.max(output, dim) will return max value and corresponding index, \n",
    "    # Here we are intersted only on index value as it indicate class\n",
    "    _, preds = torch.max(outputs, dim=1) # get the prediction vector\n",
    "    return torch.tensor(torch.sum(preds == labels).item() / len(preds))\n",
    "\n",
    "class ImageClassificationBase(nn.Module):\n",
    "    \n",
    "    # Compute loss of the given batch and return it\n",
    "    def compute_batch_loss(self, batch_X,batch_y):\n",
    "        images = batch_X.to(device)\n",
    "        labels = batch_y.to(device)\n",
    "        out = self(images)                  # Generate predictions\n",
    "        loss = F.cross_entropy(out, labels) # Calculate loss\n",
    "        return loss\n",
    "    \n",
    "    # Computes loss and accuracy of the given batch(Used in validation)\n",
    "    def compute_batch_loss_acc(self, batch_X,batch_y):\n",
    "        images = batch_X.to(device)\n",
    "        labels = batch_y.to(device)\n",
    "        out = self(images)                    # Generate predictions\n",
    "        loss = F.cross_entropy(out, labels)   # Calculate loss\n",
    "        acc = accuracy(out, labels)           # Calculate accuracy\n",
    "        return {'val_loss': loss, 'val_acc': acc}\n",
    "\n",
    "    # At the end of epoch accumulate all batch loss and batch accueacy    \n",
    "    def accumulate_batch_loss_acc(self, outputs):\n",
    "        batch_losses = [x['val_loss'] for x in outputs]\n",
    "        epoch_loss = torch.stack(batch_losses).mean()   # Combine losses\n",
    "        batch_accs = [x['val_acc'] for x in outputs]\n",
    "        epoch_acc = torch.stack(batch_accs).mean()      # Combine accuracies\n",
    "        return {'val_loss': epoch_loss.item(), 'val_acc': epoch_acc.item()}\n",
    "    \n",
    "    def epoch_end(self, epoch, result):\n",
    "      # Print in given format \n",
    "      # Epoch [0], last_lr: 0.00278, train_loss: 1.2862, val_loss: 1.2110, val_acc: 0.6135\n",
    "      strResult = \"Epoch [{}], last_lr: {:.5f}, train_loss: {:.4f}, val_loss: {:.4f}, val_acc: {:.4f}\".format(\n",
    "          epoch, result['lrs'][-1], result['train_loss'], result['val_loss'], result['val_acc'])\n",
    "      print(strResult)\n",
    "      #print(\"Epoch [{}], last_lr: {:.5f}, train_loss: {:.4f}, val_loss: {:.4f}, val_acc: {:.4f}\".format(\n",
    "      #   epoch, result['lrs'][-1], result['train_loss'], result['val_loss'], result['val_acc']))"
   ]
  },
  {
   "cell_type": "markdown",
   "metadata": {
    "id": "mPEzwZYX8tUs"
   },
   "source": [
    "#Define Architecture\n",
    "Define a function to facilitate the creation of convolution layer with batch normalization and relu as activation function."
   ]
  },
  {
   "cell_type": "code",
   "execution_count": null,
   "metadata": {
    "id": "1g66ze5_fwPx"
   },
   "outputs": [],
   "source": [
    "def conv_block(in_channels, out_channels, pool=False, kernalSize =3, padd = 1 ):\n",
    "    layers = [nn.Conv2d(in_channels, out_channels, kernel_size=kernalSize, padding=padd), \n",
    "              nn.BatchNorm2d(out_channels), # Layerwise Noramlizarion\n",
    "              nn.ReLU(inplace=True)]\n",
    "    if pool: layers.append(nn.MaxPool2d(2)) \n",
    "    return nn.Sequential(*layers)\n",
    "\n",
    "def vgg_fc_layer(size_in, size_out):\n",
    "    layer = nn.Sequential(\n",
    "        nn.Dropout(p=0.6),\n",
    "        nn.Linear(size_in, size_out),\n",
    "        nn.BatchNorm1d(size_out),\n",
    "        nn.ReLU()\n",
    "    )\n",
    "    return layer"
   ]
  },
  {
   "cell_type": "markdown",
   "metadata": {
    "id": "CoMQkLn-9iPg"
   },
   "source": [
    "Create Resnet architecture where CR = Ci-> C(i+1).\n",
    "Implemant forward methods"
   ]
  },
  {
   "cell_type": "code",
   "execution_count": null,
   "metadata": {
    "id": "QDjWQrm8gs7D"
   },
   "outputs": [],
   "source": [
    "class VGG_Net_16(ImageClassificationBase):\n",
    "    \n",
    "    def __init__(self, in_channels, num_classes):\n",
    "        \n",
    "        super().__init__()\n",
    "        \n",
    "        # VGG_BLOCK_1(03,64)    -> Input(3,64x64) -> Output(64,32x32)\n",
    "        self.conv11 = conv_block(in_channels, 64,pool=False)\n",
    "        self.conv12 = conv_block(64, 64,pool=True) #112x112\n",
    "\n",
    "        # VGG_BLOCK_2(64,128)   -> Input(64,32x32) -> Output(128,16x16)\n",
    "        self.conv21 = conv_block(64,128,pool=False)\n",
    "        self.conv22 = conv_block(128, 128, pool=True) #56x56                             \n",
    "        \n",
    "        # VGG_BLOCK_3(128,128) -> Input(128,16x16) -> Output(128,16x16)\n",
    "        self.conv31 = conv_block(128,256,pool=False)\n",
    "        self.conv32 = conv_block(256, 256, pool=False)  #28x28\n",
    "        self.conv33 = conv_block(256, 256, pool=True)\n",
    "        \n",
    "        # VGG_BLOCK_4(256,512)  -> Input(256,8x8) -> Output(512x4x4)\n",
    "        self.conv41 = conv_block(256, 512, pool=False)                              \n",
    "        self.conv42 = conv_block(512, 512, pool=False)\n",
    "        self.conv43 = conv_block(512, 512, pool=True)  #14x14\n",
    "\n",
    "        # VGG_BLOCK_5(512,512) -> Input(512x4x4) -> Output(512x4x4)\n",
    "        self.conv51 = conv_block(512, 512, pool=False)                              \n",
    "        self.conv52 = conv_block(512, 512, pool=False)\n",
    "        self.conv53 = conv_block(512, 512, pool=True)  #7x7\n",
    "\n",
    "          \n",
    "        # Classifier Part Of VGG_Net\n",
    "        self.FC1 = vgg_fc_layer(7*7*512, 4096)\n",
    "        self.FC2 = vgg_fc_layer(4096, 4096)\n",
    "        self.output = vgg_fc_layer(7*7*512, 4096)\n",
    "    \n",
    "    def forward(self, xb):\n",
    "        out = self.conv11(xb)\n",
    "        out = self.conv12(out)\n",
    "        \n",
    "        out = self.conv21(out)\n",
    "        out = self.conv22(out)\n",
    "\n",
    "        out = self.conv31(out)\n",
    "        out = self.conv32(out)\n",
    "        out = self.conv33(out)\n",
    "\n",
    "        out = self.conv41(out)\n",
    "        out = self.conv42(out)\n",
    "        out = self.conv43(out)\n",
    "\n",
    "        out = self.conv51(out)\n",
    "        out = self.conv52(out)\n",
    "        features = self.conv53(out)\n",
    "\n",
    "        out = features.view(out.size(0), -1)  # Flatten the layer\n",
    "\n",
    "\n",
    "\n",
    "        return out"
   ]
  },
  {
   "cell_type": "markdown",
   "metadata": {
    "id": "W53797PgUrQM"
   },
   "source": [
    "## Define Training "
   ]
  },
  {
   "cell_type": "code",
   "execution_count": null,
   "metadata": {
    "id": "SskViaSQjHUR"
   },
   "outputs": [],
   "source": [
    "@torch.no_grad()\n",
    "# evalute model on validation dataset\n",
    "def evaluate(model, data_loader):\n",
    "    model.eval()\n",
    "    with torch.no_grad():\n",
    "      for batch_X, batch_y in data_loader:\n",
    "        outputs = [model.compute_batch_loss_acc(batch_X,batch_y)]\n",
    "      return model.accumulate_batch_loss_acc(outputs)\n",
    "\n",
    "# Use special scheduler to change the value of learning rate\n",
    "def get_lr(optimizer):\n",
    "    for param_group in optimizer.param_groups:\n",
    "        return param_group['lr']\n",
    "\n",
    "# epoch=8, max_lr=.01, weight_decay(L2-Regu parametr)=.0001,opt_func=Adam\n",
    "\n",
    "\n",
    "def fit_one_cycle(ModelName,epochs, max_lr, model, train_loader, val_loader, \n",
    "                  weight_decay=0, L1=0,grad_clip=None, opt_func=torch.optim.SGD):\n",
    "    torch.cuda.empty_cache()\n",
    "    history = []\n",
    "    \n",
    "    # Set up cutom optimizer here we will use one cycle scheduler with max learning\n",
    "    # rate given by max_lr, default optimizer is SGD but we will use ADAM, and \n",
    "    # L2 Regularization using weight decay\n",
    "    optimizer = opt_func(model.parameters(), max_lr, weight_decay=weight_decay)\n",
    "    \n",
    "    # Set up one-cycle learning rate scheduler\n",
    "    sched = torch.optim.lr_scheduler.OneCycleLR(optimizer, max_lr, epochs=epochs, \n",
    "                                                steps_per_epoch=len(train_loader))\n",
    "    \n",
    "    print(\"Training Starts\")\n",
    "    with open(\"/content/gdrive/My Drive/data/ConvModel.log\",\"a\") as f:\n",
    "      for epoch in range(epochs):\n",
    "          # Training Phase \n",
    "          model.train()  #######################\n",
    "          train_losses = []\n",
    "          lrs = []\n",
    "          #for batch in train_loader:\n",
    "          for batch_X, batch_y in train_dl:\n",
    "              \n",
    "              # computer the training loss of current batch\n",
    "              loss = model.compute_batch_loss(batch_X,batch_y)\n",
    "              \n",
    "              l1_crit = nn.L1Loss()\n",
    "              reg_loss = 0\n",
    "              for param in model.parameters():\n",
    "                reg_loss += l1_crit(param,target=torch.zeros_like(param))\n",
    "\n",
    "              loss += L1*reg_loss \n",
    "              train_losses.append(loss)\n",
    "              loss.backward() # compute the gradient of all weights\n",
    "              \n",
    "              # Clip the gradient value to maximum allowed grad_clip value\n",
    "              if grad_clip: \n",
    "                  nn.utils.clip_grad_value_(model.parameters(), grad_clip)\n",
    "              \n",
    "              optimizer.step() # Updates weights \n",
    "              # pytorch by default accumulate grade history and if we dont want it\n",
    "              # we should make all previous grade value equals to zero\n",
    "              optimizer.zero_grad() \n",
    "              \n",
    "              # Record & update learning rate\n",
    "              lrs.append(get_lr(optimizer))\n",
    "              sched.step() # Update the learning rate\n",
    "          \n",
    "          # Compute Validation Loss and Valodation Accuracy\n",
    "          result = evaluate(model, test_dl)\n",
    "\n",
    "          # Compute Train Loss of whole epoch i.e mean of loss of batch \n",
    "          result['train_loss'] = torch.stack(train_losses).mean().item()\n",
    "\n",
    "          # Observe how learning rate is change by schedular\n",
    "          result['lrs'] = lrs\n",
    "\n",
    "          # print the observation of each epoch in a proper format\n",
    "          model.epoch_end(epoch, result) \n",
    "          strResult = \"Epoch [{}], last_lr: {:.5f}, train_loss: {:.4f}, val_loss: {:.4f}, val_acc: {:.4f}\".format(epoch, result['lrs'][-1], result['train_loss'], result['val_loss'], result['val_acc'])\n",
    "          #f.write(f\"{ModelName}-{strResult}\\n\")\n",
    "          history.append(result) # append tupple result with val_acc, vall_loss, and trin_loss\n",
    "        \n",
    "    return history"
   ]
  },
  {
   "cell_type": "markdown",
   "metadata": {
    "id": "hxRbOmgH-EBY"
   },
   "source": [
    "Train and evalute the training process anlong with train model"
   ]
  },
  {
   "cell_type": "code",
   "execution_count": null,
   "metadata": {
    "id": "ThCTWdQfusP0"
   },
   "outputs": [],
   "source": [
    "# Plot Validation accuracy Over Epoch\n",
    "def plot_accuracies(history):\n",
    "    accuracies = [x['val_acc'] for x in history]\n",
    "    plt.plot(accuracies, '-x')\n",
    "    plt.xlabel('epoch')\n",
    "    plt.ylabel('accuracy')\n",
    "    plt.title('Accuracy vs. No. of epochs');"
   ]
  },
  {
   "cell_type": "code",
   "execution_count": null,
   "metadata": {
    "id": "eLv73MUBuwBP"
   },
   "outputs": [],
   "source": [
    "# Plot training and validation loss to check for overfitting and underfitting\n",
    "def plot_losses(history):\n",
    "    train_losses = [x.get('train_loss') for x in history]\n",
    "    val_losses = [x['val_loss'] for x in history]\n",
    "    plt.plot(train_losses, '-bx')\n",
    "    plt.plot(val_losses, '-rx')\n",
    "    plt.xlabel('epoch')\n",
    "    plt.ylabel('loss')\n",
    "    plt.legend(['Training', 'Validation'])\n",
    "    plt.title('Loss vs. No. of epochs');"
   ]
  },
  {
   "cell_type": "code",
   "execution_count": null,
   "metadata": {
    "id": "qbA2Ulgduy0p"
   },
   "outputs": [],
   "source": [
    "# plot the learning rate values over each batch\n",
    "def plot_lrs(history):\n",
    "    lrs = np.concatenate([x.get('lrs', []) for x in history])\n",
    "    plt.plot(lrs)\n",
    "    plt.xlabel('Batch no.')\n",
    "    plt.ylabel('Learning rate')\n",
    "    plt.title('Learning Rate vs. Batch no.');"
   ]
  },
  {
   "cell_type": "code",
   "execution_count": null,
   "metadata": {
    "colab": {
     "base_uri": "https://localhost:8080/"
    },
    "id": "sVxTW-K4jANh",
    "outputId": "68b0d20d-226c-4631-cdc7-50b0d45d36df"
   },
   "outputs": [
    {
     "data": {
      "text/plain": [
       "VGG_Net_16(\n",
       "  (conv11): Sequential(\n",
       "    (0): Conv2d(3, 64, kernel_size=(3, 3), stride=(1, 1), padding=(1, 1))\n",
       "    (1): BatchNorm2d(64, eps=1e-05, momentum=0.1, affine=True, track_running_stats=True)\n",
       "    (2): ReLU(inplace=True)\n",
       "  )\n",
       "  (conv12): Sequential(\n",
       "    (0): Conv2d(64, 64, kernel_size=(3, 3), stride=(1, 1), padding=(1, 1))\n",
       "    (1): BatchNorm2d(64, eps=1e-05, momentum=0.1, affine=True, track_running_stats=True)\n",
       "    (2): ReLU(inplace=True)\n",
       "    (3): MaxPool2d(kernel_size=2, stride=2, padding=0, dilation=1, ceil_mode=False)\n",
       "  )\n",
       "  (conv21): Sequential(\n",
       "    (0): Conv2d(64, 128, kernel_size=(3, 3), stride=(1, 1), padding=(1, 1))\n",
       "    (1): BatchNorm2d(128, eps=1e-05, momentum=0.1, affine=True, track_running_stats=True)\n",
       "    (2): ReLU(inplace=True)\n",
       "  )\n",
       "  (conv22): Sequential(\n",
       "    (0): Conv2d(128, 128, kernel_size=(3, 3), stride=(1, 1), padding=(1, 1))\n",
       "    (1): BatchNorm2d(128, eps=1e-05, momentum=0.1, affine=True, track_running_stats=True)\n",
       "    (2): ReLU(inplace=True)\n",
       "    (3): MaxPool2d(kernel_size=2, stride=2, padding=0, dilation=1, ceil_mode=False)\n",
       "  )\n",
       "  (conv31): Sequential(\n",
       "    (0): Conv2d(128, 256, kernel_size=(3, 3), stride=(1, 1), padding=(1, 1))\n",
       "    (1): BatchNorm2d(256, eps=1e-05, momentum=0.1, affine=True, track_running_stats=True)\n",
       "    (2): ReLU(inplace=True)\n",
       "  )\n",
       "  (conv32): Sequential(\n",
       "    (0): Conv2d(256, 256, kernel_size=(3, 3), stride=(1, 1), padding=(1, 1))\n",
       "    (1): BatchNorm2d(256, eps=1e-05, momentum=0.1, affine=True, track_running_stats=True)\n",
       "    (2): ReLU(inplace=True)\n",
       "  )\n",
       "  (conv33): Sequential(\n",
       "    (0): Conv2d(256, 256, kernel_size=(3, 3), stride=(1, 1), padding=(1, 1))\n",
       "    (1): BatchNorm2d(256, eps=1e-05, momentum=0.1, affine=True, track_running_stats=True)\n",
       "    (2): ReLU(inplace=True)\n",
       "    (3): MaxPool2d(kernel_size=2, stride=2, padding=0, dilation=1, ceil_mode=False)\n",
       "  )\n",
       "  (conv41): Sequential(\n",
       "    (0): Conv2d(256, 512, kernel_size=(3, 3), stride=(1, 1), padding=(1, 1))\n",
       "    (1): BatchNorm2d(512, eps=1e-05, momentum=0.1, affine=True, track_running_stats=True)\n",
       "    (2): ReLU(inplace=True)\n",
       "  )\n",
       "  (conv42): Sequential(\n",
       "    (0): Conv2d(512, 512, kernel_size=(3, 3), stride=(1, 1), padding=(1, 1))\n",
       "    (1): BatchNorm2d(512, eps=1e-05, momentum=0.1, affine=True, track_running_stats=True)\n",
       "    (2): ReLU(inplace=True)\n",
       "  )\n",
       "  (conv43): Sequential(\n",
       "    (0): Conv2d(512, 512, kernel_size=(3, 3), stride=(1, 1), padding=(1, 1))\n",
       "    (1): BatchNorm2d(512, eps=1e-05, momentum=0.1, affine=True, track_running_stats=True)\n",
       "    (2): ReLU(inplace=True)\n",
       "    (3): MaxPool2d(kernel_size=2, stride=2, padding=0, dilation=1, ceil_mode=False)\n",
       "  )\n",
       "  (conv51): Sequential(\n",
       "    (0): Conv2d(512, 512, kernel_size=(3, 3), stride=(1, 1), padding=(1, 1))\n",
       "    (1): BatchNorm2d(512, eps=1e-05, momentum=0.1, affine=True, track_running_stats=True)\n",
       "    (2): ReLU(inplace=True)\n",
       "  )\n",
       "  (conv52): Sequential(\n",
       "    (0): Conv2d(512, 512, kernel_size=(3, 3), stride=(1, 1), padding=(1, 1))\n",
       "    (1): BatchNorm2d(512, eps=1e-05, momentum=0.1, affine=True, track_running_stats=True)\n",
       "    (2): ReLU(inplace=True)\n",
       "  )\n",
       "  (conv53): Sequential(\n",
       "    (0): Conv2d(512, 512, kernel_size=(3, 3), stride=(1, 1), padding=(1, 1))\n",
       "    (1): BatchNorm2d(512, eps=1e-05, momentum=0.1, affine=True, track_running_stats=True)\n",
       "    (2): ReLU(inplace=True)\n",
       "    (3): MaxPool2d(kernel_size=2, stride=2, padding=0, dilation=1, ceil_mode=False)\n",
       "  )\n",
       "  (FC1): Sequential(\n",
       "    (0): Dropout(p=0.6, inplace=False)\n",
       "    (1): Linear(in_features=25088, out_features=4096, bias=True)\n",
       "    (2): BatchNorm1d(4096, eps=1e-05, momentum=0.1, affine=True, track_running_stats=True)\n",
       "    (3): ReLU()\n",
       "  )\n",
       "  (FC2): Sequential(\n",
       "    (0): Dropout(p=0.6, inplace=False)\n",
       "    (1): Linear(in_features=4096, out_features=4096, bias=True)\n",
       "    (2): BatchNorm1d(4096, eps=1e-05, momentum=0.1, affine=True, track_running_stats=True)\n",
       "    (3): ReLU()\n",
       "  )\n",
       "  (output): Sequential(\n",
       "    (0): Dropout(p=0.6, inplace=False)\n",
       "    (1): Linear(in_features=25088, out_features=4096, bias=True)\n",
       "    (2): BatchNorm1d(4096, eps=1e-05, momentum=0.1, affine=True, track_running_stats=True)\n",
       "    (3): ReLU()\n",
       "  )\n",
       ")"
      ]
     },
     "execution_count": 25,
     "metadata": {
      "tags": []
     },
     "output_type": "execute_result"
    }
   ],
   "source": [
    "model = VGG_Net_16(3, 6)\n",
    "model.to(device)"
   ]
  },
  {
   "cell_type": "markdown",
   "metadata": {
    "id": "I-fhy5ntANJ6"
   },
   "source": [
    "Set the hyper parameter such as max learning rate, grad clipping which controls the magnitude of the step by bounding it to a maximum value, weight decay for L2 regularization and choose optimazation function if you want other then SGD"
   ]
  },
  {
   "cell_type": "code",
   "execution_count": null,
   "metadata": {
    "id": "5eDRwBaNbaj2"
   },
   "outputs": [],
   "source": [
    "historyfull = []"
   ]
  },
  {
   "cell_type": "code",
   "execution_count": null,
   "metadata": {
    "id": "w-PENJzVkeio"
   },
   "outputs": [],
   "source": [
    "historylast = []\n",
    "epochs = 15\n",
    "# We are using one cycle fit function in which learning rate start with 1/10th \n",
    "# of selected maximum learning rate and increase learning rate from min to max\n",
    "# in 1st phase and then decrease from max to min in 2nd phase\n",
    "max_lr = 2e-3\n",
    "grad_clip = 0.1 # Maximum allowed value of grad: grad = min(grad,0.01)\n",
    "# weight decay is a constant multiplier for L2 regularization\n",
    "weight_decay = 1e-2\n",
    "L1 = 1e-2\n",
    "# Choosing Adma optimizer as try to implement SGD+Momentum+Adaptive Learining\n",
    "opt_func = torch.optim.Adam\n",
    "MODEL_NAME = f\"VGG_Net-MLR-{max_lr}-GC{grad_clip}-WD-{weight_decay}-L1-{L1}\""
   ]
  },
  {
   "cell_type": "markdown",
   "metadata": {
    "id": "1fo00eoyBKZS"
   },
   "source": [
    "Start the training using one fit cycle algorithms where learning rate start with one tenth of provided max_lr and then increase it value till that point and then decrease onword and for last few epoch learning rate furthe decrease"
   ]
  },
  {
   "cell_type": "code",
   "execution_count": null,
   "metadata": {
    "colab": {
     "background_save": true,
     "base_uri": "https://localhost:8080/"
    },
    "id": "LwQMNy8Am8ON",
    "outputId": "e0878c29-26ec-4fc0-ba1e-0c555f774361"
   },
   "outputs": [
    {
     "name": "stdout",
     "output_type": "stream",
     "text": [
      "Training Starts\n",
      "Epoch [0], last_lr: 0.00030, train_loss: 1.8249, val_loss: 2.0440, val_acc: 0.0000\n",
      "Epoch [1], last_lr: 0.00087, train_loss: 2.0113, val_loss: 2.4103, val_acc: 0.0833\n",
      "Epoch [2], last_lr: 0.00152, train_loss: 2.0919, val_loss: 1.8880, val_acc: 0.1667\n",
      "Epoch [3], last_lr: 0.00194, train_loss: 2.0466, val_loss: 3.5386, val_acc: 0.0833\n",
      "Epoch [4], last_lr: 0.00199, train_loss: 1.9816, val_loss: 4.8036, val_acc: 0.2500\n",
      "Epoch [5], last_lr: 0.00190, train_loss: 1.9223, val_loss: 2.3006, val_acc: 0.0833\n",
      "Epoch [6], last_lr: 0.00173, train_loss: 1.8618, val_loss: 2.2237, val_acc: 0.0833\n",
      "Epoch [7], last_lr: 0.00150, train_loss: 1.8536, val_loss: 1.7736, val_acc: 0.1667\n",
      "Epoch [8], last_lr: 0.00122, train_loss: 1.8349, val_loss: 2.3389, val_acc: 0.0833\n",
      "Epoch [9], last_lr: 0.00093, train_loss: 1.8158, val_loss: 1.8089, val_acc: 0.0833\n",
      "Epoch [10], last_lr: 0.00063, train_loss: 1.8138, val_loss: 1.9270, val_acc: 0.2500\n",
      "Epoch [11], last_lr: 0.00038, train_loss: 1.7866, val_loss: 2.0022, val_acc: 0.0833\n",
      "Epoch [12], last_lr: 0.00017, train_loss: 1.7830, val_loss: 2.0419, val_acc: 0.0000\n",
      "Epoch [13], last_lr: 0.00004, train_loss: 1.7406, val_loss: 2.1036, val_acc: 0.0000\n",
      "Epoch [14], last_lr: 0.00000, train_loss: 1.7440, val_loss: 2.1490, val_acc: 0.0000\n",
      "CPU times: user 4min 29s, sys: 59.2 s, total: 5min 28s\n",
      "Wall time: 5min 29s\n"
     ]
    }
   ],
   "source": [
    "%%time\n",
    "historylast += fit_one_cycle(MODEL_NAME,epochs, max_lr, model, train_dl, test_dl, \n",
    "                             grad_clip=grad_clip, \n",
    "                             weight_decay=weight_decay, L1=L1,\n",
    "                             opt_func=opt_func)"
   ]
  },
  {
   "cell_type": "code",
   "execution_count": null,
   "metadata": {
    "colab": {
     "background_save": true
    },
    "id": "0fQY0wX6coby"
   },
   "outputs": [],
   "source": [
    "for item in historylast:\n",
    "  historyfull.append(item)"
   ]
  },
  {
   "cell_type": "markdown",
   "metadata": {
    "id": "uC-T_I05Cgrv"
   },
   "source": [
    "Keep full progress if running multiple run of above cycle\n"
   ]
  },
  {
   "cell_type": "code",
   "execution_count": null,
   "metadata": {
    "colab": {
     "background_save": true
    },
    "id": "WuB1YFxJu1LC",
    "outputId": "4bff5053-fccc-411a-d0da-e50333640359"
   },
   "outputs": [
    {
     "name": "stdout",
     "output_type": "stream",
     "text": [
      "Accuracy in last run\n"
     ]
    },
    {
     "data": {
      "image/png": "[encoded data removed]",
      "text/plain": [
       "<Figure size 432x288 with 1 Axes>"
      ]
     },
     "metadata": {},
     "output_type": "display_data"
    }
   ],
   "source": [
    "print(\"Accuracy in last run\")\n",
    "plot_accuracies(historylast)"
   ]
  },
  {
   "cell_type": "code",
   "execution_count": null,
   "metadata": {
    "colab": {
     "background_save": true
    },
    "id": "jAlXPExrdJoX",
    "outputId": "f0bc1ad5-302c-40ab-ae0a-ab87ae75f8af"
   },
   "outputs": [
    {
     "name": "stdout",
     "output_type": "stream",
     "text": [
      "Accuracy is all run\n"
     ]
    },
    {
     "data": {
      "image/png": "[encoded data removed]",
      "text/plain": [
       "<Figure size 432x288 with 1 Axes>"
      ]
     },
     "metadata": {},
     "output_type": "display_data"
    }
   ],
   "source": [
    "print(\"Accuracy is all run\")\n",
    "plot_accuracies(historyfull)"
   ]
  },
  {
   "cell_type": "code",
   "execution_count": null,
   "metadata": {
    "colab": {
     "background_save": true
    },
    "id": "aOWKnBplu6N1",
    "outputId": "e1dda8cb-a7a8-4144-b411-bb15ad26c509"
   },
   "outputs": [
    {
     "name": "stdout",
     "output_type": "stream",
     "text": [
      "Loss of last run\n"
     ]
    },
    {
     "data": {
      "image/png": "[encoded data removed]",
      "text/plain": [
       "<Figure size 432x288 with 1 Axes>"
      ]
     },
     "metadata": {},
     "output_type": "display_data"
    }
   ],
   "source": [
    "print(\"Loss of last run\")\n",
    "plot_losses(historylast)"
   ]
  },
  {
   "cell_type": "code",
   "execution_count": null,
   "metadata": {
    "colab": {
     "background_save": true
    },
    "id": "d7iRkJWldZYz",
    "outputId": "ed45c524-ad90-407a-f076-2baede44de87"
   },
   "outputs": [
    {
     "name": "stdout",
     "output_type": "stream",
     "text": [
      "Loss in All run\n"
     ]
    },
    {
     "data": {
      "image/png": "[encoded data removed]",
      "text/plain": [
       "<Figure size 432x288 with 1 Axes>"
      ]
     },
     "metadata": {},
     "output_type": "display_data"
    }
   ],
   "source": [
    "print(\"Loss in All run\")\n",
    "plot_losses(historyfull)"
   ]
  },
  {
   "cell_type": "code",
   "execution_count": null,
   "metadata": {
    "colab": {
     "background_save": true
    },
    "id": "B_TPfA6Nu9Dt",
    "outputId": "118c52e4-7d26-4432-f758-f4e738497b1b"
   },
   "outputs": [
    {
     "name": "stdout",
     "output_type": "stream",
     "text": [
      "Learning rate of last run\n"
     ]
    },
    {
     "data": {
      "image/png": "[encoded data removed]",
      "text/plain": [
       "<Figure size 432x288 with 1 Axes>"
      ]
     },
     "metadata": {},
     "output_type": "display_data"
    }
   ],
   "source": [
    "print(\"Learning rate of last run\")\n",
    "plot_lrs(historylast)"
   ]
  },
  {
   "cell_type": "code",
   "execution_count": null,
   "metadata": {
    "colab": {
     "background_save": true
    },
    "id": "fHRvjqpIdu1g",
    "outputId": "8de71448-bb42-42af-a305-9da672cda5b8"
   },
   "outputs": [
    {
     "name": "stdout",
     "output_type": "stream",
     "text": [
      "Learning rate of all run\n"
     ]
    },
    {
     "data": {
      "image/png": "[encoded data removed]",
      "text/plain": [
       "<Figure size 432x288 with 1 Axes>"
      ]
     },
     "metadata": {},
     "output_type": "display_data"
    }
   ],
   "source": [
    "print(\"Learning rate of all run\")\n",
    "plot_lrs(historyfull)"
   ]
  },
  {
   "cell_type": "code",
   "execution_count": null,
   "metadata": {
    "colab": {
     "background_save": true
    },
    "id": "AHX-59zmvAa1",
    "outputId": "ec26cfc4-c626-40dc-c811-0d3693bd66f0"
   },
   "outputs": [
    {
     "name": "stdout",
     "output_type": "stream",
     "text": [
      "['8.33', '8.33', '16.67', '0.00', '0.00', '0.00', '8.33', '0.00', '33.33', '8.33', '0.00', '0.00', '0.00', '0.00', '0.00', '0.00', '8.33', '16.67', '8.33', '25.00', '8.33', '8.33', '16.67', '8.33', '8.33', '25.00', '8.33', '0.00', '0.00', '0.00']\n"
     ]
    }
   ],
   "source": [
    "accuracies = [x['val_acc']*100 for x in historylast]\n",
    "accuracies = [\"%.2f\" % v for v in accuracies]\n",
    "print(accuracies)"
   ]
  },
  {
   "cell_type": "code",
   "execution_count": null,
   "metadata": {
    "id": "fmLa4W_XvEc_"
   },
   "outputs": [],
   "source": [
    "def accuraciesTotal(data_loader):\n",
    "  acc = []\n",
    "  for batch in data_loader:\n",
    "    images, label = batch\n",
    "    images, labels = batch[0].to(device), batch[1].to(device)\n",
    "    out = model(images)\n",
    "    acc.append(accuracy(out, labels))\n",
    "  return torch.mean(torch.stack(acc))"
   ]
  },
  {
   "cell_type": "code",
   "execution_count": null,
   "metadata": {
    "colab": {
     "base_uri": "https://localhost:8080/"
    },
    "id": "L-C3bwmUvGpF",
    "outputId": "d514135d-045c-467f-ff9d-6767ffa42365"
   },
   "outputs": [
    {
     "name": "stdout",
     "output_type": "stream",
     "text": [
      "Train Acc :tensor(0.3989)\n",
      "Test  Acc :tensor(0.2812)\n"
     ]
    }
   ],
   "source": [
    "trainacc = accuraciesTotal(train_dl)\n",
    "testacc = accuraciesTotal(test_dl)\n",
    "print(\"Train Acc :\" + str(trainacc) + \"\\nTest  Acc :\" +str(testacc))"
   ]
  },
  {
   "cell_type": "markdown",
   "metadata": {
    "id": "xq3uqoZm87Bb"
   },
   "source": [
    "# Below code shows basic unstructure pruning methods provided by the pytorch. Here if we want to apply custom pruning then we need to write our own compute_mask function "
   ]
  },
  {
   "cell_type": "code",
   "execution_count": null,
   "metadata": {
    "colab": {
     "base_uri": "https://localhost:8080/"
    },
    "id": "vIqrLz1lCxGW",
    "outputId": "de777e10-46ee-4234-fe7a-11d1a4b7c4df"
   },
   "outputs": [
    {
     "name": "stdout",
     "output_type": "stream",
     "text": [
      "[Conv2d(3, 64, kernel_size=(3, 3), stride=(1, 1), padding=(1, 1)), Conv2d(64, 64, kernel_size=(3, 3), stride=(1, 1), padding=(1, 1)), Conv2d(64, 128, kernel_size=(3, 3), stride=(1, 1), padding=(1, 1)), Conv2d(128, 128, kernel_size=(3, 3), stride=(1, 1), padding=(1, 1)), Conv2d(128, 256, kernel_size=(3, 3), stride=(1, 1), padding=(1, 1)), Conv2d(256, 256, kernel_size=(3, 3), stride=(1, 1), padding=(1, 1)), Conv2d(256, 256, kernel_size=(3, 3), stride=(1, 1), padding=(1, 1)), Conv2d(256, 512, kernel_size=(3, 3), stride=(1, 1), padding=(1, 1)), Conv2d(512, 512, kernel_size=(3, 3), stride=(1, 1), padding=(1, 1)), Conv2d(512, 512, kernel_size=(3, 3), stride=(1, 1), padding=(1, 1)), Conv2d(512, 512, kernel_size=(3, 3), stride=(1, 1), padding=(1, 1)), Conv2d(512, 512, kernel_size=(3, 3), stride=(1, 1), padding=(1, 1)), Conv2d(512, 512, kernel_size=(3, 3), stride=(1, 1), padding=(1, 1))]\n"
     ]
    }
   ],
   "source": [
    "Module = [model.conv11[0], model.conv12[0],\n",
    "          model.conv21[0],model.conv22[0],\n",
    "          model.conv31[0], model.conv32[0], model.conv33[0],\n",
    "          model.conv41[0], model.conv42[0], model.conv43[0],\n",
    "          model.conv51[0], model.conv52[0], model.conv53[0]\n",
    "]\n",
    "print(Module)\n"
   ]
  },
  {
   "cell_type": "code",
   "execution_count": null,
   "metadata": {
    "colab": {
     "base_uri": "https://localhost:8080/"
    },
    "id": "X9-mPS4MLnF5",
    "outputId": "728c2dce-2027-4ddb-d34e-a4dc468257fa"
   },
   "outputs": [
    {
     "name": "stdout",
     "output_type": "stream",
     "text": [
      "Conv2d(3, 64, kernel_size=(3, 3), stride=(1, 1), padding=(1, 1))\n",
      "Conv2d(64, 64, kernel_size=(3, 3), stride=(1, 1), padding=(1, 1))\n",
      "Conv2d(64, 128, kernel_size=(3, 3), stride=(1, 1), padding=(1, 1))\n",
      "Conv2d(128, 128, kernel_size=(3, 3), stride=(1, 1), padding=(1, 1))\n",
      "Conv2d(128, 256, kernel_size=(3, 3), stride=(1, 1), padding=(1, 1))\n",
      "Conv2d(256, 256, kernel_size=(3, 3), stride=(1, 1), padding=(1, 1))\n",
      "Conv2d(256, 256, kernel_size=(3, 3), stride=(1, 1), padding=(1, 1))\n",
      "Conv2d(256, 512, kernel_size=(3, 3), stride=(1, 1), padding=(1, 1))\n",
      "Conv2d(512, 512, kernel_size=(3, 3), stride=(1, 1), padding=(1, 1))\n",
      "Conv2d(512, 512, kernel_size=(3, 3), stride=(1, 1), padding=(1, 1))\n",
      "Conv2d(512, 512, kernel_size=(3, 3), stride=(1, 1), padding=(1, 1))\n",
      "Conv2d(512, 512, kernel_size=(3, 3), stride=(1, 1), padding=(1, 1))\n",
      "Conv2d(512, 512, kernel_size=(3, 3), stride=(1, 1), padding=(1, 1))\n"
     ]
    }
   ],
   "source": [
    "for i in range(len(Module)):\n",
    "  print(Module[i])"
   ]
  },
  {
   "cell_type": "code",
   "execution_count": null,
   "metadata": {
    "id": "RUTs1zRXMifG"
   },
   "outputs": [],
   "source": [
    "pr = [.1,.1,.1,.1,.2,.2,.2,.25,.25,.25,.25,.25,.25]\n",
    "for i in range(len(Module)):\n",
    "  prune.ln_structured(Module[i], name=\"weight\", amount=pr[i], n=1, dim=0)"
   ]
  },
  {
   "cell_type": "code",
   "execution_count": null,
   "metadata": {
    "colab": {
     "base_uri": "https://localhost:8080/",
     "height": 35
    },
    "id": "unc3vXMqNAaG",
    "outputId": "7b56419c-0516-487e-c6c9-a6de7758acfa"
   },
   "outputs": [
    {
     "data": {
      "application/vnd.google.colaboratory.intrinsic+json": {
       "type": "string"
      },
      "text/plain": [
       "'\\nfor i in range(len(Module)):\\n  print(Module[i].weight)\\n'"
      ]
     },
     "execution_count": 42,
     "metadata": {
      "tags": []
     },
     "output_type": "execute_result"
    }
   ],
   "source": [
    "'''\n",
    "for i in range(len(Module)):\n",
    "  print(Module[i].weight)\n",
    "'''"
   ]
  },
  {
   "cell_type": "code",
   "execution_count": null,
   "metadata": {
    "id": "IAZl0FkQPNuK"
   },
   "outputs": [],
   "source": [
    "for i in range(len(Module)):\n",
    "  prune.remove(Module[i], 'weight')"
   ]
  },
  {
   "cell_type": "code",
   "execution_count": null,
   "metadata": {
    "id": "jzMqzUcL5AnE"
   },
   "outputs": [],
   "source": [
    "import torch.nn.utils.prune as prune\n",
    "parameters_to_prune = (\n",
    "    (model.conv11[0], 'weight'),\n",
    "    (model.conv12[0], 'weight'),\n",
    "\n",
    "    (model.conv21[0], 'weight'),\n",
    "    (model.conv22[0], 'weight'),\n",
    "\n",
    "    (model.conv31[0], 'weight'),\n",
    "    (model.conv32[0], 'weight'),\n",
    "    (model.conv33[0], 'weight'),\n",
    "\n",
    "    (model.conv41[0], 'weight'),\n",
    "    (model.conv42[0], 'weight'),\n",
    "    (model.conv43[0], 'weight'),\n",
    "\n",
    "    (model.conv51[0], 'weight'),\n",
    "    (model.conv52[0], 'weight'),\n",
    "    (model.conv53[0], 'weight'),\n",
    ")"
   ]
  },
  {
   "cell_type": "code",
   "execution_count": null,
   "metadata": {
    "id": "SlFvcWy0SqXm"
   },
   "outputs": [],
   "source": [
    "prune.global_unstructured(\n",
    "    parameters_to_prune,\n",
    "    pruning_method=prune.L1Unstructured,\n",
    "    amount=0.2,\n",
    ")"
   ]
  },
  {
   "cell_type": "code",
   "execution_count": null,
   "metadata": {
    "id": "mvVXwL_X1eVs"
   },
   "outputs": [],
   "source": [
    "print(parameters_to_prune)"
   ]
  },
  {
   "cell_type": "code",
   "execution_count": null,
   "metadata": {
    "id": "HR2fTpzw5EOm"
   },
   "outputs": [],
   "source": [
    "print(\n",
    "    \"Sparsity in conv1.weight: {:.2f}%\".format(\n",
    "        100. * float(torch.sum(model.conv11[0].weight == 0))\n",
    "        / float(model.conv11[0].weight.nelement())\n",
    "    )\n",
    ")\n",
    "print(\n",
    "    \"Sparsity in conv2.weight: {:.2f}%\".format(\n",
    "        100. * float(torch.sum(model.conv12[0].weight == 0))\n",
    "        / float(model.conv12[0].weight.nelement())\n",
    "    )\n",
    ")\n",
    "\n",
    "print(\n",
    "    \"Sparsity in conv3.weight: {:.2f}%\".format(\n",
    "        100. * float(torch.sum(model.conv21[0].weight == 0))\n",
    "        / float(model.conv21[0].weight.nelement())\n",
    "    )\n",
    ")\n",
    "print(\n",
    "    \"Sparsity in conv3.weight: {:.2f}%\".format(\n",
    "        100. * float(torch.sum(model.conv22[0].weight == 0))\n",
    "        / float(model.conv22[0].weight.nelement())\n",
    "    )\n",
    ")\n",
    "\n",
    "print(\n",
    "    \"Sparsity in conv4.weight: {:.2f}%\".format(\n",
    "        100. * float(torch.sum(model.conv31[0].weight == 0))\n",
    "        / float(model.conv31[0].weight.nelement())\n",
    "    )\n",
    ")\n",
    "print(\n",
    "    \"Sparsity in conv3.weight: {:.2f}%\".format(\n",
    "        100. * float(torch.sum(model.conv32[0].weight == 0))\n",
    "        / float(model.conv32[0].weight.nelement())\n",
    "    )\n",
    ")\n",
    "print(\n",
    "    \"Sparsity in conv3.weight: {:.2f}%\".format(\n",
    "        100. * float(torch.sum(model.conv33[0].weight == 0))\n",
    "        / float(model.conv33[0].weight.nelement())\n",
    "    )\n",
    ")\n",
    "\n",
    "print(\n",
    "    \"Sparsity in conv3.weight: {:.2f}%\".format(\n",
    "        100. * float(torch.sum(model.conv41[0].weight == 0))\n",
    "        / float(model.conv41[0].weight.nelement())\n",
    "    )\n",
    ")\n",
    "print(\n",
    "    \"Sparsity in conv3.weight: {:.2f}%\".format(\n",
    "        100. * float(torch.sum(model.conv42[0].weight == 0))\n",
    "        / float(model.conv21[0].weight.nelement())\n",
    "    )\n",
    ")\n",
    "print(\n",
    "    \"Sparsity in conv3.weight: {:.2f}%\".format(\n",
    "        100. * float(torch.sum(model.conv43[0].weight == 0))\n",
    "        / float(model.conv43[0].weight.nelement())\n",
    "    )\n",
    ")\n",
    "\n",
    "print(\n",
    "    \"Sparsity in conv3.weight: {:.2f}%\".format(\n",
    "        100. * float(torch.sum(model.conv51[0].weight == 0))\n",
    "        / float(model.conv51[0].weight.nelement())\n",
    "    )\n",
    ")\n",
    "print(\n",
    "    \"Sparsity in conv3.weight: {:.2f}%\".format(\n",
    "        100. * float(torch.sum(model.conv52[0].weight == 0))\n",
    "        / float(model.conv52[0].weight.nelement())\n",
    "    )\n",
    ")\n",
    "print(\n",
    "    \"Sparsity in conv3.weight: {:.2f}%\".format(\n",
    "        100. * float(torch.sum(model.conv53[0].weight == 0))\n",
    "        / float(model.conv53[0].weight.nelement())\n",
    "    )\n",
    ")\n",
    "    \n",
    "\n",
    "\n",
    "print(\n",
    "    \"Global sparsity: {:.2f}%\".format(\n",
    "        100. * float(\n",
    "            torch.sum(model.conv11[0].weight == 0)\n",
    "            + torch.sum(model.conv12[0].weight == 0)\n",
    "            \n",
    "            + torch.sum(model.conv21[0].weight == 0)\n",
    "            + torch.sum(model.conv22[0].weight == 0)\n",
    "            \n",
    "            + torch.sum(model.conv31[0].weight == 0)\n",
    "            + torch.sum(model.conv32[0].weight == 0)\n",
    "            + torch.sum(model.conv33[0].weight == 0)\n",
    "\n",
    "            + torch.sum(model.conv41[0].weight == 0)\n",
    "            + torch.sum(model.conv42[0].weight == 0)\n",
    "            + torch.sum(model.conv43[0].weight == 0)\n",
    "\n",
    "            + torch.sum(model.conv51[0].weight == 0)\n",
    "            + torch.sum(model.conv52[0].weight == 0)\n",
    "            + torch.sum(model.conv53[0].weight == 0)\n",
    "\n",
    "        )\n",
    "        / float(\n",
    "            \n",
    "            model.conv11[0].weight.nelement()\n",
    "            + model.conv12[0].weight.nelement()\n",
    "\n",
    "            + model.conv21[0].weight.nelement()\n",
    "            + model.conv22[0].weight.nelement()\n",
    "\n",
    "            + model.conv31[0].weight.nelement()\n",
    "            + model.conv32[0].weight.nelement()\n",
    "            + model.conv33[0].weight.nelement()\n",
    "\n",
    "            + model.conv41[0].weight.nelement()\n",
    "            + model.conv42[0].weight.nelement()\n",
    "            + model.conv43[0].weight.nelement()\n",
    "\n",
    "            + model.conv51[0].weight.nelement()\n",
    "            + model.conv52[0].weight.nelement()\n",
    "            + model.conv53[0].weight.nelement()\n",
    "        )\n",
    "    )\n",
    ")\n"
   ]
  },
  {
   "cell_type": "code",
   "execution_count": null,
   "metadata": {
    "id": "HGGLX6LbU_6l"
   },
   "outputs": [],
   "source": [
    "prune.remove(model.conv11[0], 'weight')\n",
    "prune.remove(model.conv12[0], 'weight')\n",
    "\n",
    "prune.remove(model.conv22[0], 'weight')\n",
    "prune.remove(model.conv21[0], 'weight')\n",
    "\n",
    "prune.remove(model.conv31[0], 'weight')\n",
    "prune.remove(model.conv32[0], 'weight')\n",
    "prune.remove(model.conv33[0], 'weight')\n",
    "\n",
    "prune.remove(model.conv41[0], 'weight')\n",
    "prune.remove(model.conv42[0], 'weight')\n",
    "prune.remove(model.conv43[0], 'weight')\n",
    "\n",
    "prune.remove(model.conv51[0], 'weight')\n",
    "prune.remove(model.conv52[0], 'weight')\n",
    "prune.remove(model.conv53[0], 'weight')"
   ]
  },
  {
   "cell_type": "code",
   "execution_count": null,
   "metadata": {
    "id": "JneoVATT9XzO"
   },
   "outputs": [],
   "source": []
  }
 ],
 "metadata": {
  "accelerator": "GPU",
  "colab": {
   "collapsed_sections": [],
   "include_colab_link": true,
   "name": "04 VGG_Net16_BasicPruning.ipynb",
   "provenance": []
  },
  "kernelspec": {
   "display_name": "Python 3 (ipykernel)",
   "language": "python",
   "name": "python3"
  },
  "language_info": {
   "codemirror_mode": {
    "name": "ipython",
    "version": 3
   },
   "file_extension": ".py",
   "mimetype": "text/x-python",
   "name": "python",
   "nbconvert_exporter": "python",
   "pygments_lexer": "ipython3",
   "version": "3.9.7"
  }
 },
 "nbformat": 4,
 "nbformat_minor": 1
}
